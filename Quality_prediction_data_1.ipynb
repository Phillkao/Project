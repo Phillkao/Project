{
  "nbformat": 4,
  "nbformat_minor": 0,
  "metadata": {
    "colab": {
      "name": "Quality prediction data.ipynb",
      "version": "0.3.2",
      "provenance": [],
      "collapsed_sections": [
        "Eu-cDu3F8n51",
        "SMW6Wgju8n5-"
      ],
      "include_colab_link": true
    },
    "language_info": {
      "codemirror_mode": {
        "name": "ipython",
        "version": 3
      },
      "file_extension": ".py",
      "mimetype": "text/x-python",
      "name": "python",
      "nbconvert_exporter": "python",
      "pygments_lexer": "ipython3",
      "version": "3.7.3"
    },
    "kernelspec": {
      "name": "python3",
      "display_name": "Python 3"
    },
    "accelerator": "TPU"
  },
  "cells": [
    {
      "cell_type": "markdown",
      "metadata": {
        "id": "view-in-github",
        "colab_type": "text"
      },
      "source": [
        "<a href=\"https://colab.research.google.com/github/Phillkao/Project/blob/master/Quality_prediction_data_1.ipynb\" target=\"_parent\"><img src=\"https://colab.research.google.com/assets/colab-badge.svg\" alt=\"Open In Colab\"/></a>"
      ]
    },
    {
      "cell_type": "code",
      "metadata": {
        "id": "tDdL1lH_8n5K",
        "colab_type": "code",
        "colab": {}
      },
      "source": [
        "import pandas as pd\n",
        "import numpy as np\n",
        "import matplotlib.pyplot as plt\n",
        "import seaborn as sn\n",
        "\n",
        "import os"
      ],
      "execution_count": 0,
      "outputs": []
    },
    {
      "cell_type": "markdown",
      "metadata": {
        "id": "7ISaZ0Ip8n5P",
        "colab_type": "text"
      },
      "source": [
        "#### FILE PATH"
      ]
    },
    {
      "cell_type": "code",
      "metadata": {
        "id": "Rw6xf8oe8n5Q",
        "colab_type": "code",
        "outputId": "61c25ce2-295a-4990-9ea0-ec38d45f6e81",
        "colab": {
          "resources": {
            "http://localhost:8080/nbextensions/google.colab/files.js": {
              "data": "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",
              "ok": true,
              "headers": [
                [
                  "content-type",
                  "application/javascript"
                ]
              ],
              "status": 200,
              "status_text": ""
            }
          },
          "base_uri": "https://localhost:8080/",
          "height": 2080
        }
      },
      "source": [
        "from google.colab import files\n",
        "uploaded = files.upload()\n",
        "\n",
        "for fn in uploaded.keys():\n",
        "  print('User uploaded file \"{name}\" with length {length} bytes'.format(\n",
        "      name=fn, length=len(uploaded[fn])))"
      ],
      "execution_count": 193,
      "outputs": [
        {
          "output_type": "display_data",
          "data": {
            "text/html": [
              "\n",
              "     <input type=\"file\" id=\"files-8c970d75-e54f-4125-af8d-ed2c334fedc8\" name=\"files[]\" multiple disabled />\n",
              "     <output id=\"result-8c970d75-e54f-4125-af8d-ed2c334fedc8\">\n",
              "      Upload widget is only available when the cell has been executed in the\n",
              "      current browser session. Please rerun this cell to enable.\n",
              "      </output>\n",
              "      <script src=\"/nbextensions/google.colab/files.js\"></script> "
            ],
            "text/plain": [
              "<IPython.core.display.HTML object>"
            ]
          },
          "metadata": {
            "tags": []
          }
        },
        {
          "output_type": "stream",
          "text": [
            "Saving 20160419001_2016419_114348.xls to 20160419001_2016419_114348 (1).xls\n",
            "Saving 20160419002_2016419_132916.xls to 20160419002_2016419_132916 (1).xls\n",
            "Saving 20160419004_2016419_153453.xls to 20160419004_2016419_153453 (1).xls\n",
            "Saving 20160419005_2016419_164411.xls to 20160419005_2016419_164411 (1).xls\n",
            "Saving 20160421002_2016421_171815.xls to 20160421002_2016421_171815 (1).xls\n",
            "Saving 20160421003_2016421_182129.xls to 20160421003_2016421_182129 (1).xls\n",
            "Saving 20160422001_2016422_95822.xls to 20160422001_2016422_95822 (1).xls\n",
            "Saving 20160422002_2016422_111140.xls to 20160422002_2016422_111140 (1).xls\n",
            "Saving 20160422003_2016422_161044.xls to 20160422003_2016422_161044 (1).xls\n",
            "Saving 20160425001_2016425_94440.xls to 20160425001_2016425_94440 (1).xls\n",
            "Saving 20160425002_2016425_104626.xls to 20160425002_2016425_104626 (1).xls\n",
            "Saving 20160425003_2016425_11527.xls to 20160425003_2016425_11527 (1).xls\n",
            "Saving 20160425004_2016425_131231.xls to 20160425004_2016425_131231 (1).xls\n",
            "Saving 20160425005_2016425_161517.xls to 20160425005_2016425_161517 (1).xls\n",
            "Saving 20160425009_2016425_19220.xls to 20160425009_2016425_19220 (1).xls\n",
            "Saving 20160426000_2016426_93632.xls to 20160426000_2016426_93632 (1).xls\n",
            "Saving 20160426001_2016426_104437.xls to 20160426001_2016426_104437 (1).xls\n",
            "Saving 20160426002_2016426_115725.xls to 20160426002_2016426_115725 (1).xls\n",
            "Saving 20160426004_2016426_165510.xls to 20160426004_2016426_165510 (1).xls\n",
            "Saving 20160426005_2016426_18652.xls to 20160426005_2016426_18652 (1).xls\n",
            "Saving 20160427001_2016427_14570.xls to 20160427001_2016427_14570 (1).xls\n",
            "Saving 20160427002_2016427_16045.xls to 20160427002_2016427_16045 (1).xls\n",
            "Saving 20160427004_2016427_1871.xls to 20160427004_2016427_1871 (1).xls\n",
            "Saving 20160428002_2016428_10314.xls to 20160428002_2016428_10314 (1).xls\n",
            "Saving 20160428003_2016428_11622.xls to 20160428003_2016428_11622 (1).xls\n",
            "Saving 20160428004_2016428_12638.xls to 20160428004_2016428_12638 (1).xls\n",
            "Saving 20160428005_2016428_131728.xls to 20160428005_2016428_131728 (1).xls\n",
            "Saving 20160428007_2016428_15325.xls to 20160428007_2016428_15325 (1).xls\n",
            "Saving 20160428011_2016428_191949.xls to 20160428011_2016428_191949 (1).xls\n",
            "Saving 20160429001_2016429_94620.xls to 20160429001_2016429_94620 (1).xls\n",
            "Saving 20160429002_2016429_104511.xls to 20160429002_2016429_104511 (1).xls\n",
            "Saving 20160429003_2016429_11447.xls to 20160429003_2016429_11447 (1).xls\n",
            "Saving 20160429004_2016429_14936.xls to 20160429004_2016429_14936 (1).xls\n",
            "Saving 20160519001_2016519_145215.xls to 20160519001_2016519_145215 (1).xls\n",
            "Saving 20160519003_2016519_16513.xls to 20160519003_2016519_16513 (1).xls\n",
            "Saving 20160520000_2016520_105518.xls to 20160520000_2016520_105518 (1).xls\n",
            "Saving 20160520001_2016520_161526.xls to 20160520001_2016520_161526 (1).xls\n",
            "Saving 20160523000_2016523_112052.xls to 20160523000_2016523_112052 (1).xls\n",
            "Saving 20160523001_2016523_132720.xls to 20160523001_2016523_132720 (1).xls\n",
            "Saving 20160523002_2016523_142635.xls to 20160523002_2016523_142635 (1).xls\n",
            "User uploaded file \"20160419001_2016419_114348.xls\" with length 730624 bytes\n",
            "User uploaded file \"20160419002_2016419_132916.xls\" with length 730624 bytes\n",
            "User uploaded file \"20160419004_2016419_153453.xls\" with length 730624 bytes\n",
            "User uploaded file \"20160419005_2016419_164411.xls\" with length 730624 bytes\n",
            "User uploaded file \"20160421002_2016421_171815.xls\" with length 730624 bytes\n",
            "User uploaded file \"20160421003_2016421_182129.xls\" with length 730624 bytes\n",
            "User uploaded file \"20160422001_2016422_95822.xls\" with length 730624 bytes\n",
            "User uploaded file \"20160422002_2016422_111140.xls\" with length 730624 bytes\n",
            "User uploaded file \"20160422003_2016422_161044.xls\" with length 730624 bytes\n",
            "User uploaded file \"20160425001_2016425_94440.xls\" with length 730624 bytes\n",
            "User uploaded file \"20160425002_2016425_104626.xls\" with length 730624 bytes\n",
            "User uploaded file \"20160425003_2016425_11527.xls\" with length 730624 bytes\n",
            "User uploaded file \"20160425004_2016425_131231.xls\" with length 730624 bytes\n",
            "User uploaded file \"20160425005_2016425_161517.xls\" with length 730624 bytes\n",
            "User uploaded file \"20160425009_2016425_19220.xls\" with length 730624 bytes\n",
            "User uploaded file \"20160426000_2016426_93632.xls\" with length 730624 bytes\n",
            "User uploaded file \"20160426001_2016426_104437.xls\" with length 730624 bytes\n",
            "User uploaded file \"20160426002_2016426_115725.xls\" with length 730624 bytes\n",
            "User uploaded file \"20160426004_2016426_165510.xls\" with length 730624 bytes\n",
            "User uploaded file \"20160426005_2016426_18652.xls\" with length 730624 bytes\n",
            "User uploaded file \"20160427001_2016427_14570.xls\" with length 730624 bytes\n",
            "User uploaded file \"20160427002_2016427_16045.xls\" with length 730624 bytes\n",
            "User uploaded file \"20160427004_2016427_1871.xls\" with length 728064 bytes\n",
            "User uploaded file \"20160428002_2016428_10314.xls\" with length 730624 bytes\n",
            "User uploaded file \"20160428003_2016428_11622.xls\" with length 730624 bytes\n",
            "User uploaded file \"20160428004_2016428_12638.xls\" with length 730624 bytes\n",
            "User uploaded file \"20160428005_2016428_131728.xls\" with length 730624 bytes\n",
            "User uploaded file \"20160428007_2016428_15325.xls\" with length 730624 bytes\n",
            "User uploaded file \"20160428011_2016428_191949.xls\" with length 730624 bytes\n",
            "User uploaded file \"20160429001_2016429_94620.xls\" with length 730624 bytes\n",
            "User uploaded file \"20160429002_2016429_104511.xls\" with length 730624 bytes\n",
            "User uploaded file \"20160429003_2016429_11447.xls\" with length 730624 bytes\n",
            "User uploaded file \"20160429004_2016429_14936.xls\" with length 730624 bytes\n",
            "User uploaded file \"20160519001_2016519_145215.xls\" with length 730624 bytes\n",
            "User uploaded file \"20160519003_2016519_16513.xls\" with length 730624 bytes\n",
            "User uploaded file \"20160520000_2016520_105518.xls\" with length 730624 bytes\n",
            "User uploaded file \"20160520001_2016520_161526.xls\" with length 730624 bytes\n",
            "User uploaded file \"20160523000_2016523_112052.xls\" with length 730624 bytes\n",
            "User uploaded file \"20160523001_2016523_132720.xls\" with length 730624 bytes\n",
            "User uploaded file \"20160523002_2016523_142635.xls\" with length 730624 bytes\n"
          ],
          "name": "stdout"
        }
      ]
    },
    {
      "cell_type": "code",
      "metadata": {
        "id": "UoOpfiEN9Hi5",
        "colab_type": "code",
        "colab": {}
      },
      "source": [
        "pathl = []\n",
        "df = []\n",
        "t = []\n",
        "for fn in uploaded.keys():\n",
        "    pathl.append(fn)\n",
        "for i in range(40):\n",
        "    df.append(\"df%d\" % i)  \n",
        "    t.append(\"t%d\" % i)"
      ],
      "execution_count": 0,
      "outputs": []
    },
    {
      "cell_type": "code",
      "metadata": {
        "scrolled": true,
        "id": "lDuFYbhI8n5U",
        "colab_type": "code",
        "colab": {}
      },
      "source": [
        "y = []\n",
        "data1=[]\n",
        "data2=[]\n",
        "data3=[]\n",
        "data4 =[]\n",
        "X_1 = []\n",
        "X_2 = []\n",
        "for i in range(40):\n",
        "    #read files into list\n",
        "    df[i] = pd.read_excel(pathl[i])\n",
        "    \n",
        "    #dealing with y array\n",
        "    df_y = df[i].loc[7499]\n",
        "    y.append(np.float64(df_y.values[0][9:]))\n",
        "    df[i] = df[i][0:7499]\n",
        "    \n",
        "    #cleaning data\n",
        "    col_1 = pd.DataFrame(df[i].columns.values.reshape(1,4), index=[0], columns = list('ABCD'), dtype= float)\n",
        "    df[i].columns = list('ABCD')\n",
        "    df[i] = pd.concat([col_1, df[i]], axis=0)\n",
        "    df[i].index = range(1,7501)\n",
        "    \n",
        "    #dtype of COL_A is 'object', change into float ???????\n",
        "    df[i].A = pd.to_numeric(df[i].A)\n",
        "    \n",
        "    ##data\n",
        "    data1 = np.append(data1, df[i].A)\n",
        "    data2 = np.append(data2, df[i].B)\n",
        "    data3 = np.append(data3, df[i].C)\n",
        "    data4 = np.append(data4, df[i].D)\n",
        "    \n",
        "    ##DATA TESTING\n",
        "    \n",
        "    \n",
        "\n",
        "data1 = np.array(data1)\n",
        "data2 = np.array(data2)\n",
        "data3 = np.array(data3)\n",
        "data4 = np.array(data4)\n",
        "X_1 = np.append(data1, data2)\n",
        "X_2 = np.append(data3, data4)\n",
        "X_1 = np.array(X_1)\n",
        "X_2 = np.array(X_2)\n",
        "\n",
        "    #testing\n",
        "    "
      ],
      "execution_count": 0,
      "outputs": []
    },
    {
      "cell_type": "markdown",
      "metadata": {
        "id": "cOZTee9f8n5Y",
        "colab_type": "text"
      },
      "source": [
        "#### Get y_array (predicted value array)"
      ]
    },
    {
      "cell_type": "code",
      "metadata": {
        "id": "h_0wJ6Vm8n5Z",
        "colab_type": "code",
        "colab": {}
      },
      "source": [
        "Y = np.array(y,dtype=float)"
      ],
      "execution_count": 0,
      "outputs": []
    },
    {
      "cell_type": "markdown",
      "metadata": {
        "id": "gSViSeKq8n5c",
        "colab_type": "text"
      },
      "source": [
        "#### Get Cleaned data and X_array (training data) "
      ]
    },
    {
      "cell_type": "code",
      "metadata": {
        "scrolled": true,
        "id": "lcESwVxo8n5d",
        "colab_type": "code",
        "outputId": "175ee069-6b20-4d85-9db2-3533ead1473b",
        "colab": {
          "base_uri": "https://localhost:8080/",
          "height": 297
        }
      },
      "source": [
        "df[0].describe()"
      ],
      "execution_count": 6,
      "outputs": [
        {
          "output_type": "execute_result",
          "data": {
            "text/html": [
              "<div>\n",
              "<style scoped>\n",
              "    .dataframe tbody tr th:only-of-type {\n",
              "        vertical-align: middle;\n",
              "    }\n",
              "\n",
              "    .dataframe tbody tr th {\n",
              "        vertical-align: top;\n",
              "    }\n",
              "\n",
              "    .dataframe thead th {\n",
              "        text-align: right;\n",
              "    }\n",
              "</style>\n",
              "<table border=\"1\" class=\"dataframe\">\n",
              "  <thead>\n",
              "    <tr style=\"text-align: right;\">\n",
              "      <th></th>\n",
              "      <th>A</th>\n",
              "      <th>B</th>\n",
              "      <th>C</th>\n",
              "      <th>D</th>\n",
              "    </tr>\n",
              "  </thead>\n",
              "  <tbody>\n",
              "    <tr>\n",
              "      <th>count</th>\n",
              "      <td>7.500000e+03</td>\n",
              "      <td>7.500000e+03</td>\n",
              "      <td>7.500000e+03</td>\n",
              "      <td>7.500000e+03</td>\n",
              "    </tr>\n",
              "    <tr>\n",
              "      <th>mean</th>\n",
              "      <td>2.798203e-06</td>\n",
              "      <td>2.867940e-06</td>\n",
              "      <td>2.724916e-06</td>\n",
              "      <td>1.806650e-06</td>\n",
              "    </tr>\n",
              "    <tr>\n",
              "      <th>std</th>\n",
              "      <td>8.643169e-06</td>\n",
              "      <td>6.945007e-06</td>\n",
              "      <td>3.662671e-06</td>\n",
              "      <td>2.355944e-06</td>\n",
              "    </tr>\n",
              "    <tr>\n",
              "      <th>min</th>\n",
              "      <td>1.573569e-08</td>\n",
              "      <td>2.150493e-08</td>\n",
              "      <td>2.767096e-08</td>\n",
              "      <td>3.411193e-08</td>\n",
              "    </tr>\n",
              "    <tr>\n",
              "      <th>25%</th>\n",
              "      <td>8.920254e-07</td>\n",
              "      <td>9.457329e-07</td>\n",
              "      <td>1.175372e-06</td>\n",
              "      <td>7.952370e-07</td>\n",
              "    </tr>\n",
              "    <tr>\n",
              "      <th>50%</th>\n",
              "      <td>1.509237e-06</td>\n",
              "      <td>1.610652e-06</td>\n",
              "      <td>1.868123e-06</td>\n",
              "      <td>1.283463e-06</td>\n",
              "    </tr>\n",
              "    <tr>\n",
              "      <th>75%</th>\n",
              "      <td>2.541986e-06</td>\n",
              "      <td>2.722913e-06</td>\n",
              "      <td>2.847342e-06</td>\n",
              "      <td>1.979565e-06</td>\n",
              "    </tr>\n",
              "    <tr>\n",
              "      <th>max</th>\n",
              "      <td>3.522643e-04</td>\n",
              "      <td>2.220868e-04</td>\n",
              "      <td>5.263960e-05</td>\n",
              "      <td>3.069520e-05</td>\n",
              "    </tr>\n",
              "  </tbody>\n",
              "</table>\n",
              "</div>"
            ],
            "text/plain": [
              "                  A             B             C             D\n",
              "count  7.500000e+03  7.500000e+03  7.500000e+03  7.500000e+03\n",
              "mean   2.798203e-06  2.867940e-06  2.724916e-06  1.806650e-06\n",
              "std    8.643169e-06  6.945007e-06  3.662671e-06  2.355944e-06\n",
              "min    1.573569e-08  2.150493e-08  2.767096e-08  3.411193e-08\n",
              "25%    8.920254e-07  9.457329e-07  1.175372e-06  7.952370e-07\n",
              "50%    1.509237e-06  1.610652e-06  1.868123e-06  1.283463e-06\n",
              "75%    2.541986e-06  2.722913e-06  2.847342e-06  1.979565e-06\n",
              "max    3.522643e-04  2.220868e-04  5.263960e-05  3.069520e-05"
            ]
          },
          "metadata": {
            "tags": []
          },
          "execution_count": 6
        }
      ]
    },
    {
      "cell_type": "code",
      "metadata": {
        "id": "Ypj-Y65c8n5j",
        "colab_type": "code",
        "outputId": "61fb2b85-8405-470d-86bf-9e96ffd8d216",
        "colab": {
          "base_uri": "https://localhost:8080/",
          "height": 952
        }
      },
      "source": [
        "X = np.zeros((40, 4 ,7500))\n",
        "for i in range(40):\n",
        "    X[i] = df[i].T.values\n",
        "X"
      ],
      "execution_count": 197,
      "outputs": [
        {
          "output_type": "execute_result",
          "data": {
            "text/plain": [
              "array([[[2.29657713e-05, 2.25512117e-05, 1.12122347e-05, ...,\n",
              "         5.54606497e-06, 1.83502828e-06, 5.03722061e-06],\n",
              "        [2.12655233e-05, 2.04522481e-05, 1.06301152e-05, ...,\n",
              "         5.53112018e-06, 2.49113887e-06, 4.11050389e-06],\n",
              "        [1.98152050e-05, 1.65413600e-05, 9.00513646e-06, ...,\n",
              "         1.20886168e-06, 1.40519630e-06, 2.75695883e-06],\n",
              "        [2.05591031e-05, 3.75979720e-06, 8.94675372e-07, ...,\n",
              "         1.38705042e-06, 1.12200520e-06, 2.46315690e-06]],\n",
              "\n",
              "       [[1.90828755e-05, 7.82511474e-06, 6.23351384e-06, ...,\n",
              "         3.80067341e-06, 3.43747548e-06, 3.64677161e-06],\n",
              "        [1.26615728e-05, 7.99490305e-06, 8.05313479e-06, ...,\n",
              "         4.04373462e-06, 3.05047083e-06, 4.40090019e-06],\n",
              "        [5.78274832e-06, 1.29762099e-05, 1.12671924e-05, ...,\n",
              "         1.54675334e-06, 1.93052147e-06, 1.20959709e-06],\n",
              "        [6.62764342e-06, 6.29210757e-06, 7.28125021e-06, ...,\n",
              "         6.17541114e-07, 1.53228872e-06, 1.12510181e-06]],\n",
              "\n",
              "       [[1.33143539e-05, 1.17612376e-05, 1.11893617e-05, ...,\n",
              "         9.12298301e-07, 2.79936039e-06, 1.42697068e-06],\n",
              "        [9.22924659e-06, 1.03971902e-05, 1.05154104e-05, ...,\n",
              "         6.82580713e-07, 2.07701239e-06, 1.43784577e-06],\n",
              "        [2.90081151e-06, 2.85707201e-05, 1.56680878e-05, ...,\n",
              "         1.63346981e-06, 1.17640055e-06, 5.32982824e-07],\n",
              "        [8.99624176e-06, 1.48816407e-05, 1.25838920e-05, ...,\n",
              "         2.18332221e-06, 1.16757922e-06, 5.07022683e-07]],\n",
              "\n",
              "       ...,\n",
              "\n",
              "       [[8.14204897e-06, 2.71323674e-06, 5.15385116e-06, ...,\n",
              "         3.47208452e-06, 3.61924926e-06, 4.11289630e-06],\n",
              "        [6.07888683e-06, 5.27608511e-06, 1.94277478e-06, ...,\n",
              "         3.18866548e-06, 3.29024670e-06, 2.76425100e-06],\n",
              "        [8.41420292e-06, 2.85430684e-05, 5.94335525e-06, ...,\n",
              "         3.72541348e-07, 1.42013974e-06, 1.68265740e-06],\n",
              "        [6.38656170e-06, 1.71824464e-05, 3.17341819e-06, ...,\n",
              "         2.38071965e-06, 3.46954407e-06, 3.30044024e-06]],\n",
              "\n",
              "       [[1.12222204e-05, 1.34512173e-05, 1.38399518e-05, ...,\n",
              "         6.49603904e-06, 6.31242468e-06, 8.48710710e-06],\n",
              "        [7.81741630e-06, 4.13933498e-06, 7.15106736e-06, ...,\n",
              "         4.20301399e-06, 6.27415058e-06, 7.33563196e-06],\n",
              "        [2.35285035e-05, 1.19901696e-05, 6.37618028e-06, ...,\n",
              "         3.35073865e-06, 1.65020833e-06, 5.13364156e-06],\n",
              "        [1.92659711e-05, 1.33549897e-05, 5.18750589e-06, ...,\n",
              "         2.64737842e-06, 9.23636063e-07, 3.23637556e-06]],\n",
              "\n",
              "       [[1.32987874e-05, 1.35072724e-05, 1.74383543e-05, ...,\n",
              "         6.67514637e-06, 8.78149407e-06, 5.62713731e-06],\n",
              "        [4.53743195e-06, 6.30326969e-06, 6.69714119e-06, ...,\n",
              "         6.26280895e-06, 6.99671226e-06, 4.81676564e-06],\n",
              "        [1.40765198e-05, 9.64863353e-06, 1.05715589e-05, ...,\n",
              "         3.80662255e-06, 2.65606434e-06, 2.18235888e-06],\n",
              "        [1.60213254e-05, 9.67455760e-06, 1.08078729e-05, ...,\n",
              "         1.86519036e-06, 4.51843952e-06, 1.74083803e-06]]])"
            ]
          },
          "metadata": {
            "tags": []
          },
          "execution_count": 197
        }
      ]
    },
    {
      "cell_type": "markdown",
      "metadata": {
        "id": "wbNn4Ihf8n5p",
        "colab_type": "text"
      },
      "source": [
        "## data analysis"
      ]
    },
    {
      "cell_type": "code",
      "metadata": {
        "id": "j80fWWCt8n5q",
        "colab_type": "code",
        "outputId": "b4c884d3-c388-4bcd-b534-72a9b8244a65",
        "colab": {
          "base_uri": "https://localhost:8080/",
          "height": 34
        }
      },
      "source": [
        "from sklearn.model_selection import train_test_split\n",
        "x_train0, x_test0 , y_train, y_test = train_test_split(X, Y, test_size = 0.2, random_state= 1)\n",
        "\n",
        "print(x_train0.shape,x_test0.shape,\n",
        "      y_train.shape,y_test.shape)\n",
        "\n",
        "\n",
        "x_train = (x_train0 - x_train0.min()) / (x_train0.max() - x_train0.min())\n",
        "x_test = (x_test0 - x_test0.min()) / (x_test0.max() - x_test0.min())\n",
        "x_test.max(),x_train.min()\n",
        "\n",
        "X_1 = (X - X.min()) / (X.max() - X.min())"
      ],
      "execution_count": 269,
      "outputs": [
        {
          "output_type": "stream",
          "text": [
            "(32, 4, 7500) (8, 4, 7500) (32,) (8,)\n"
          ],
          "name": "stdout"
        }
      ]
    },
    {
      "cell_type": "code",
      "metadata": {
        "id": "c0TU5rVZ8n5v",
        "colab_type": "code",
        "outputId": "fec2958f-9463-4809-979a-57e7ca2685d8",
        "colab": {
          "base_uri": "https://localhost:8080/",
          "height": 612
        }
      },
      "source": [
        "plt.figure(1, figsize=(10,10))\n",
        "for i in range(8):\n",
        "    plt.scatter(np.arange(30000), x_test[i] , c = 'blue',s = 10)\n",
        "plt.xlim(0,10)"
      ],
      "execution_count": 9,
      "outputs": [
        {
          "output_type": "execute_result",
          "data": {
            "text/plain": [
              "(0, 10)"
            ]
          },
          "metadata": {
            "tags": []
          },
          "execution_count": 9
        },
        {
          "output_type": "display_data",
          "data": {
            "image/png": "[encoded data removed]",
            "text/plain": [
              "<Figure size 720x720 with 1 Axes>"
            ]
          },
          "metadata": {
            "tags": []
          }
        }
      ]
    },
    {
      "cell_type": "markdown",
      "metadata": {
        "id": "Eu-cDu3F8n51",
        "colab_type": "text"
      },
      "source": [
        "### By using ARtime series testing"
      ]
    },
    {
      "cell_type": "code",
      "metadata": {
        "id": "tNK07p7H8n52",
        "colab_type": "code",
        "colab": {}
      },
      "source": [
        "# AR example\n",
        "from statsmodels.tsa.ar_model import AR\n",
        "from random import random\n",
        "# contrived dataset"
      ],
      "execution_count": 0,
      "outputs": []
    },
    {
      "cell_type": "code",
      "metadata": {
        "id": "-ncaFNWU8n56",
        "colab_type": "code",
        "outputId": "8cbf0ddd-8457-41fe-f69e-c0286ea237ad",
        "colab": {
          "base_uri": "https://localhost:8080/",
          "height": 0
        }
      },
      "source": [
        "# fit model\n",
        "for data in [data1,data2,data3,data4]:\n",
        "    data.reshape(300000,)\n",
        "    model = AR(data)\n",
        "    model_fit = model.fit()\n",
        "# make prediction\n",
        "    print('Lag: %s' % model_fit.k_ar)\n",
        "    print('Coefficients: %s' % model_fit.params)"
      ],
      "execution_count": 11,
      "outputs": [
        {
          "output_type": "stream",
          "text": [
            "Lag: 89\n",
            "Coefficients: [ 9.86580549e-07  4.80630865e-01  3.86899141e-02  3.59014063e-02\n",
            "  1.03144644e-02  1.28539895e-02  7.03713887e-03  5.35838922e-03\n",
            "  5.03589272e-03  2.22439060e-03  1.81348200e-03  3.32520271e-03\n",
            "  3.53444297e-03  2.07479044e-03  6.14155070e-03  6.25915641e-04\n",
            "  2.84612189e-04  9.99755064e-04 -1.18755771e-03  4.47837563e-04\n",
            " -1.52385541e-03  2.28603062e-03  2.22078770e-03  3.51661453e-03\n",
            "  7.72603356e-04  4.04173062e-03  2.47572057e-03  3.97750200e-04\n",
            "  4.05041607e-03 -2.22426676e-03  4.34406282e-03  6.04758473e-03\n",
            " -5.31365771e-03  3.53751613e-03  3.00220700e-02 -9.49960279e-03\n",
            "  3.60185222e-03 -4.36936715e-03 -5.48627350e-03  4.12480053e-03\n",
            "  1.03166545e-02 -2.00144708e-03 -4.89121416e-03 -3.20982289e-03\n",
            " -3.44306032e-03  5.39185783e-03 -2.61921422e-04 -4.52625900e-04\n",
            "  3.18845443e-03 -4.35652680e-03 -1.31869098e-03 -2.66371501e-03\n",
            " -3.20852206e-04  7.43551406e-03 -5.15688683e-03 -1.22659280e-03\n",
            " -1.71333224e-03 -2.12152338e-04  2.67398476e-03 -4.03690282e-05\n",
            " -4.90460049e-03 -7.63925339e-04  2.54969848e-04 -3.86492025e-03\n",
            "  1.56177713e-03 -2.92082600e-03  3.91307765e-04  6.20436428e-04\n",
            "  7.62762176e-04  4.52738289e-03 -3.13863972e-03 -2.77425413e-04\n",
            "  3.01816026e-03 -7.20806755e-04 -5.91444842e-04 -2.81593782e-04\n",
            " -1.94088239e-03 -4.05721351e-03  4.69171952e-03  1.81855140e-03\n",
            "  2.15020871e-02 -3.74048921e-03 -1.84063350e-03  2.88945018e-03\n",
            "  5.48932742e-03 -7.06774518e-03  3.25236012e-03 -1.60130343e-03\n",
            "  2.33987559e-03  3.49999269e-03]\n",
            "Lag: 89\n",
            "Coefficients: [ 9.64252809e-07  4.97551447e-01  6.96084859e-02  2.45522023e-02\n",
            "  8.23069378e-03  1.44916107e-02  5.76735306e-03  6.75409295e-03\n",
            "  8.31751522e-03  3.21562849e-03  3.10129034e-03  5.78172707e-03\n",
            "  1.99979325e-03  3.52580266e-03  3.86745371e-03  2.83048286e-03\n",
            "  1.61455311e-03  1.50316403e-03  2.57945242e-04  1.30388211e-03\n",
            "  1.53268814e-03  2.37378610e-03  2.29787011e-03  3.38445917e-03\n",
            "  6.64523579e-04  2.89271789e-03  2.59056872e-03 -1.61875877e-04\n",
            "  1.65828633e-03 -1.18006131e-03  1.19744998e-02  4.03455808e-03\n",
            " -7.41107513e-03  2.24643563e-03  1.82418241e-02 -6.07635827e-03\n",
            "  8.96263964e-04 -8.47091523e-04 -2.84185037e-03  2.20746494e-03\n",
            "  4.32937426e-03 -6.20922414e-05 -9.49070906e-04 -1.35209993e-03\n",
            " -1.44985024e-03  2.29354447e-03 -1.62140506e-04 -8.31525689e-05\n",
            "  1.69009455e-03 -1.14830908e-03 -1.74615608e-03 -2.64002060e-04\n",
            "  2.81208820e-03  2.30315284e-03 -2.33648201e-03 -2.27166425e-04\n",
            " -1.38297093e-03  2.93151092e-03  5.67701631e-04  7.31029407e-04\n",
            " -2.18013240e-03 -1.13902931e-03  3.54286353e-03 -1.92187972e-03\n",
            "  2.23194205e-04 -1.99542469e-04 -7.23426951e-04 -1.63274891e-04\n",
            "  1.85381867e-03  1.84026935e-03 -5.89599083e-04  1.42593994e-03\n",
            "  2.08567915e-03  5.19483291e-04 -8.95845960e-04 -8.56960214e-05\n",
            " -4.22418110e-04  1.75528282e-03  1.39184337e-03  1.43182296e-03\n",
            "  1.70513930e-02 -6.46271690e-03 -2.29200772e-03  2.27798162e-03\n",
            "  1.44177189e-02 -9.46675137e-03  5.39511962e-03 -1.19749761e-03\n",
            "  1.43491172e-03  3.90697962e-03]\n",
            "Lag: 89\n",
            "Coefficients: [ 1.48764964e-06  3.90859594e-01  5.39611443e-02  3.33179622e-02\n",
            "  9.17588487e-03  1.57995941e-02  2.86963441e-03  1.90636113e-03\n",
            "  2.04015165e-04 -1.76870745e-03  8.34492927e-04  1.02803933e-03\n",
            "  2.11503437e-03  3.39515500e-03  3.65575078e-03  1.02802617e-03\n",
            " -1.36688279e-03 -4.03105644e-03 -4.36979767e-03  3.89745884e-03\n",
            " -6.79981946e-03 -2.44727308e-03 -2.25334295e-03  4.11945197e-03\n",
            " -2.92342147e-03  3.19896196e-03  4.52931789e-03 -2.30574434e-04\n",
            " -2.71909853e-05 -1.46700179e-04 -6.76584701e-03  2.80043221e-03\n",
            " -6.93421460e-03  6.48422541e-04  1.26901034e-02 -6.53043179e-03\n",
            " -8.75003247e-04 -2.88066890e-03 -9.49411630e-03  1.47413178e-02\n",
            "  2.96724238e-02  4.29612351e-03 -1.12378978e-02 -8.05109622e-03\n",
            " -4.41221729e-03  2.49425594e-02 -1.52519554e-02  1.49561732e-03\n",
            "  6.04991069e-03 -5.77996262e-03 -5.57062279e-03 -5.26864481e-03\n",
            " -8.99806319e-03  8.95128186e-03 -5.86856009e-03 -3.87932134e-03\n",
            " -1.80497803e-03 -6.87322294e-03  7.60865658e-03  9.79723556e-03\n",
            " -1.88105534e-02 -5.67832759e-03 -4.70385113e-03 -6.94928103e-03\n",
            " -1.77797257e-04 -5.89948055e-03  2.56292717e-03  1.12054757e-02\n",
            "  2.11279793e-03  6.51828628e-03 -8.96144336e-03 -1.46940707e-03\n",
            "  2.66462857e-02  3.55029832e-03  8.16905687e-03 -2.57411678e-04\n",
            " -1.47590352e-02 -9.62148409e-03 -1.29211835e-04  3.46833556e-03\n",
            "  3.20276543e-02  3.50652076e-03 -8.19535865e-03 -9.30942397e-03\n",
            " -7.93611581e-03 -9.98950465e-03 -9.76058395e-04 -2.52631160e-03\n",
            " -2.40541338e-03 -2.62103494e-03]\n",
            "Lag: 89\n",
            "Coefficients: [ 6.06225394e-07  3.47909021e-01  5.47216050e-02  3.42971861e-02\n",
            "  1.03239212e-02  2.16322569e-02  3.48911609e-03  4.03841767e-03\n",
            "  7.41913057e-05 -3.24640596e-04 -1.44504076e-04  1.00505715e-03\n",
            "  6.35029916e-03  1.29796149e-02  1.13999045e-02  7.86420822e-03\n",
            "  5.09011117e-03 -5.77151953e-04 -3.13810625e-03 -2.71068933e-04\n",
            " -2.79423258e-03  1.04908529e-03  6.97445034e-03  1.41388421e-02\n",
            "  6.67307771e-05  9.92665524e-03  1.28261024e-02  4.71532667e-03\n",
            "  6.15760087e-03  1.31363908e-03 -6.12083586e-03 -5.04563662e-04\n",
            " -8.71607503e-04  2.50133512e-03  1.03890251e-02 -5.15379478e-04\n",
            "  8.14194026e-03  1.05514726e-02 -3.29397716e-03  1.15874421e-02\n",
            "  3.27961417e-02  2.18729699e-03 -7.19292868e-03 -1.22698644e-03\n",
            " -1.11037501e-02  6.13420630e-03 -1.60522340e-03  6.01434650e-03\n",
            "  3.30322203e-02 -7.30634670e-03 -2.82812266e-03 -1.04555386e-02\n",
            " -1.07764535e-02  3.05137465e-02 -9.85052259e-03 -4.67101431e-03\n",
            " -7.33300430e-03 -7.95867095e-03  3.34491194e-02  4.07921192e-02\n",
            " -3.78482920e-02 -1.02544838e-02 -9.52544928e-03 -9.52553142e-03\n",
            "  1.47334185e-02 -1.49700044e-02  4.64247302e-04  9.60658274e-03\n",
            "  8.44037905e-03  2.80421526e-02 -5.23094931e-03  2.53465257e-03\n",
            "  1.00470625e-02 -1.21921176e-02 -5.66157028e-03  3.37959153e-03\n",
            " -1.02162001e-02 -5.93016401e-03  5.02615734e-03  1.03990995e-02\n",
            "  1.83571302e-02  1.54189828e-02 -7.96872181e-03 -5.27436228e-03\n",
            " -7.70203303e-03 -1.04383286e-02 -1.75846672e-03 -3.95613861e-03\n",
            "  8.93564307e-04  8.02815031e-03]\n"
          ],
          "name": "stdout"
        }
      ]
    },
    {
      "cell_type": "markdown",
      "metadata": {
        "id": "SMW6Wgju8n5-",
        "colab_type": "text"
      },
      "source": [
        "### correlation analysis"
      ]
    },
    {
      "cell_type": "code",
      "metadata": {
        "id": "NCaghzv28n5_",
        "colab_type": "code",
        "outputId": "e8ac8e53-05c1-4f4f-fad9-b43ac7b7a1c9",
        "colab": {
          "base_uri": "https://localhost:8080/",
          "height": 0
        }
      },
      "source": [
        "for i in range(40):\n",
        "    print(df[i].corr())"
      ],
      "execution_count": 12,
      "outputs": [
        {
          "output_type": "stream",
          "text": [
            "          A         B         C         D\n",
            "A  1.000000  0.810577  0.424371  0.552636\n",
            "B  0.810577  1.000000  0.435864  0.565078\n",
            "C  0.424371  0.435864  1.000000  0.800555\n",
            "D  0.552636  0.565078  0.800555  1.000000\n",
            "          A         B         C         D\n",
            "A  1.000000  0.760600  0.507784  0.576173\n",
            "B  0.760600  1.000000  0.418676  0.478727\n",
            "C  0.507784  0.418676  1.000000  0.806351\n",
            "D  0.576173  0.478727  0.806351  1.000000\n",
            "          A         B         C         D\n",
            "A  1.000000  0.795195  0.514413  0.585885\n",
            "B  0.795195  1.000000  0.409598  0.479964\n",
            "C  0.514413  0.409598  1.000000  0.790886\n",
            "D  0.585885  0.479964  0.790886  1.000000\n",
            "          A         B         C         D\n",
            "A  1.000000  0.834213  0.496393  0.575106\n",
            "B  0.834213  1.000000  0.401142  0.494696\n",
            "C  0.496393  0.401142  1.000000  0.774638\n",
            "D  0.575106  0.494696  0.774638  1.000000\n",
            "          A         B         C         D\n",
            "A  1.000000  0.739037  0.553212  0.573156\n",
            "B  0.739037  1.000000  0.418777  0.468469\n",
            "C  0.553212  0.418777  1.000000  0.763881\n",
            "D  0.573156  0.468469  0.763881  1.000000\n",
            "          A         B         C         D\n",
            "A  1.000000  0.733600  0.603040  0.665763\n",
            "B  0.733600  1.000000  0.452817  0.524042\n",
            "C  0.603040  0.452817  1.000000  0.815060\n",
            "D  0.665763  0.524042  0.815060  1.000000\n",
            "          A         B         C         D\n",
            "A  1.000000  0.670341  0.710461  0.681292\n",
            "B  0.670341  1.000000  0.463538  0.475013\n",
            "C  0.710461  0.463538  1.000000  0.775227\n",
            "D  0.681292  0.475013  0.775227  1.000000\n",
            "          A         B         C         D\n",
            "A  1.000000  0.704626  0.630705  0.669344\n",
            "B  0.704626  1.000000  0.415735  0.464040\n",
            "C  0.630705  0.415735  1.000000  0.829934\n",
            "D  0.669344  0.464040  0.829934  1.000000\n",
            "          A         B         C         D\n",
            "A  1.000000  0.787185  0.668908  0.733874\n",
            "B  0.787185  1.000000  0.512951  0.574452\n",
            "C  0.668908  0.512951  1.000000  0.847695\n",
            "D  0.733874  0.574452  0.847695  1.000000\n",
            "          A         B         C         D\n",
            "A  1.000000  0.801874  0.557530  0.660043\n",
            "B  0.801874  1.000000  0.476994  0.596129\n",
            "C  0.557530  0.476994  1.000000  0.827801\n",
            "D  0.660043  0.596129  0.827801  1.000000\n",
            "          A         B         C         D\n",
            "A  1.000000  0.756977  0.657720  0.620154\n",
            "B  0.756977  1.000000  0.472280  0.516951\n",
            "C  0.657720  0.472280  1.000000  0.791846\n",
            "D  0.620154  0.516951  0.791846  1.000000\n",
            "          A         B         C         D\n",
            "A  1.000000  0.724204  0.657963  0.589339\n",
            "B  0.724204  1.000000  0.446846  0.419989\n",
            "C  0.657963  0.446846  1.000000  0.723271\n",
            "D  0.589339  0.419989  0.723271  1.000000\n",
            "          A         B         C         D\n",
            "A  1.000000  0.693988  0.499265  0.566775\n",
            "B  0.693988  1.000000  0.261825  0.377337\n",
            "C  0.499265  0.261825  1.000000  0.738032\n",
            "D  0.566775  0.377337  0.738032  1.000000\n",
            "          A         B         C         D\n",
            "A  1.000000  0.831675  0.538073  0.498137\n",
            "B  0.831675  1.000000  0.324994  0.340125\n",
            "C  0.538073  0.324994  1.000000  0.712082\n",
            "D  0.498137  0.340125  0.712082  1.000000\n",
            "          A         B         C         D\n",
            "A  1.000000  0.829881  0.555949  0.664073\n",
            "B  0.829881  1.000000  0.444540  0.562073\n",
            "C  0.555949  0.444540  1.000000  0.788256\n",
            "D  0.664073  0.562073  0.788256  1.000000\n",
            "          A         B         C         D\n",
            "A  1.000000  0.800727  0.629269  0.710315\n",
            "B  0.800727  1.000000  0.478775  0.587741\n",
            "C  0.629269  0.478775  1.000000  0.804276\n",
            "D  0.710315  0.587741  0.804276  1.000000\n",
            "          A         B         C         D\n",
            "A  1.000000  0.793402  0.641242  0.734237\n",
            "B  0.793402  1.000000  0.482119  0.593535\n",
            "C  0.641242  0.482119  1.000000  0.806259\n",
            "D  0.734237  0.593535  0.806259  1.000000\n",
            "          A         B         C         D\n",
            "A  1.000000  0.762250  0.609535  0.638329\n",
            "B  0.762250  1.000000  0.484786  0.540000\n",
            "C  0.609535  0.484786  1.000000  0.860058\n",
            "D  0.638329  0.540000  0.860058  1.000000\n",
            "          A         B         C         D\n",
            "A  1.000000  0.738228  0.692069  0.651838\n",
            "B  0.738228  1.000000  0.551260  0.592954\n",
            "C  0.692069  0.551260  1.000000  0.757723\n",
            "D  0.651838  0.592954  0.757723  1.000000\n",
            "          A         B         C         D\n",
            "A  1.000000  0.781630  0.632231  0.661979\n",
            "B  0.781630  1.000000  0.472238  0.556778\n",
            "C  0.632231  0.472238  1.000000  0.784389\n",
            "D  0.661979  0.556778  0.784389  1.000000\n",
            "          A         B         C         D\n",
            "A  1.000000  0.779062  0.870235  0.723573\n",
            "B  0.779062  1.000000  0.644547  0.566148\n",
            "C  0.870235  0.644547  1.000000  0.785854\n",
            "D  0.723573  0.566148  0.785854  1.000000\n",
            "          A         B         C         D\n",
            "A  1.000000  0.810590  0.574142  0.560705\n",
            "B  0.810590  1.000000  0.489594  0.500039\n",
            "C  0.574142  0.489594  1.000000  0.645076\n",
            "D  0.560705  0.500039  0.645076  1.000000\n",
            "          A         B         C         D\n",
            "A  1.000000  0.748743  0.719066  0.622117\n",
            "B  0.748743  1.000000  0.515904  0.567733\n",
            "C  0.719066  0.515904  1.000000  0.711282\n",
            "D  0.622117  0.567733  0.711282  1.000000\n",
            "          A         B         C         D\n",
            "A  1.000000  0.809601  0.733388  0.692632\n",
            "B  0.809601  1.000000  0.585619  0.615915\n",
            "C  0.733388  0.585619  1.000000  0.798270\n",
            "D  0.692632  0.615915  0.798270  1.000000\n",
            "          A         B         C         D\n",
            "A  1.000000  0.855506  0.824463  0.725415\n",
            "B  0.855506  1.000000  0.693286  0.658363\n",
            "C  0.824463  0.693286  1.000000  0.773003\n",
            "D  0.725415  0.658363  0.773003  1.000000\n",
            "          A         B         C         D\n",
            "A  1.000000  0.843650  0.831842  0.703977\n",
            "B  0.843650  1.000000  0.716678  0.659549\n",
            "C  0.831842  0.716678  1.000000  0.781428\n",
            "D  0.703977  0.659549  0.781428  1.000000\n",
            "          A         B         C         D\n",
            "A  1.000000  0.851756  0.570067  0.672569\n",
            "B  0.851756  1.000000  0.444588  0.586306\n",
            "C  0.570067  0.444588  1.000000  0.835552\n",
            "D  0.672569  0.586306  0.835552  1.000000\n",
            "          A         B         C         D\n",
            "A  1.000000  0.824771  0.780160  0.718286\n",
            "B  0.824771  1.000000  0.612839  0.616637\n",
            "C  0.780160  0.612839  1.000000  0.849294\n",
            "D  0.718286  0.616637  0.849294  1.000000\n",
            "          A         B         C         D\n",
            "A  1.000000  0.635916  0.621836  0.671220\n",
            "B  0.635916  1.000000  0.283860  0.322376\n",
            "C  0.621836  0.283860  1.000000  0.881678\n",
            "D  0.671220  0.322376  0.881678  1.000000\n",
            "          A         B         C         D\n",
            "A  1.000000  0.654960  0.733389  0.616370\n",
            "B  0.654960  1.000000  0.397900  0.316989\n",
            "C  0.733389  0.397900  1.000000  0.804535\n",
            "D  0.616370  0.316989  0.804535  1.000000\n",
            "          A         B         C         D\n",
            "A  1.000000  0.717378  0.512175  0.466889\n",
            "B  0.717378  1.000000  0.347447  0.302424\n",
            "C  0.512175  0.347447  1.000000  0.818678\n",
            "D  0.466889  0.302424  0.818678  1.000000\n",
            "          A         B         C         D\n",
            "A  1.000000  0.725892  0.655972  0.503036\n",
            "B  0.725892  1.000000  0.431852  0.305187\n",
            "C  0.655972  0.431852  1.000000  0.663781\n",
            "D  0.503036  0.305187  0.663781  1.000000\n",
            "          A         B         C         D\n",
            "A  1.000000  0.794692  0.666391  0.681447\n",
            "B  0.794692  1.000000  0.519281  0.534419\n",
            "C  0.666391  0.519281  1.000000  0.763673\n",
            "D  0.681447  0.534419  0.763673  1.000000\n",
            "          A         B         C         D\n",
            "A  1.000000  0.772975  0.749373  0.560244\n",
            "B  0.772975  1.000000  0.524226  0.397459\n",
            "C  0.749373  0.524226  1.000000  0.682963\n",
            "D  0.560244  0.397459  0.682963  1.000000\n",
            "          A         B         C         D\n",
            "A  1.000000  0.804781  0.706904  0.563298\n",
            "B  0.804781  1.000000  0.551430  0.405590\n",
            "C  0.706904  0.551430  1.000000  0.574299\n",
            "D  0.563298  0.405590  0.574299  1.000000\n",
            "          A         B         C         D\n",
            "A  1.000000  0.776646  0.748640  0.527063\n",
            "B  0.776646  1.000000  0.560611  0.378169\n",
            "C  0.748640  0.560611  1.000000  0.593995\n",
            "D  0.527063  0.378169  0.593995  1.000000\n",
            "          A         B         C         D\n",
            "A  1.000000  0.711274  0.734937  0.558845\n",
            "B  0.711274  1.000000  0.515412  0.463018\n",
            "C  0.734937  0.515412  1.000000  0.661212\n",
            "D  0.558845  0.463018  0.661212  1.000000\n",
            "          A         B         C         D\n",
            "A  1.000000  0.663276  0.727146  0.505333\n",
            "B  0.663276  1.000000  0.518125  0.366903\n",
            "C  0.727146  0.518125  1.000000  0.704234\n",
            "D  0.505333  0.366903  0.704234  1.000000\n",
            "          A         B         C         D\n",
            "A  1.000000  0.691711  0.803912  0.559357\n",
            "B  0.691711  1.000000  0.603719  0.423890\n",
            "C  0.803912  0.603719  1.000000  0.701108\n",
            "D  0.559357  0.423890  0.701108  1.000000\n",
            "          A         B         C         D\n",
            "A  1.000000  0.639344  0.596926  0.476039\n",
            "B  0.639344  1.000000  0.379080  0.291795\n",
            "C  0.596926  0.379080  1.000000  0.824317\n",
            "D  0.476039  0.291795  0.824317  1.000000\n"
          ],
          "name": "stdout"
        }
      ]
    },
    {
      "cell_type": "code",
      "metadata": {
        "scrolled": true,
        "id": "XaR15XoT8n6E",
        "colab_type": "code",
        "outputId": "12edeefe-b5f8-4e18-85a2-090e7421e2ab",
        "colab": {
          "base_uri": "https://localhost:8080/",
          "height": 34
        }
      },
      "source": [
        "data1 = (data1 - data1.min()) / (data1.max() - data1.min())\n",
        "data2 = (data2 - data2.min()) / (data2.max() - data2.min())\n",
        "data3 = (data3 - data3.min()) / (data3.max() - data3.min())\n",
        "data4 = (data4 - data4.min()) / (data4.max() - data4.min())\n",
        "data1.max() , data1.min()"
      ],
      "execution_count": 13,
      "outputs": [
        {
          "output_type": "execute_result",
          "data": {
            "text/plain": [
              "(1.0, 0.0)"
            ]
          },
          "metadata": {
            "tags": []
          },
          "execution_count": 13
        }
      ]
    },
    {
      "cell_type": "code",
      "metadata": {
        "scrolled": false,
        "id": "1xlJ3ucr8n6J",
        "colab_type": "code",
        "outputId": "0a598cf3-a6ab-45d2-9b83-6df7ed4d7be2",
        "colab": {
          "base_uri": "https://localhost:8080/",
          "height": 613
        }
      },
      "source": [
        " \n",
        "    \n",
        "plt.figure(1, figsize=(10,10))\n",
        "plt.scatter(np.arange(300000), data1 , c = 'blue',s = 1)\n",
        "plt.scatter(np.arange(300000), data2 , c = 'green',s = 1)\n",
        "plt.scatter(np.arange(300000), data3 , c = 'red',s = 10)\n",
        "plt.scatter(np.arange(300000), data4 , c = 'yellow',s = 1)\n",
        "\n",
        "plt.ylim(0, 1)\n"
      ],
      "execution_count": 14,
      "outputs": [
        {
          "output_type": "execute_result",
          "data": {
            "text/plain": [
              "(0, 1)"
            ]
          },
          "metadata": {
            "tags": []
          },
          "execution_count": 14
        },
        {
          "output_type": "display_data",
          "data": {
            "image/png": "[encoded data removed]",
            "text/plain": [
              "<Figure size 720x720 with 1 Axes>"
            ]
          },
          "metadata": {
            "tags": []
          }
        }
      ]
    },
    {
      "cell_type": "code",
      "metadata": {
        "id": "2eukF7lq8n6O",
        "colab_type": "code",
        "outputId": "c83795ab-4881-45ab-efcf-f8a1695cb23c",
        "colab": {
          "base_uri": "https://localhost:8080/",
          "height": 34
        }
      },
      "source": [
        "len(data1)"
      ],
      "execution_count": 15,
      "outputs": [
        {
          "output_type": "execute_result",
          "data": {
            "text/plain": [
              "300000"
            ]
          },
          "metadata": {
            "tags": []
          },
          "execution_count": 15
        }
      ]
    },
    {
      "cell_type": "markdown",
      "metadata": {
        "id": "WUuHZK5R8n6X",
        "colab_type": "text"
      },
      "source": [
        "### construct nn"
      ]
    },
    {
      "cell_type": "code",
      "metadata": {
        "id": "g4yF9gtM8n6Y",
        "colab_type": "code",
        "colab": {}
      },
      "source": [
        "for i in range(40):\n",
        "    T = pd.concat([df[i].A,df[i].B])\n",
        "    S = pd.concat([df[i].C,df[i].D])\n",
        "    dic1 = {'A':T , 'B': S}\n",
        "    t[i] = pd.DataFrame(dic1)\n",
        "    t[i].index = range(1,15001)"
      ],
      "execution_count": 0,
      "outputs": []
    },
    {
      "cell_type": "code",
      "metadata": {
        "id": "80SdPjFa8n6h",
        "colab_type": "code",
        "outputId": "d6a6c5d0-1a31-4772-fc41-55ef366e332f",
        "colab": {
          "base_uri": "https://localhost:8080/",
          "height": 850
        }
      },
      "source": [
        "T = np.zeros((40, 15000, 2))\n",
        "for i in range(40):\n",
        "    T[i] = t[i].values\n",
        "T"
      ],
      "execution_count": 17,
      "outputs": [
        {
          "output_type": "execute_result",
          "data": {
            "text/plain": [
              "array([[[2.29657713e-05, 1.98152050e-05],\n",
              "        [2.25512117e-05, 1.65413600e-05],\n",
              "        [1.12122347e-05, 9.00513646e-06],\n",
              "        ...,\n",
              "        [5.53112018e-06, 1.38705042e-06],\n",
              "        [2.49113887e-06, 1.12200520e-06],\n",
              "        [4.11050389e-06, 2.46315690e-06]],\n",
              "\n",
              "       [[1.90828755e-05, 5.78274832e-06],\n",
              "        [7.82511474e-06, 1.29762099e-05],\n",
              "        [6.23351384e-06, 1.12671924e-05],\n",
              "        ...,\n",
              "        [4.04373462e-06, 6.17541114e-07],\n",
              "        [3.05047083e-06, 1.53228872e-06],\n",
              "        [4.40090019e-06, 1.12510181e-06]],\n",
              "\n",
              "       [[1.33143539e-05, 2.90081151e-06],\n",
              "        [1.17612376e-05, 2.85707201e-05],\n",
              "        [1.11893617e-05, 1.56680878e-05],\n",
              "        ...,\n",
              "        [6.82580713e-07, 2.18332221e-06],\n",
              "        [2.07701239e-06, 1.16757922e-06],\n",
              "        [1.43784577e-06, 5.07022683e-07]],\n",
              "\n",
              "       ...,\n",
              "\n",
              "       [[8.14204897e-06, 8.41420292e-06],\n",
              "        [2.71323674e-06, 2.85430684e-05],\n",
              "        [5.15385116e-06, 5.94335525e-06],\n",
              "        ...,\n",
              "        [3.18866548e-06, 2.38071965e-06],\n",
              "        [3.29024670e-06, 3.46954407e-06],\n",
              "        [2.76425100e-06, 3.30044024e-06]],\n",
              "\n",
              "       [[1.12222204e-05, 2.35285035e-05],\n",
              "        [1.34512173e-05, 1.19901696e-05],\n",
              "        [1.38399518e-05, 6.37618028e-06],\n",
              "        ...,\n",
              "        [4.20301399e-06, 2.64737842e-06],\n",
              "        [6.27415058e-06, 9.23636063e-07],\n",
              "        [7.33563196e-06, 3.23637556e-06]],\n",
              "\n",
              "       [[1.32987874e-05, 1.40765198e-05],\n",
              "        [1.35072724e-05, 9.64863353e-06],\n",
              "        [1.74383543e-05, 1.05715589e-05],\n",
              "        ...,\n",
              "        [6.26280895e-06, 1.86519036e-06],\n",
              "        [6.99671226e-06, 4.51843952e-06],\n",
              "        [4.81676564e-06, 1.74083803e-06]]])"
            ]
          },
          "metadata": {
            "tags": []
          },
          "execution_count": 17
        }
      ]
    },
    {
      "cell_type": "code",
      "metadata": {
        "scrolled": true,
        "id": "utE2S-nw8n6v",
        "colab_type": "code",
        "outputId": "fe986dcf-b992-40e9-dad7-d2c4d8833c67",
        "colab": {
          "base_uri": "https://localhost:8080/",
          "height": 34
        }
      },
      "source": [
        "x_tr, x_te , y_train, y_test = train_test_split(T, Y, test_size = 0.2, random_state= 1)\n",
        "\n",
        "print(x_tr.shape,x_te.shape)"
      ],
      "execution_count": 18,
      "outputs": [
        {
          "output_type": "stream",
          "text": [
            "(32, 15000, 2) (8, 15000, 2)\n"
          ],
          "name": "stdout"
        }
      ]
    },
    {
      "cell_type": "code",
      "metadata": {
        "id": "mYoSyJ5l8n65",
        "colab_type": "code",
        "colab": {}
      },
      "source": [
        "xtr = x_tr.reshape(len(x_tr), 2*15000 ,1)\n",
        "xte = x_te.reshape(len(x_te), 2*15000, 1)"
      ],
      "execution_count": 0,
      "outputs": []
    },
    {
      "cell_type": "code",
      "metadata": {
        "id": "1_D9VCgQ8n69",
        "colab_type": "code",
        "outputId": "91d19542-2d2c-4dab-f4b9-d1b291191479",
        "colab": {
          "base_uri": "https://localhost:8080/",
          "height": 34
        }
      },
      "source": [
        "xtr.shape"
      ],
      "execution_count": 28,
      "outputs": [
        {
          "output_type": "execute_result",
          "data": {
            "text/plain": [
              "(32, 30000, 1)"
            ]
          },
          "metadata": {
            "tags": []
          },
          "execution_count": 28
        }
      ]
    },
    {
      "cell_type": "code",
      "metadata": {
        "id": "DSu3hbfS8n7C",
        "colab_type": "code",
        "colab": {}
      },
      "source": [
        "import keras"
      ],
      "execution_count": 0,
      "outputs": []
    },
    {
      "cell_type": "code",
      "metadata": {
        "id": "D94xZu9v8n7H",
        "colab_type": "code",
        "colab": {}
      },
      "source": [
        "from keras.models import Input, Model, Sequential\n",
        "from keras.activations import selu,sigmoid, K\n",
        "from keras.layers import Dense, LSTM, RNN,Embedding,BatchNormalization, Dropout\n",
        "from keras.losses import MSE, categorical_crossentropy\n",
        "from keras.optimizers import Adam\n",
        "from keras.preprocessing import sequence"
      ],
      "execution_count": 0,
      "outputs": []
    },
    {
      "cell_type": "code",
      "metadata": {
        "id": "JYYPmbUDmnlo",
        "colab_type": "code",
        "colab": {}
      },
      "source": [
        "def root_mean_squared_error(y_true, y_pred):\n",
        "        return K.sqrt(K.mean(K.square(y_pred - y_true))) "
      ],
      "execution_count": 0,
      "outputs": []
    },
    {
      "cell_type": "code",
      "metadata": {
        "id": "hMyNPWRIOgFo",
        "colab_type": "code",
        "colab": {}
      },
      "source": [
        "model = Sequential()\n",
        "model.add(LSTM(100, input_shape = (4,7500),dropout=0.5, recurrent_dropout=0.5))\n",
        "\n",
        "model.add(Dropout(0.7))\n",
        "model.add(BatchNormalization())\n",
        "model.add(Dense(1, activation='selu'))"
      ],
      "execution_count": 0,
      "outputs": []
    },
    {
      "cell_type": "code",
      "metadata": {
        "id": "jHVEG3TZ8n7L",
        "colab_type": "code",
        "colab": {}
      },
      "source": [
        "model = Sequential()\n",
        "\n",
        "model.add(LSTM(100, input_shape = (4,7500)))\n",
        "\n",
        "model.add(Dense(1, activation='selu'))"
      ],
      "execution_count": 0,
      "outputs": []
    },
    {
      "cell_type": "code",
      "metadata": {
        "id": "RvmwxBpa8n7S",
        "colab_type": "code",
        "outputId": "02371802-be11-40e4-a63d-d9f851d7f900",
        "colab": {
          "base_uri": "https://localhost:8080/",
          "height": 272
        }
      },
      "source": [
        "model.summary()"
      ],
      "execution_count": 261,
      "outputs": [
        {
          "output_type": "stream",
          "text": [
            "_________________________________________________________________\n",
            "Layer (type)                 Output Shape              Param #   \n",
            "=================================================================\n",
            "lstm_28 (LSTM)               (None, 100)               3040400   \n",
            "_________________________________________________________________\n",
            "dropout_20 (Dropout)         (None, 100)               0         \n",
            "_________________________________________________________________\n",
            "batch_normalization_23 (Batc (None, 100)               400       \n",
            "_________________________________________________________________\n",
            "dense_27 (Dense)             (None, 1)                 101       \n",
            "=================================================================\n",
            "Total params: 3,040,901\n",
            "Trainable params: 3,040,701\n",
            "Non-trainable params: 200\n",
            "_________________________________________________________________\n"
          ],
          "name": "stdout"
        }
      ]
    },
    {
      "cell_type": "code",
      "metadata": {
        "id": "ImF3L8Wg8n7X",
        "colab_type": "code",
        "colab": {}
      },
      "source": [
        "model.compile(loss = root_mean_squared_error,\n",
        "             optimizer = Adam(lr = 0.001),\n",
        "            )"
      ],
      "execution_count": 0,
      "outputs": []
    },
    {
      "cell_type": "code",
      "metadata": {
        "id": "PT4bemfx8n7a",
        "colab_type": "code",
        "outputId": "fb084065-ff90-494b-aa62-c85d3358e3b8",
        "colab": {
          "base_uri": "https://localhost:8080/",
          "height": 10251
        }
      },
      "source": [
        "model.fit(x_train ,y_train, batch_size = 100, epochs = 300,\n",
        "         verbose = 1,\n",
        "         validation_data = (x_test, y_test))"
      ],
      "execution_count": 263,
      "outputs": [
        {
          "output_type": "stream",
          "text": [
            "Train on 32 samples, validate on 8 samples\n",
            "Epoch 1/300\n",
            "32/32 [==============================] - 9s 279ms/step - loss: 1.0534 - val_loss: 0.9601\n",
            "Epoch 2/300\n",
            "32/32 [==============================] - 0s 6ms/step - loss: 0.8450 - val_loss: 1.0220\n",
            "Epoch 3/300\n",
            "32/32 [==============================] - 0s 6ms/step - loss: 0.9180 - val_loss: 0.8604\n",
            "Epoch 4/300\n",
            "32/32 [==============================] - 0s 6ms/step - loss: 0.9828 - val_loss: 0.5816\n",
            "Epoch 5/300\n",
            "32/32 [==============================] - 0s 6ms/step - loss: 0.9779 - val_loss: 0.2933\n",
            "Epoch 6/300\n",
            "32/32 [==============================] - 0s 6ms/step - loss: 1.0467 - val_loss: 0.2651\n",
            "Epoch 7/300\n",
            "32/32 [==============================] - 0s 6ms/step - loss: 1.0947 - val_loss: 0.3118\n",
            "Epoch 8/300\n",
            "32/32 [==============================] - 0s 6ms/step - loss: 1.2136 - val_loss: 0.4977\n",
            "Epoch 9/300\n",
            "32/32 [==============================] - 0s 6ms/step - loss: 1.2356 - val_loss: 0.7456\n",
            "Epoch 10/300\n",
            "32/32 [==============================] - 0s 6ms/step - loss: 0.9722 - val_loss: 0.8506\n",
            "Epoch 11/300\n",
            "32/32 [==============================] - 0s 6ms/step - loss: 1.0412 - val_loss: 0.9561\n",
            "Epoch 12/300\n",
            "32/32 [==============================] - 0s 6ms/step - loss: 0.9838 - val_loss: 1.0037\n",
            "Epoch 13/300\n",
            "32/32 [==============================] - 0s 6ms/step - loss: 1.1187 - val_loss: 1.0218\n",
            "Epoch 14/300\n",
            "32/32 [==============================] - 0s 6ms/step - loss: 0.8608 - val_loss: 1.0582\n",
            "Epoch 15/300\n",
            "32/32 [==============================] - 0s 6ms/step - loss: 1.0640 - val_loss: 1.0521\n",
            "Epoch 16/300\n",
            "32/32 [==============================] - 0s 6ms/step - loss: 0.9655 - val_loss: 0.9189\n",
            "Epoch 17/300\n",
            "32/32 [==============================] - 0s 6ms/step - loss: 0.9184 - val_loss: 0.8297\n",
            "Epoch 18/300\n",
            "32/32 [==============================] - 0s 6ms/step - loss: 0.8864 - val_loss: 0.7472\n",
            "Epoch 19/300\n",
            "32/32 [==============================] - 0s 6ms/step - loss: 0.9839 - val_loss: 0.6421\n",
            "Epoch 20/300\n",
            "32/32 [==============================] - 0s 6ms/step - loss: 1.0214 - val_loss: 0.5119\n",
            "Epoch 21/300\n",
            "32/32 [==============================] - 0s 6ms/step - loss: 1.0099 - val_loss: 0.3640\n",
            "Epoch 22/300\n",
            "32/32 [==============================] - 0s 6ms/step - loss: 0.9275 - val_loss: 0.3005\n",
            "Epoch 23/300\n",
            "32/32 [==============================] - 0s 6ms/step - loss: 0.9549 - val_loss: 0.2756\n",
            "Epoch 24/300\n",
            "32/32 [==============================] - 0s 6ms/step - loss: 0.8526 - val_loss: 0.2629\n",
            "Epoch 25/300\n",
            "32/32 [==============================] - 0s 6ms/step - loss: 1.0923 - val_loss: 0.2643\n",
            "Epoch 26/300\n",
            "32/32 [==============================] - 0s 6ms/step - loss: 1.0737 - val_loss: 0.2412\n",
            "Epoch 27/300\n",
            "32/32 [==============================] - 0s 6ms/step - loss: 1.0641 - val_loss: 0.2015\n",
            "Epoch 28/300\n",
            "32/32 [==============================] - 0s 6ms/step - loss: 0.7773 - val_loss: 0.1812\n",
            "Epoch 29/300\n",
            "32/32 [==============================] - 0s 6ms/step - loss: 0.8051 - val_loss: 0.1766\n",
            "Epoch 30/300\n",
            "32/32 [==============================] - 0s 6ms/step - loss: 1.0137 - val_loss: 0.1683\n",
            "Epoch 31/300\n",
            "32/32 [==============================] - 0s 6ms/step - loss: 0.9702 - val_loss: 0.1684\n",
            "Epoch 32/300\n",
            "32/32 [==============================] - 0s 6ms/step - loss: 1.0102 - val_loss: 0.1802\n",
            "Epoch 33/300\n",
            "32/32 [==============================] - 0s 6ms/step - loss: 0.7840 - val_loss: 0.2272\n",
            "Epoch 34/300\n",
            "32/32 [==============================] - 0s 6ms/step - loss: 0.8631 - val_loss: 0.2724\n",
            "Epoch 35/300\n",
            "32/32 [==============================] - 0s 6ms/step - loss: 0.8544 - val_loss: 0.3098\n",
            "Epoch 36/300\n",
            "32/32 [==============================] - 0s 6ms/step - loss: 0.9018 - val_loss: 0.3339\n",
            "Epoch 37/300\n",
            "32/32 [==============================] - 0s 6ms/step - loss: 0.8642 - val_loss: 0.3491\n",
            "Epoch 38/300\n",
            "32/32 [==============================] - 0s 6ms/step - loss: 0.6731 - val_loss: 0.3726\n",
            "Epoch 39/300\n",
            "32/32 [==============================] - 0s 6ms/step - loss: 0.8010 - val_loss: 0.4308\n",
            "Epoch 40/300\n",
            "32/32 [==============================] - 0s 6ms/step - loss: 0.8431 - val_loss: 0.4587\n",
            "Epoch 41/300\n",
            "32/32 [==============================] - 0s 6ms/step - loss: 0.9257 - val_loss: 0.4966\n",
            "Epoch 42/300\n",
            "32/32 [==============================] - 0s 6ms/step - loss: 0.8471 - val_loss: 0.5058\n",
            "Epoch 43/300\n",
            "32/32 [==============================] - 0s 6ms/step - loss: 0.9892 - val_loss: 0.5237\n",
            "Epoch 44/300\n",
            "32/32 [==============================] - 0s 6ms/step - loss: 0.8395 - val_loss: 0.5523\n",
            "Epoch 45/300\n",
            "32/32 [==============================] - 0s 6ms/step - loss: 0.8136 - val_loss: 0.5637\n",
            "Epoch 46/300\n",
            "32/32 [==============================] - 0s 6ms/step - loss: 0.6999 - val_loss: 0.5560\n",
            "Epoch 47/300\n",
            "32/32 [==============================] - 0s 6ms/step - loss: 0.7762 - val_loss: 0.5025\n",
            "Epoch 48/300\n",
            "32/32 [==============================] - 0s 6ms/step - loss: 0.8276 - val_loss: 0.4373\n",
            "Epoch 49/300\n",
            "32/32 [==============================] - 0s 6ms/step - loss: 0.7816 - val_loss: 0.4002\n",
            "Epoch 50/300\n",
            "32/32 [==============================] - 0s 6ms/step - loss: 0.9231 - val_loss: 0.3641\n",
            "Epoch 51/300\n",
            "32/32 [==============================] - 0s 6ms/step - loss: 0.7010 - val_loss: 0.2891\n",
            "Epoch 52/300\n",
            "32/32 [==============================] - 0s 6ms/step - loss: 0.6939 - val_loss: 0.2035\n",
            "Epoch 53/300\n",
            "32/32 [==============================] - 0s 6ms/step - loss: 0.8588 - val_loss: 0.1021\n",
            "Epoch 54/300\n",
            "32/32 [==============================] - 0s 6ms/step - loss: 0.6869 - val_loss: 0.0798\n",
            "Epoch 55/300\n",
            "32/32 [==============================] - 0s 6ms/step - loss: 0.7154 - val_loss: 0.1955\n",
            "Epoch 56/300\n",
            "32/32 [==============================] - 0s 6ms/step - loss: 0.5362 - val_loss: 0.2964\n",
            "Epoch 57/300\n",
            "32/32 [==============================] - 0s 6ms/step - loss: 0.6712 - val_loss: 0.3603\n",
            "Epoch 58/300\n",
            "32/32 [==============================] - 0s 6ms/step - loss: 0.5558 - val_loss: 0.3879\n",
            "Epoch 59/300\n",
            "32/32 [==============================] - 0s 6ms/step - loss: 0.6580 - val_loss: 0.3852\n",
            "Epoch 60/300\n",
            "32/32 [==============================] - 0s 6ms/step - loss: 0.7579 - val_loss: 0.3544\n",
            "Epoch 61/300\n",
            "32/32 [==============================] - 0s 6ms/step - loss: 0.7376 - val_loss: 0.3239\n",
            "Epoch 62/300\n",
            "32/32 [==============================] - 0s 6ms/step - loss: 0.6932 - val_loss: 0.2930\n",
            "Epoch 63/300\n",
            "32/32 [==============================] - 0s 6ms/step - loss: 0.6477 - val_loss: 0.2868\n",
            "Epoch 64/300\n",
            "32/32 [==============================] - 0s 6ms/step - loss: 0.6765 - val_loss: 0.2874\n",
            "Epoch 65/300\n",
            "32/32 [==============================] - 0s 6ms/step - loss: 0.7358 - val_loss: 0.2732\n",
            "Epoch 66/300\n",
            "32/32 [==============================] - 0s 6ms/step - loss: 0.6814 - val_loss: 0.2608\n",
            "Epoch 67/300\n",
            "32/32 [==============================] - 0s 6ms/step - loss: 0.5622 - val_loss: 0.2636\n",
            "Epoch 68/300\n",
            "32/32 [==============================] - 0s 6ms/step - loss: 0.6025 - val_loss: 0.2601\n",
            "Epoch 69/300\n",
            "32/32 [==============================] - 0s 6ms/step - loss: 0.5440 - val_loss: 0.2229\n",
            "Epoch 70/300\n",
            "32/32 [==============================] - 0s 6ms/step - loss: 0.7478 - val_loss: 0.2138\n",
            "Epoch 71/300\n",
            "32/32 [==============================] - 0s 6ms/step - loss: 0.7333 - val_loss: 0.2015\n",
            "Epoch 72/300\n",
            "32/32 [==============================] - 0s 6ms/step - loss: 0.6222 - val_loss: 0.1933\n",
            "Epoch 73/300\n",
            "32/32 [==============================] - 0s 6ms/step - loss: 0.5847 - val_loss: 0.1762\n",
            "Epoch 74/300\n",
            "32/32 [==============================] - 0s 6ms/step - loss: 0.6655 - val_loss: 0.1768\n",
            "Epoch 75/300\n",
            "32/32 [==============================] - 0s 6ms/step - loss: 0.6501 - val_loss: 0.1766\n",
            "Epoch 76/300\n",
            "32/32 [==============================] - 0s 6ms/step - loss: 0.5638 - val_loss: 0.1921\n",
            "Epoch 77/300\n",
            "32/32 [==============================] - 0s 6ms/step - loss: 0.4895 - val_loss: 0.2167\n",
            "Epoch 78/300\n",
            "32/32 [==============================] - 0s 6ms/step - loss: 0.7114 - val_loss: 0.2361\n",
            "Epoch 79/300\n",
            "32/32 [==============================] - 0s 6ms/step - loss: 0.5236 - val_loss: 0.2540\n",
            "Epoch 80/300\n",
            "32/32 [==============================] - 0s 6ms/step - loss: 0.5727 - val_loss: 0.2647\n",
            "Epoch 81/300\n",
            "32/32 [==============================] - 0s 6ms/step - loss: 0.7001 - val_loss: 0.2700\n",
            "Epoch 82/300\n",
            "32/32 [==============================] - 0s 6ms/step - loss: 0.5351 - val_loss: 0.2665\n",
            "Epoch 83/300\n",
            "32/32 [==============================] - 0s 6ms/step - loss: 0.5884 - val_loss: 0.2546\n",
            "Epoch 84/300\n",
            "32/32 [==============================] - 0s 6ms/step - loss: 0.5649 - val_loss: 0.2488\n",
            "Epoch 85/300\n",
            "32/32 [==============================] - 0s 6ms/step - loss: 0.6311 - val_loss: 0.2448\n",
            "Epoch 86/300\n",
            "32/32 [==============================] - 0s 6ms/step - loss: 0.4764 - val_loss: 0.2363\n",
            "Epoch 87/300\n",
            "32/32 [==============================] - 0s 6ms/step - loss: 0.6097 - val_loss: 0.2076\n",
            "Epoch 88/300\n",
            "32/32 [==============================] - 0s 6ms/step - loss: 0.5050 - val_loss: 0.1914\n",
            "Epoch 89/300\n",
            "32/32 [==============================] - 0s 6ms/step - loss: 0.4394 - val_loss: 0.1800\n",
            "Epoch 90/300\n",
            "32/32 [==============================] - 0s 6ms/step - loss: 0.4296 - val_loss: 0.1777\n",
            "Epoch 91/300\n",
            "32/32 [==============================] - 0s 6ms/step - loss: 0.4145 - val_loss: 0.1734\n",
            "Epoch 92/300\n",
            "32/32 [==============================] - 0s 6ms/step - loss: 0.3934 - val_loss: 0.1633\n",
            "Epoch 93/300\n",
            "32/32 [==============================] - 0s 6ms/step - loss: 0.4124 - val_loss: 0.1535\n",
            "Epoch 94/300\n",
            "32/32 [==============================] - 0s 6ms/step - loss: 0.4403 - val_loss: 0.1469\n",
            "Epoch 95/300\n",
            "32/32 [==============================] - 0s 6ms/step - loss: 0.4086 - val_loss: 0.1441\n",
            "Epoch 96/300\n",
            "32/32 [==============================] - 0s 6ms/step - loss: 0.4477 - val_loss: 0.1413\n",
            "Epoch 97/300\n",
            "32/32 [==============================] - 0s 6ms/step - loss: 0.4176 - val_loss: 0.1506\n",
            "Epoch 98/300\n",
            "32/32 [==============================] - 0s 6ms/step - loss: 0.4792 - val_loss: 0.1471\n",
            "Epoch 99/300\n",
            "32/32 [==============================] - 0s 6ms/step - loss: 0.4729 - val_loss: 0.1368\n",
            "Epoch 100/300\n",
            "32/32 [==============================] - 0s 6ms/step - loss: 0.4234 - val_loss: 0.1182\n",
            "Epoch 101/300\n",
            "32/32 [==============================] - 0s 6ms/step - loss: 0.3204 - val_loss: 0.1018\n",
            "Epoch 102/300\n",
            "32/32 [==============================] - 0s 6ms/step - loss: 0.3416 - val_loss: 0.0843\n",
            "Epoch 103/300\n",
            "32/32 [==============================] - 0s 6ms/step - loss: 0.3893 - val_loss: 0.0749\n",
            "Epoch 104/300\n",
            "32/32 [==============================] - 0s 6ms/step - loss: 0.3865 - val_loss: 0.0675\n",
            "Epoch 105/300\n",
            "32/32 [==============================] - 0s 7ms/step - loss: 0.4251 - val_loss: 0.0658\n",
            "Epoch 106/300\n",
            "32/32 [==============================] - 0s 6ms/step - loss: 0.3846 - val_loss: 0.0676\n",
            "Epoch 107/300\n",
            "32/32 [==============================] - 0s 6ms/step - loss: 0.3380 - val_loss: 0.0738\n",
            "Epoch 108/300\n",
            "32/32 [==============================] - 0s 6ms/step - loss: 0.3032 - val_loss: 0.0805\n",
            "Epoch 109/300\n",
            "32/32 [==============================] - 0s 6ms/step - loss: 0.3651 - val_loss: 0.0861\n",
            "Epoch 110/300\n",
            "32/32 [==============================] - 0s 6ms/step - loss: 0.3663 - val_loss: 0.0870\n",
            "Epoch 111/300\n",
            "32/32 [==============================] - 0s 6ms/step - loss: 0.3047 - val_loss: 0.0836\n",
            "Epoch 112/300\n",
            "32/32 [==============================] - 0s 6ms/step - loss: 0.3351 - val_loss: 0.0783\n",
            "Epoch 113/300\n",
            "32/32 [==============================] - 0s 6ms/step - loss: 0.2889 - val_loss: 0.0752\n",
            "Epoch 114/300\n",
            "32/32 [==============================] - 0s 6ms/step - loss: 0.3622 - val_loss: 0.0765\n",
            "Epoch 115/300\n",
            "32/32 [==============================] - 0s 6ms/step - loss: 0.2756 - val_loss: 0.0771\n",
            "Epoch 116/300\n",
            "32/32 [==============================] - 0s 6ms/step - loss: 0.2389 - val_loss: 0.0726\n",
            "Epoch 117/300\n",
            "32/32 [==============================] - 0s 6ms/step - loss: 0.2901 - val_loss: 0.0727\n",
            "Epoch 118/300\n",
            "32/32 [==============================] - 0s 6ms/step - loss: 0.2756 - val_loss: 0.0747\n",
            "Epoch 119/300\n",
            "32/32 [==============================] - 0s 6ms/step - loss: 0.2807 - val_loss: 0.0815\n",
            "Epoch 120/300\n",
            "32/32 [==============================] - 0s 6ms/step - loss: 0.2516 - val_loss: 0.0845\n",
            "Epoch 121/300\n",
            "32/32 [==============================] - 0s 6ms/step - loss: 0.2526 - val_loss: 0.0859\n",
            "Epoch 122/300\n",
            "32/32 [==============================] - 0s 6ms/step - loss: 0.3251 - val_loss: 0.0877\n",
            "Epoch 123/300\n",
            "32/32 [==============================] - 0s 6ms/step - loss: 0.2699 - val_loss: 0.0871\n",
            "Epoch 124/300\n",
            "32/32 [==============================] - 0s 6ms/step - loss: 0.3312 - val_loss: 0.0855\n",
            "Epoch 125/300\n",
            "32/32 [==============================] - 0s 6ms/step - loss: 0.2800 - val_loss: 0.0863\n",
            "Epoch 126/300\n",
            "32/32 [==============================] - 0s 6ms/step - loss: 0.2880 - val_loss: 0.0831\n",
            "Epoch 127/300\n",
            "32/32 [==============================] - 0s 6ms/step - loss: 0.2757 - val_loss: 0.0811\n",
            "Epoch 128/300\n",
            "32/32 [==============================] - 0s 6ms/step - loss: 0.3051 - val_loss: 0.0768\n",
            "Epoch 129/300\n",
            "32/32 [==============================] - 0s 6ms/step - loss: 0.2685 - val_loss: 0.0722\n",
            "Epoch 130/300\n",
            "32/32 [==============================] - 0s 6ms/step - loss: 0.2539 - val_loss: 0.0691\n",
            "Epoch 131/300\n",
            "32/32 [==============================] - 0s 6ms/step - loss: 0.2312 - val_loss: 0.0665\n",
            "Epoch 132/300\n",
            "32/32 [==============================] - 0s 6ms/step - loss: 0.1908 - val_loss: 0.0662\n",
            "Epoch 133/300\n",
            "32/32 [==============================] - 0s 6ms/step - loss: 0.2503 - val_loss: 0.0662\n",
            "Epoch 134/300\n",
            "32/32 [==============================] - 0s 6ms/step - loss: 0.2419 - val_loss: 0.0663\n",
            "Epoch 135/300\n",
            "32/32 [==============================] - 0s 6ms/step - loss: 0.2077 - val_loss: 0.0664\n",
            "Epoch 136/300\n",
            "32/32 [==============================] - 0s 6ms/step - loss: 0.1942 - val_loss: 0.0664\n",
            "Epoch 137/300\n",
            "32/32 [==============================] - 0s 6ms/step - loss: 0.1874 - val_loss: 0.0674\n",
            "Epoch 138/300\n",
            "32/32 [==============================] - 0s 6ms/step - loss: 0.2031 - val_loss: 0.0688\n",
            "Epoch 139/300\n",
            "32/32 [==============================] - 0s 6ms/step - loss: 0.1983 - val_loss: 0.0707\n",
            "Epoch 140/300\n",
            "32/32 [==============================] - 0s 6ms/step - loss: 0.2231 - val_loss: 0.0738\n",
            "Epoch 141/300\n",
            "32/32 [==============================] - 0s 6ms/step - loss: 0.1929 - val_loss: 0.0763\n",
            "Epoch 142/300\n",
            "32/32 [==============================] - 0s 6ms/step - loss: 0.2059 - val_loss: 0.0792\n",
            "Epoch 143/300\n",
            "32/32 [==============================] - 0s 6ms/step - loss: 0.2105 - val_loss: 0.0815\n",
            "Epoch 144/300\n",
            "32/32 [==============================] - 0s 6ms/step - loss: 0.2247 - val_loss: 0.0855\n",
            "Epoch 145/300\n",
            "32/32 [==============================] - 0s 6ms/step - loss: 0.2216 - val_loss: 0.0876\n",
            "Epoch 146/300\n",
            "32/32 [==============================] - 0s 6ms/step - loss: 0.2513 - val_loss: 0.0836\n",
            "Epoch 147/300\n",
            "32/32 [==============================] - 0s 6ms/step - loss: 0.2265 - val_loss: 0.0769\n",
            "Epoch 148/300\n",
            "32/32 [==============================] - 0s 6ms/step - loss: 0.1772 - val_loss: 0.0735\n",
            "Epoch 149/300\n",
            "32/32 [==============================] - 0s 6ms/step - loss: 0.2151 - val_loss: 0.0700\n",
            "Epoch 150/300\n",
            "32/32 [==============================] - 0s 6ms/step - loss: 0.1778 - val_loss: 0.0684\n",
            "Epoch 151/300\n",
            "32/32 [==============================] - 0s 6ms/step - loss: 0.2021 - val_loss: 0.0668\n",
            "Epoch 152/300\n",
            "32/32 [==============================] - 0s 6ms/step - loss: 0.1539 - val_loss: 0.0676\n",
            "Epoch 153/300\n",
            "32/32 [==============================] - 0s 6ms/step - loss: 0.2149 - val_loss: 0.0686\n",
            "Epoch 154/300\n",
            "32/32 [==============================] - 0s 6ms/step - loss: 0.1656 - val_loss: 0.0707\n",
            "Epoch 155/300\n",
            "32/32 [==============================] - 0s 6ms/step - loss: 0.1689 - val_loss: 0.0720\n",
            "Epoch 156/300\n",
            "32/32 [==============================] - 0s 6ms/step - loss: 0.1784 - val_loss: 0.0751\n",
            "Epoch 157/300\n",
            "32/32 [==============================] - 0s 6ms/step - loss: 0.2241 - val_loss: 0.0772\n",
            "Epoch 158/300\n",
            "32/32 [==============================] - 0s 6ms/step - loss: 0.1952 - val_loss: 0.0803\n",
            "Epoch 159/300\n",
            "32/32 [==============================] - 0s 6ms/step - loss: 0.2127 - val_loss: 0.0828\n",
            "Epoch 160/300\n",
            "32/32 [==============================] - 0s 6ms/step - loss: 0.2199 - val_loss: 0.0794\n",
            "Epoch 161/300\n",
            "32/32 [==============================] - 0s 7ms/step - loss: 0.1705 - val_loss: 0.0763\n",
            "Epoch 162/300\n",
            "32/32 [==============================] - 0s 6ms/step - loss: 0.1795 - val_loss: 0.0716\n",
            "Epoch 163/300\n",
            "32/32 [==============================] - 0s 6ms/step - loss: 0.1792 - val_loss: 0.0698\n",
            "Epoch 164/300\n",
            "32/32 [==============================] - 0s 6ms/step - loss: 0.1666 - val_loss: 0.0698\n",
            "Epoch 165/300\n",
            "32/32 [==============================] - 0s 6ms/step - loss: 0.1352 - val_loss: 0.0686\n",
            "Epoch 166/300\n",
            "32/32 [==============================] - 0s 6ms/step - loss: 0.1781 - val_loss: 0.0672\n",
            "Epoch 167/300\n",
            "32/32 [==============================] - 0s 6ms/step - loss: 0.1991 - val_loss: 0.0666\n",
            "Epoch 168/300\n",
            "32/32 [==============================] - 0s 6ms/step - loss: 0.1982 - val_loss: 0.0692\n",
            "Epoch 169/300\n",
            "32/32 [==============================] - 0s 6ms/step - loss: 0.1595 - val_loss: 0.0709\n",
            "Epoch 170/300\n",
            "32/32 [==============================] - 0s 6ms/step - loss: 0.1529 - val_loss: 0.0724\n",
            "Epoch 171/300\n",
            "32/32 [==============================] - 0s 6ms/step - loss: 0.1677 - val_loss: 0.0741\n",
            "Epoch 172/300\n",
            "32/32 [==============================] - 0s 6ms/step - loss: 0.1227 - val_loss: 0.0756\n",
            "Epoch 173/300\n",
            "32/32 [==============================] - 0s 6ms/step - loss: 0.1496 - val_loss: 0.0754\n",
            "Epoch 174/300\n",
            "32/32 [==============================] - 0s 6ms/step - loss: 0.1590 - val_loss: 0.0764\n",
            "Epoch 175/300\n",
            "32/32 [==============================] - 0s 6ms/step - loss: 0.1826 - val_loss: 0.0752\n",
            "Epoch 176/300\n",
            "32/32 [==============================] - 0s 6ms/step - loss: 0.1559 - val_loss: 0.0750\n",
            "Epoch 177/300\n",
            "32/32 [==============================] - 0s 6ms/step - loss: 0.1604 - val_loss: 0.0743\n",
            "Epoch 178/300\n",
            "32/32 [==============================] - 0s 6ms/step - loss: 0.1606 - val_loss: 0.0733\n",
            "Epoch 179/300\n",
            "32/32 [==============================] - 0s 6ms/step - loss: 0.1755 - val_loss: 0.0728\n",
            "Epoch 180/300\n",
            "32/32 [==============================] - 0s 6ms/step - loss: 0.1286 - val_loss: 0.0732\n",
            "Epoch 181/300\n",
            "32/32 [==============================] - 0s 6ms/step - loss: 0.1554 - val_loss: 0.0738\n",
            "Epoch 182/300\n",
            "32/32 [==============================] - 0s 6ms/step - loss: 0.1686 - val_loss: 0.0757\n",
            "Epoch 183/300\n",
            "32/32 [==============================] - 0s 6ms/step - loss: 0.1605 - val_loss: 0.0771\n",
            "Epoch 184/300\n",
            "32/32 [==============================] - 0s 6ms/step - loss: 0.1670 - val_loss: 0.0759\n",
            "Epoch 185/300\n",
            "32/32 [==============================] - 0s 6ms/step - loss: 0.1636 - val_loss: 0.0746\n",
            "Epoch 186/300\n",
            "32/32 [==============================] - 0s 6ms/step - loss: 0.1453 - val_loss: 0.0744\n",
            "Epoch 187/300\n",
            "32/32 [==============================] - 0s 6ms/step - loss: 0.1319 - val_loss: 0.0730\n",
            "Epoch 188/300\n",
            "32/32 [==============================] - 0s 6ms/step - loss: 0.1517 - val_loss: 0.0712\n",
            "Epoch 189/300\n",
            "32/32 [==============================] - 0s 6ms/step - loss: 0.1211 - val_loss: 0.0696\n",
            "Epoch 190/300\n",
            "32/32 [==============================] - 0s 6ms/step - loss: 0.1210 - val_loss: 0.0690\n",
            "Epoch 191/300\n",
            "32/32 [==============================] - 0s 6ms/step - loss: 0.1568 - val_loss: 0.0711\n",
            "Epoch 192/300\n",
            "32/32 [==============================] - 0s 6ms/step - loss: 0.1700 - val_loss: 0.0761\n",
            "Epoch 193/300\n",
            "32/32 [==============================] - 0s 6ms/step - loss: 0.1334 - val_loss: 0.0786\n",
            "Epoch 194/300\n",
            "32/32 [==============================] - 0s 6ms/step - loss: 0.1611 - val_loss: 0.0765\n",
            "Epoch 195/300\n",
            "32/32 [==============================] - 0s 6ms/step - loss: 0.1026 - val_loss: 0.0747\n",
            "Epoch 196/300\n",
            "32/32 [==============================] - 0s 6ms/step - loss: 0.1307 - val_loss: 0.0718\n",
            "Epoch 197/300\n",
            "32/32 [==============================] - 0s 6ms/step - loss: 0.1456 - val_loss: 0.0697\n",
            "Epoch 198/300\n",
            "32/32 [==============================] - 0s 6ms/step - loss: 0.1176 - val_loss: 0.0685\n",
            "Epoch 199/300\n",
            "32/32 [==============================] - 0s 6ms/step - loss: 0.1221 - val_loss: 0.0674\n",
            "Epoch 200/300\n",
            "32/32 [==============================] - 0s 6ms/step - loss: 0.1299 - val_loss: 0.0672\n",
            "Epoch 201/300\n",
            "32/32 [==============================] - 0s 6ms/step - loss: 0.1607 - val_loss: 0.0660\n",
            "Epoch 202/300\n",
            "32/32 [==============================] - 0s 6ms/step - loss: 0.1307 - val_loss: 0.0660\n",
            "Epoch 203/300\n",
            "32/32 [==============================] - 0s 6ms/step - loss: 0.1183 - val_loss: 0.0664\n",
            "Epoch 204/300\n",
            "32/32 [==============================] - 0s 6ms/step - loss: 0.1319 - val_loss: 0.0679\n",
            "Epoch 205/300\n",
            "32/32 [==============================] - 0s 6ms/step - loss: 0.1152 - val_loss: 0.0685\n",
            "Epoch 206/300\n",
            "32/32 [==============================] - 0s 6ms/step - loss: 0.1327 - val_loss: 0.0687\n",
            "Epoch 207/300\n",
            "32/32 [==============================] - 0s 6ms/step - loss: 0.1172 - val_loss: 0.0701\n",
            "Epoch 208/300\n",
            "32/32 [==============================] - 0s 6ms/step - loss: 0.1091 - val_loss: 0.0714\n",
            "Epoch 209/300\n",
            "32/32 [==============================] - 0s 6ms/step - loss: 0.0981 - val_loss: 0.0738\n",
            "Epoch 210/300\n",
            "32/32 [==============================] - 0s 6ms/step - loss: 0.1547 - val_loss: 0.0751\n",
            "Epoch 211/300\n",
            "32/32 [==============================] - 0s 6ms/step - loss: 0.1668 - val_loss: 0.0780\n",
            "Epoch 212/300\n",
            "32/32 [==============================] - 0s 6ms/step - loss: 0.1104 - val_loss: 0.0802\n",
            "Epoch 213/300\n",
            "32/32 [==============================] - 0s 6ms/step - loss: 0.1215 - val_loss: 0.0833\n",
            "Epoch 214/300\n",
            "32/32 [==============================] - 0s 6ms/step - loss: 0.1046 - val_loss: 0.0875\n",
            "Epoch 215/300\n",
            "32/32 [==============================] - 0s 6ms/step - loss: 0.1516 - val_loss: 0.0921\n",
            "Epoch 216/300\n",
            "32/32 [==============================] - 0s 6ms/step - loss: 0.1296 - val_loss: 0.0953\n",
            "Epoch 217/300\n",
            "32/32 [==============================] - 0s 7ms/step - loss: 0.1505 - val_loss: 0.1017\n",
            "Epoch 218/300\n",
            "32/32 [==============================] - 0s 6ms/step - loss: 0.1166 - val_loss: 0.1080\n",
            "Epoch 219/300\n",
            "32/32 [==============================] - 0s 6ms/step - loss: 0.1207 - val_loss: 0.1125\n",
            "Epoch 220/300\n",
            "32/32 [==============================] - 0s 6ms/step - loss: 0.1289 - val_loss: 0.1153\n",
            "Epoch 221/300\n",
            "32/32 [==============================] - 0s 6ms/step - loss: 0.1122 - val_loss: 0.1142\n",
            "Epoch 222/300\n",
            "32/32 [==============================] - 0s 6ms/step - loss: 0.1198 - val_loss: 0.1113\n",
            "Epoch 223/300\n",
            "32/32 [==============================] - 0s 6ms/step - loss: 0.1309 - val_loss: 0.1035\n",
            "Epoch 224/300\n",
            "32/32 [==============================] - 0s 6ms/step - loss: 0.1136 - val_loss: 0.0961\n",
            "Epoch 225/300\n",
            "32/32 [==============================] - 0s 6ms/step - loss: 0.1219 - val_loss: 0.0872\n",
            "Epoch 226/300\n",
            "32/32 [==============================] - 0s 6ms/step - loss: 0.1167 - val_loss: 0.0794\n",
            "Epoch 227/300\n",
            "32/32 [==============================] - 0s 6ms/step - loss: 0.1384 - val_loss: 0.0739\n",
            "Epoch 228/300\n",
            "32/32 [==============================] - 0s 6ms/step - loss: 0.1006 - val_loss: 0.0706\n",
            "Epoch 229/300\n",
            "32/32 [==============================] - 0s 6ms/step - loss: 0.1077 - val_loss: 0.0694\n",
            "Epoch 230/300\n",
            "32/32 [==============================] - 0s 6ms/step - loss: 0.0893 - val_loss: 0.0696\n",
            "Epoch 231/300\n",
            "32/32 [==============================] - 0s 6ms/step - loss: 0.1071 - val_loss: 0.0706\n",
            "Epoch 232/300\n",
            "32/32 [==============================] - 0s 6ms/step - loss: 0.1054 - val_loss: 0.0714\n",
            "Epoch 233/300\n",
            "32/32 [==============================] - 0s 6ms/step - loss: 0.1497 - val_loss: 0.0715\n",
            "Epoch 234/300\n",
            "32/32 [==============================] - 0s 6ms/step - loss: 0.1403 - val_loss: 0.0715\n",
            "Epoch 235/300\n",
            "32/32 [==============================] - 0s 6ms/step - loss: 0.1064 - val_loss: 0.0716\n",
            "Epoch 236/300\n",
            "32/32 [==============================] - 0s 6ms/step - loss: 0.1207 - val_loss: 0.0709\n",
            "Epoch 237/300\n",
            "32/32 [==============================] - 0s 6ms/step - loss: 0.1084 - val_loss: 0.0699\n",
            "Epoch 238/300\n",
            "32/32 [==============================] - 0s 6ms/step - loss: 0.0994 - val_loss: 0.0683\n",
            "Epoch 239/300\n",
            "32/32 [==============================] - 0s 6ms/step - loss: 0.1010 - val_loss: 0.0677\n",
            "Epoch 240/300\n",
            "32/32 [==============================] - 0s 6ms/step - loss: 0.1145 - val_loss: 0.0671\n",
            "Epoch 241/300\n",
            "32/32 [==============================] - 0s 6ms/step - loss: 0.0954 - val_loss: 0.0665\n",
            "Epoch 242/300\n",
            "32/32 [==============================] - 0s 6ms/step - loss: 0.0870 - val_loss: 0.0651\n",
            "Epoch 243/300\n",
            "32/32 [==============================] - 0s 6ms/step - loss: 0.0956 - val_loss: 0.0651\n",
            "Epoch 244/300\n",
            "32/32 [==============================] - 0s 6ms/step - loss: 0.0956 - val_loss: 0.0660\n",
            "Epoch 245/300\n",
            "32/32 [==============================] - 0s 6ms/step - loss: 0.1296 - val_loss: 0.0670\n",
            "Epoch 246/300\n",
            "32/32 [==============================] - 0s 6ms/step - loss: 0.0973 - val_loss: 0.0676\n",
            "Epoch 247/300\n",
            "32/32 [==============================] - 0s 6ms/step - loss: 0.1080 - val_loss: 0.0675\n",
            "Epoch 248/300\n",
            "32/32 [==============================] - 0s 6ms/step - loss: 0.1077 - val_loss: 0.0670\n",
            "Epoch 249/300\n",
            "32/32 [==============================] - 0s 6ms/step - loss: 0.1104 - val_loss: 0.0670\n",
            "Epoch 250/300\n",
            "32/32 [==============================] - 0s 6ms/step - loss: 0.1111 - val_loss: 0.0676\n",
            "Epoch 251/300\n",
            "32/32 [==============================] - 0s 6ms/step - loss: 0.1248 - val_loss: 0.0685\n",
            "Epoch 252/300\n",
            "32/32 [==============================] - 0s 6ms/step - loss: 0.1054 - val_loss: 0.0697\n",
            "Epoch 253/300\n",
            "32/32 [==============================] - 0s 6ms/step - loss: 0.1080 - val_loss: 0.0710\n",
            "Epoch 254/300\n",
            "32/32 [==============================] - 0s 6ms/step - loss: 0.0909 - val_loss: 0.0726\n",
            "Epoch 255/300\n",
            "32/32 [==============================] - 0s 6ms/step - loss: 0.1000 - val_loss: 0.0744\n",
            "Epoch 256/300\n",
            "32/32 [==============================] - 0s 6ms/step - loss: 0.0942 - val_loss: 0.0760\n",
            "Epoch 257/300\n",
            "32/32 [==============================] - 0s 6ms/step - loss: 0.0931 - val_loss: 0.0781\n",
            "Epoch 258/300\n",
            "32/32 [==============================] - 0s 6ms/step - loss: 0.1183 - val_loss: 0.0811\n",
            "Epoch 259/300\n",
            "32/32 [==============================] - 0s 6ms/step - loss: 0.0949 - val_loss: 0.0842\n",
            "Epoch 260/300\n",
            "32/32 [==============================] - 0s 6ms/step - loss: 0.1102 - val_loss: 0.0881\n",
            "Epoch 261/300\n",
            "32/32 [==============================] - 0s 6ms/step - loss: 0.0884 - val_loss: 0.0928\n",
            "Epoch 262/300\n",
            "32/32 [==============================] - 0s 6ms/step - loss: 0.0924 - val_loss: 0.0969\n",
            "Epoch 263/300\n",
            "32/32 [==============================] - 0s 6ms/step - loss: 0.0966 - val_loss: 0.1006\n",
            "Epoch 264/300\n",
            "32/32 [==============================] - 0s 6ms/step - loss: 0.0840 - val_loss: 0.1038\n",
            "Epoch 265/300\n",
            "32/32 [==============================] - 0s 6ms/step - loss: 0.1063 - val_loss: 0.1045\n",
            "Epoch 266/300\n",
            "32/32 [==============================] - 0s 6ms/step - loss: 0.1117 - val_loss: 0.1044\n",
            "Epoch 267/300\n",
            "32/32 [==============================] - 0s 6ms/step - loss: 0.0841 - val_loss: 0.1047\n",
            "Epoch 268/300\n",
            "32/32 [==============================] - 0s 6ms/step - loss: 0.1307 - val_loss: 0.1021\n",
            "Epoch 269/300\n",
            "32/32 [==============================] - 0s 6ms/step - loss: 0.1064 - val_loss: 0.0991\n",
            "Epoch 270/300\n",
            "32/32 [==============================] - 0s 6ms/step - loss: 0.0872 - val_loss: 0.0982\n",
            "Epoch 271/300\n",
            "32/32 [==============================] - 0s 6ms/step - loss: 0.0841 - val_loss: 0.0961\n",
            "Epoch 272/300\n",
            "32/32 [==============================] - 0s 7ms/step - loss: 0.1100 - val_loss: 0.0922\n",
            "Epoch 273/300\n",
            "32/32 [==============================] - 0s 6ms/step - loss: 0.1144 - val_loss: 0.0876\n",
            "Epoch 274/300\n",
            "32/32 [==============================] - 0s 6ms/step - loss: 0.0953 - val_loss: 0.0841\n",
            "Epoch 275/300\n",
            "32/32 [==============================] - 0s 6ms/step - loss: 0.1074 - val_loss: 0.0799\n",
            "Epoch 276/300\n",
            "32/32 [==============================] - 0s 6ms/step - loss: 0.0849 - val_loss: 0.0765\n",
            "Epoch 277/300\n",
            "32/32 [==============================] - 0s 6ms/step - loss: 0.0930 - val_loss: 0.0738\n",
            "Epoch 278/300\n",
            "32/32 [==============================] - 0s 6ms/step - loss: 0.1219 - val_loss: 0.0709\n",
            "Epoch 279/300\n",
            "32/32 [==============================] - 0s 6ms/step - loss: 0.0708 - val_loss: 0.0698\n",
            "Epoch 280/300\n",
            "32/32 [==============================] - 0s 6ms/step - loss: 0.0862 - val_loss: 0.0687\n",
            "Epoch 281/300\n",
            "32/32 [==============================] - 0s 6ms/step - loss: 0.0851 - val_loss: 0.0679\n",
            "Epoch 282/300\n",
            "32/32 [==============================] - 0s 6ms/step - loss: 0.0898 - val_loss: 0.0674\n",
            "Epoch 283/300\n",
            "32/32 [==============================] - 0s 6ms/step - loss: 0.1012 - val_loss: 0.0674\n",
            "Epoch 284/300\n",
            "32/32 [==============================] - 0s 6ms/step - loss: 0.1139 - val_loss: 0.0677\n",
            "Epoch 285/300\n",
            "32/32 [==============================] - 0s 6ms/step - loss: 0.0759 - val_loss: 0.0688\n",
            "Epoch 286/300\n",
            "32/32 [==============================] - 0s 6ms/step - loss: 0.1323 - val_loss: 0.0694\n",
            "Epoch 287/300\n",
            "32/32 [==============================] - 0s 6ms/step - loss: 0.0924 - val_loss: 0.0693\n",
            "Epoch 288/300\n",
            "32/32 [==============================] - 0s 6ms/step - loss: 0.0821 - val_loss: 0.0693\n",
            "Epoch 289/300\n",
            "32/32 [==============================] - 0s 6ms/step - loss: 0.1151 - val_loss: 0.0693\n",
            "Epoch 290/300\n",
            "32/32 [==============================] - 0s 6ms/step - loss: 0.0802 - val_loss: 0.0699\n",
            "Epoch 291/300\n",
            "32/32 [==============================] - 0s 6ms/step - loss: 0.1106 - val_loss: 0.0710\n",
            "Epoch 292/300\n",
            "32/32 [==============================] - 0s 6ms/step - loss: 0.0928 - val_loss: 0.0711\n",
            "Epoch 293/300\n",
            "32/32 [==============================] - 0s 6ms/step - loss: 0.1063 - val_loss: 0.0716\n",
            "Epoch 294/300\n",
            "32/32 [==============================] - 0s 6ms/step - loss: 0.1081 - val_loss: 0.0722\n",
            "Epoch 295/300\n",
            "32/32 [==============================] - 0s 6ms/step - loss: 0.1103 - val_loss: 0.0732\n",
            "Epoch 296/300\n",
            "32/32 [==============================] - 0s 6ms/step - loss: 0.0946 - val_loss: 0.0744\n",
            "Epoch 297/300\n",
            "32/32 [==============================] - 0s 6ms/step - loss: 0.1000 - val_loss: 0.0764\n",
            "Epoch 298/300\n",
            "32/32 [==============================] - 0s 6ms/step - loss: 0.0951 - val_loss: 0.0781\n",
            "Epoch 299/300\n",
            "32/32 [==============================] - 0s 6ms/step - loss: 0.0693 - val_loss: 0.0786\n",
            "Epoch 300/300\n",
            "32/32 [==============================] - 0s 6ms/step - loss: 0.0857 - val_loss: 0.0783\n"
          ],
          "name": "stdout"
        },
        {
          "output_type": "execute_result",
          "data": {
            "text/plain": [
              "<keras.callbacks.History at 0x7f4496832080>"
            ]
          },
          "metadata": {
            "tags": []
          },
          "execution_count": 263
        }
      ]
    },
    {
      "cell_type": "code",
      "metadata": {
        "id": "u26vQujzslpE",
        "colab_type": "code",
        "colab": {
          "base_uri": "https://localhost:8080/",
          "height": 34
        },
        "outputId": "288853fd-45f6-4bda-a1b5-936ab7e6e6a0"
      },
      "source": [
        "y_test"
      ],
      "execution_count": 176,
      "outputs": [
        {
          "output_type": "execute_result",
          "data": {
            "text/plain": [
              "array([0.5047, 0.5747, 0.4993, 0.7149, 0.6848, 0.6367, 0.6478, 0.4901])"
            ]
          },
          "metadata": {
            "tags": []
          },
          "execution_count": 176
        }
      ]
    },
    {
      "cell_type": "code",
      "metadata": {
        "id": "BCPw3K8MsoN5",
        "colab_type": "code",
        "colab": {
          "base_uri": "https://localhost:8080/",
          "height": 697
        },
        "outputId": "cb6bfdd4-8ae1-4d70-cc8e-b29e5ffb4351"
      },
      "source": [
        "model.predict(X_1)"
      ],
      "execution_count": 270,
      "outputs": [
        {
          "output_type": "execute_result",
          "data": {
            "text/plain": [
              "array([[0.2880967 ],\n",
              "       [0.41281396],\n",
              "       [0.43681517],\n",
              "       [0.43240187],\n",
              "       [0.77050173],\n",
              "       [0.5918872 ],\n",
              "       [0.45932207],\n",
              "       [0.43224853],\n",
              "       [0.38529983],\n",
              "       [0.5271696 ],\n",
              "       [0.41128528],\n",
              "       [0.54900587],\n",
              "       [0.69222766],\n",
              "       [0.42199433],\n",
              "       [0.32088408],\n",
              "       [0.5286932 ],\n",
              "       [0.60396737],\n",
              "       [0.5048961 ],\n",
              "       [0.655513  ],\n",
              "       [0.81840855],\n",
              "       [0.49002036],\n",
              "       [0.667513  ],\n",
              "       [0.6388856 ],\n",
              "       [0.59454703],\n",
              "       [0.7145829 ],\n",
              "       [1.0152168 ],\n",
              "       [0.94427717],\n",
              "       [0.81832707],\n",
              "       [0.33630764],\n",
              "       [0.5083586 ],\n",
              "       [0.32537094],\n",
              "       [0.52669114],\n",
              "       [0.45116425],\n",
              "       [0.38697127],\n",
              "       [0.5415441 ],\n",
              "       [0.77172065],\n",
              "       [0.8619351 ],\n",
              "       [0.41667986],\n",
              "       [0.41391388],\n",
              "       [0.52204984]], dtype=float32)"
            ]
          },
          "metadata": {
            "tags": []
          },
          "execution_count": 270
        }
      ]
    },
    {
      "cell_type": "code",
      "metadata": {
        "id": "Hr2cTFh8ssnl",
        "colab_type": "code",
        "outputId": "7d5c0d87-3039-436f-eed2-b32714654d52",
        "colab": {
          "base_uri": "https://localhost:8080/",
          "height": 286
        }
      },
      "source": [
        "plt.subplot(211)\n",
        "plt.plot(np.arange(32), y_train, c='r')\n",
        "plt.plot(np.arange(32), model.predict(x_train) , c = 'blue')\n",
        "\n",
        "plt.subplot(212)\n",
        "plt.plot(np.arange(8), y_test, c='r')\n",
        "plt.plot(np.arange(8), model.predict(x_test) , c = 'blue')"
      ],
      "execution_count": 266,
      "outputs": [
        {
          "output_type": "execute_result",
          "data": {
            "text/plain": [
              "[<matplotlib.lines.Line2D at 0x7f4495afa748>]"
            ]
          },
          "metadata": {
            "tags": []
          },
          "execution_count": 266
        },
        {
          "output_type": "display_data",
          "data": {
            "image/png": "[encoded data removed]",
            "text/plain": [
              "<Figure size 432x288 with 2 Axes>"
            ]
          },
          "metadata": {
            "tags": []
          }
        }
      ]
    },
    {
      "cell_type": "code",
      "metadata": {
        "id": "wUSv3HiIs5cP",
        "colab_type": "code",
        "colab": {
          "base_uri": "https://localhost:8080/",
          "height": 626
        },
        "outputId": "6bb01523-26a7-4817-8646-bc2027fbc36a"
      },
      "source": [
        "plt.figure(figsize=(10, 10))\n",
        "plt.plot(np.arange(40), Y, c='r', label = 'REAL')\n",
        "plt.plot(np.arange(40), model.predict(X_1) , c = 'blue', label = 'Predicted')\n",
        "\n",
        "plt.xlabel('data size')\n",
        "plt.ylabel('quality prediction')\n",
        "\n",
        "plt.legend('best')"
      ],
      "execution_count": 274,
      "outputs": [
        {
          "output_type": "execute_result",
          "data": {
            "text/plain": [
              "<matplotlib.legend.Legend at 0x7f44958b7ef0>"
            ]
          },
          "metadata": {
            "tags": []
          },
          "execution_count": 274
        },
        {
          "output_type": "display_data",
          "data": {
            "image/png": "[encoded data removed]",
            "text/plain": [
              "<Figure size 720x720 with 1 Axes>"
            ]
          },
          "metadata": {
            "tags": []
          }
        }
      ]
    },
    {
      "cell_type": "code",
      "metadata": {
        "id": "3rVpzkCHYLZx",
        "colab_type": "code",
        "colab": {}
      },
      "source": [
        "def rmse(x, y):\n",
        "   return np.sqrt(((y - x) ** 2).mean())"
      ],
      "execution_count": 0,
      "outputs": []
    },
    {
      "cell_type": "code",
      "metadata": {
        "id": "SVLj9tHMYbSx",
        "colab_type": "code",
        "colab": {
          "base_uri": "https://localhost:8080/",
          "height": 34
        },
        "outputId": "839a2681-fb47-4cd2-c9ed-8bdb70c2c517"
      },
      "source": [
        "rmse(model.predict(X_1), Y)"
      ],
      "execution_count": 272,
      "outputs": [
        {
          "output_type": "execute_result",
          "data": {
            "text/plain": [
              "0.26632238617044435"
            ]
          },
          "metadata": {
            "tags": []
          },
          "execution_count": 272
        }
      ]
    },
    {
      "cell_type": "code",
      "metadata": {
        "id": "ul0RrXBiY3KA",
        "colab_type": "code",
        "colab": {}
      },
      "source": [
        "model_json = model.to_json()\n",
        "open('quality_prediction_1', 'w').write(model_json)\n",
        "model.save_weights('quality_prediction_1.h')"
      ],
      "execution_count": 0,
      "outputs": []
    },
    {
      "cell_type": "code",
      "metadata": {
        "id": "e_pRhF0G4SUY",
        "colab_type": "code",
        "colab": {
          "base_uri": "https://localhost:8080/",
          "height": 34
        },
        "outputId": "36c00126-5464-4e73-ac4d-84296526f0a6"
      },
      "source": [
        "from keras.models import model_from_json\n",
        "model_json = model.to_json()\n",
        "with open('quality_prediction_1.json', \"w\") as json_file:\n",
        "    json_file.write(model_json)\n",
        "# serialize weights to HDF5\n",
        "model.save_weights(\"quality_prediction_1.h5\")\n",
        "print(\"Saved model to disk\")"
      ],
      "execution_count": 277,
      "outputs": [
        {
          "output_type": "stream",
          "text": [
            "Saved model to disk\n"
          ],
          "name": "stdout"
        }
      ]
    },
    {
      "cell_type": "code",
      "metadata": {
        "id": "G8y9BuKW5b0-",
        "colab_type": "code",
        "colab": {
          "resources": {
            "http://localhost:8080/nbextensions/google.colab/files.js": {
              "data": "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",
              "ok": true,
              "headers": [
                [
                  "content-type",
                  "application/javascript"
                ]
              ],
              "status": 200,
              "status_text": ""
            }
          },
          "base_uri": "https://localhost:8080/",
          "height": 550
        },
        "outputId": "467c7ce0-3bce-486d-aec0-d2957befed22"
      },
      "source": [
        "from google.colab import files\n",
        "uploaded = files.upload()\n",
        "\n",
        "for real in uploaded.keys():\n",
        "  print('User uploaded file \"{name}\" with length {length} bytes'.format(\n",
        "      name=real, length=len(uploaded[real])))"
      ],
      "execution_count": 278,
      "outputs": [
        {
          "output_type": "display_data",
          "data": {
            "text/html": [
              "\n",
              "     <input type=\"file\" id=\"files-8c3ad252-c0a4-43d7-89ed-ae4dd1a0da74\" name=\"files[]\" multiple disabled />\n",
              "     <output id=\"result-8c3ad252-c0a4-43d7-89ed-ae4dd1a0da74\">\n",
              "      Upload widget is only available when the cell has been executed in the\n",
              "      current browser session. Please rerun this cell to enable.\n",
              "      </output>\n",
              "      <script src=\"/nbextensions/google.colab/files.js\"></script> "
            ],
            "text/plain": [
              "<IPython.core.display.HTML object>"
            ]
          },
          "metadata": {
            "tags": []
          }
        },
        {
          "output_type": "stream",
          "text": [
            "Saving 1_10450.xls to 1_10450.xls\n",
            "Saving 2_143535.xls to 2_143535.xls\n",
            "Saving 3_17837.xls to 3_17837.xls\n",
            "Saving 4_175644.xls to 4_175644.xls\n",
            "Saving 5_17747.xls to 5_17747.xls\n",
            "Saving 6_8419.xls to 6_8419.xls\n",
            "Saving 7_161338.xls to 7_161338.xls\n",
            "Saving 8_181928.xls to 8_181928.xls\n",
            "Saving 9_84549.xls to 9_84549.xls\n",
            "Saving 10_155127.xls to 10_155127.xls\n",
            "User uploaded file \"1_10450.xls\" with length 730624 bytes\n",
            "User uploaded file \"2_143535.xls\" with length 730624 bytes\n",
            "User uploaded file \"3_17837.xls\" with length 730624 bytes\n",
            "User uploaded file \"4_175644.xls\" with length 730624 bytes\n",
            "User uploaded file \"5_17747.xls\" with length 730624 bytes\n",
            "User uploaded file \"6_8419.xls\" with length 730624 bytes\n",
            "User uploaded file \"7_161338.xls\" with length 730624 bytes\n",
            "User uploaded file \"8_181928.xls\" with length 730624 bytes\n",
            "User uploaded file \"9_84549.xls\" with length 730624 bytes\n",
            "User uploaded file \"10_155127.xls\" with length 730624 bytes\n"
          ],
          "name": "stdout"
        }
      ]
    },
    {
      "cell_type": "code",
      "metadata": {
        "id": "3Rz6_Hsd6CZq",
        "colab_type": "code",
        "colab": {}
      },
      "source": [
        "path2 = []\n",
        "df2 = []\n",
        "t2 = []\n",
        "for real in uploaded.keys():\n",
        "    path2.append(real)\n",
        "for i in range(10):\n",
        "    df2.append(\"df%d\" % i)  \n",
        "    t2.append(\"t%d\" % i)"
      ],
      "execution_count": 0,
      "outputs": []
    },
    {
      "cell_type": "code",
      "metadata": {
        "id": "HfzQW5ij6TKc",
        "colab_type": "code",
        "colab": {}
      },
      "source": [
        "for i in range(10):\n",
        "    #read files into list\n",
        "    df2[i] = pd.read_excel(path2[i])\n",
        "    \n",
        "\n",
        "    #cleaning data\n",
        "    col_1 = pd.DataFrame(df2[i].columns.values.reshape(1,4), index=[0], columns = list('ABCD'), dtype= float)\n",
        "    df2[i].columns = list('ABCD')\n",
        "    df2[i] = pd.concat([col_1, df2[i]], axis=0)\n",
        "    df2[i].index = range(1,7501)\n",
        "    \n",
        "    #dtype of COL_A is 'object', change into float ???????\n",
        "    df2[i].A = pd.to_numeric(df2[i].A)\n",
        "    "
      ],
      "execution_count": 0,
      "outputs": []
    },
    {
      "cell_type": "code",
      "metadata": {
        "id": "ERr1n58i67LY",
        "colab_type": "code",
        "colab": {
          "base_uri": "https://localhost:8080/",
          "height": 952
        },
        "outputId": "017444ea-2d74-4df6-8fd4-79bbb1d9da3b"
      },
      "source": [
        "XX = np.zeros((10, 4 ,7500))\n",
        "for i in range(10):\n",
        "    XX[i] = df2[i].T.values\n",
        "XX"
      ],
      "execution_count": 287,
      "outputs": [
        {
          "output_type": "execute_result",
          "data": {
            "text/plain": [
              "array([[[1.90016922e-05, 1.83946173e-05, 1.63527120e-05, ...,\n",
              "         5.70849121e-07, 7.22206854e-07, 2.09590435e-06],\n",
              "        [1.48468933e-05, 1.63873177e-05, 1.67252819e-05, ...,\n",
              "         2.20205789e-06, 2.40005443e-06, 1.62559435e-06],\n",
              "        [2.02268313e-05, 2.67338404e-05, 1.13532132e-05, ...,\n",
              "         8.59131178e-07, 5.25593255e-07, 4.34669004e-06],\n",
              "        [1.93413697e-05, 1.90832277e-05, 9.92758456e-06, ...,\n",
              "         4.31837423e-07, 1.00446250e-06, 2.30678102e-06]],\n",
              "\n",
              "       [[1.26515192e-05, 6.06982430e-06, 1.98018709e-06, ...,\n",
              "         4.59949553e-06, 5.12132714e-06, 3.10574628e-06],\n",
              "        [1.07380450e-05, 4.70688128e-06, 1.77143956e-06, ...,\n",
              "         6.73080009e-06, 4.49058318e-06, 3.19109497e-06],\n",
              "        [1.39013804e-05, 1.20116859e-05, 1.44996068e-05, ...,\n",
              "         2.28607048e-06, 1.29811650e-06, 1.08281733e-06],\n",
              "        [4.41363440e-06, 4.94745258e-06, 7.87304324e-06, ...,\n",
              "         2.52749411e-06, 2.76560482e-06, 1.34824145e-06]],\n",
              "\n",
              "       [[4.61587533e-06, 1.93649340e-06, 3.66004845e-06, ...,\n",
              "         2.39930104e-06, 1.80891218e-06, 1.65052868e-06],\n",
              "        [2.76603375e-06, 2.30945039e-06, 2.29101624e-06, ...,\n",
              "         2.28503244e-06, 7.62995590e-07, 2.32870142e-06],\n",
              "        [3.23511927e-05, 2.50479228e-05, 7.59844617e-06, ...,\n",
              "         3.13937343e-06, 1.01715377e-06, 1.45188704e-06],\n",
              "        [1.60792261e-06, 1.13254907e-06, 3.91917813e-06, ...,\n",
              "         1.69113973e-06, 1.75862454e-06, 1.50053982e-06]],\n",
              "\n",
              "       ...,\n",
              "\n",
              "       [[1.15739015e-05, 9.00070099e-06, 8.27640289e-06, ...,\n",
              "         5.20674385e-06, 3.94124136e-06, 2.15988101e-06],\n",
              "        [7.66565450e-06, 5.84973095e-06, 6.56656606e-06, ...,\n",
              "         3.45069194e-06, 3.04984227e-06, 1.75436974e-06],\n",
              "        [5.43312989e-06, 1.09690288e-05, 1.34282032e-05, ...,\n",
              "         3.69593951e-06, 3.77096691e-06, 2.02037564e-06],\n",
              "        [1.96809761e-06, 6.76576628e-06, 8.63799902e-06, ...,\n",
              "         3.13979390e-06, 3.21382264e-06, 1.85089620e-06]],\n",
              "\n",
              "       [[4.34052912e-05, 2.32905549e-05, 4.23394476e-06, ...,\n",
              "         2.72632777e-06, 2.53696696e-06, 1.84833003e-06],\n",
              "        [1.75737613e-05, 9.85338751e-06, 1.47343615e-06, ...,\n",
              "         3.06113514e-06, 2.79751361e-06, 1.59128169e-06],\n",
              "        [8.17636029e-06, 4.08667522e-06, 5.20460929e-06, ...,\n",
              "         2.81939932e-06, 2.26588746e-06, 2.18849318e-06],\n",
              "        [1.16560046e-05, 6.51983312e-06, 4.59886432e-06, ...,\n",
              "         2.77301656e-06, 2.53963017e-06, 1.93380199e-06]],\n",
              "\n",
              "       [[1.07646182e-05, 6.32336608e-06, 3.15600447e-06, ...,\n",
              "         1.09007888e-05, 3.19469345e-06, 7.99034377e-06],\n",
              "        [5.19626977e-06, 3.91441596e-06, 2.49073929e-06, ...,\n",
              "         8.70150609e-06, 3.21844000e-06, 7.77223091e-06],\n",
              "        [1.02942423e-05, 8.80554651e-06, 8.63926280e-06, ...,\n",
              "         8.07208641e-06, 2.20163910e-06, 6.31592089e-06],\n",
              "        [5.00594683e-06, 4.57497615e-06, 5.74051845e-06, ...,\n",
              "         7.72041740e-06, 3.39066371e-06, 5.88989119e-06]]])"
            ]
          },
          "metadata": {
            "tags": []
          },
          "execution_count": 287
        }
      ]
    },
    {
      "cell_type": "code",
      "metadata": {
        "id": "2_bMxy3-7Cug",
        "colab_type": "code",
        "colab": {}
      },
      "source": [
        "XX_1 = (XX - XX.min()) / (XX.max() - XX.min())"
      ],
      "execution_count": 0,
      "outputs": []
    },
    {
      "cell_type": "code",
      "metadata": {
        "id": "LCwb2ru879Uc",
        "colab_type": "code",
        "colab": {
          "base_uri": "https://localhost:8080/",
          "height": 187
        },
        "outputId": "f7a8bc23-485e-4afc-c715-8e674c688f9c"
      },
      "source": [
        "model.predict(XX_1)"
      ],
      "execution_count": 290,
      "outputs": [
        {
          "output_type": "execute_result",
          "data": {
            "text/plain": [
              "array([[0.5048183 ],\n",
              "       [0.47033897],\n",
              "       [0.5035056 ],\n",
              "       [0.54047376],\n",
              "       [0.5944152 ],\n",
              "       [0.676899  ],\n",
              "       [0.495694  ],\n",
              "       [0.46301422],\n",
              "       [0.5006594 ],\n",
              "       [0.54138935]], dtype=float32)"
            ]
          },
          "metadata": {
            "tags": []
          },
          "execution_count": 290
        }
      ]
    },
    {
      "cell_type": "code",
      "metadata": {
        "id": "2l-T0a6V8BbN",
        "colab_type": "code",
        "colab": {
          "base_uri": "https://localhost:8080/",
          "height": 187
        },
        "outputId": "7d822d68-2e14-473d-df12-326e0788e9c4"
      },
      "source": [
        "for i in range(10):\n",
        "  print('The quality prediction of NUM (%d) data is = (%f)' %(i, model.predict(XX_1)[i]))"
      ],
      "execution_count": 300,
      "outputs": [
        {
          "output_type": "stream",
          "text": [
            "The quality prediction of NUM (0) data is = (0.504818)\n",
            "The quality prediction of NUM (1) data is = (0.470339)\n",
            "The quality prediction of NUM (2) data is = (0.503506)\n",
            "The quality prediction of NUM (3) data is = (0.540474)\n",
            "The quality prediction of NUM (4) data is = (0.594415)\n",
            "The quality prediction of NUM (5) data is = (0.676899)\n",
            "The quality prediction of NUM (6) data is = (0.495694)\n",
            "The quality prediction of NUM (7) data is = (0.463014)\n",
            "The quality prediction of NUM (8) data is = (0.500659)\n",
            "The quality prediction of NUM (9) data is = (0.541389)\n"
          ],
          "name": "stdout"
        }
      ]
    },
    {
      "cell_type": "code",
      "metadata": {
        "id": "0eXxA_az8o4g",
        "colab_type": "code",
        "colab": {}
      },
      "source": [
        ""
      ],
      "execution_count": 0,
      "outputs": []
    }
  ]
}