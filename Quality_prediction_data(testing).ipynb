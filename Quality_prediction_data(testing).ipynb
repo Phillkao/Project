{
  "nbformat": 4,
  "nbformat_minor": 0,
  "metadata": {
    "colab": {
      "name": "Copy of Quality prediction data.ipynb",
      "version": "0.3.2",
      "provenance": [],
      "include_colab_link": true
    },
    "language_info": {
      "codemirror_mode": {
        "name": "ipython",
        "version": 3
      },
      "file_extension": ".py",
      "mimetype": "text/x-python",
      "name": "python",
      "nbconvert_exporter": "python",
      "pygments_lexer": "ipython3",
      "version": "3.7.3"
    },
    "kernelspec": {
      "name": "python3",
      "display_name": "Python 3"
    },
    "accelerator": "TPU"
  },
  "cells": [
    {
      "cell_type": "markdown",
      "metadata": {
        "id": "view-in-github",
        "colab_type": "text"
      },
      "source": [
        "<a href=\"https://colab.research.google.com/github/Phillkao/Project/blob/master/Quality_prediction_data(testing).ipynb\" target=\"_parent\"><img src=\"https://colab.research.google.com/assets/colab-badge.svg\" alt=\"Open In Colab\"/></a>"
      ]
    },
    {
      "cell_type": "code",
      "metadata": {
        "id": "tDdL1lH_8n5K",
        "colab_type": "code",
        "colab": {}
      },
      "source": [
        "import pandas as pd\n",
        "import numpy as np\n",
        "import matplotlib.pyplot as plt\n",
        "import seaborn as sn\n",
        "\n",
        "import os"
      ],
      "execution_count": 0,
      "outputs": []
    },
    {
      "cell_type": "markdown",
      "metadata": {
        "id": "7ISaZ0Ip8n5P",
        "colab_type": "text"
      },
      "source": [
        "#### FILE PATH"
      ]
    },
    {
      "cell_type": "code",
      "metadata": {
        "id": "Rw6xf8oe8n5Q",
        "colab_type": "code",
        "colab": {
          "resources": {
            "http://localhost:8080/nbextensions/google.colab/files.js": {
              "data": "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",
              "ok": true,
              "headers": [
                [
                  "content-type",
                  "application/javascript"
                ]
              ],
              "status": 200,
              "status_text": ""
            }
          },
          "base_uri": "https://localhost:8080/",
          "height": 2080
        },
        "outputId": "541d017a-d929-4554-a5da-203e10fea21c"
      },
      "source": [
        "from google.colab import files\n",
        "uploaded = files.upload()\n",
        "\n",
        "for fn in uploaded.keys():\n",
        "  print('User uploaded file \"{name}\" with length {length} bytes'.format(\n",
        "      name=fn, length=len(uploaded[fn])))"
      ],
      "execution_count": 2,
      "outputs": [
        {
          "output_type": "display_data",
          "data": {
            "text/html": [
              "\n",
              "     <input type=\"file\" id=\"files-00aa325e-8fff-4ab7-b0a6-87f9ca39b199\" name=\"files[]\" multiple disabled />\n",
              "     <output id=\"result-00aa325e-8fff-4ab7-b0a6-87f9ca39b199\">\n",
              "      Upload widget is only available when the cell has been executed in the\n",
              "      current browser session. Please rerun this cell to enable.\n",
              "      </output>\n",
              "      <script src=\"/nbextensions/google.colab/files.js\"></script> "
            ],
            "text/plain": [
              "<IPython.core.display.HTML object>"
            ]
          },
          "metadata": {
            "tags": []
          }
        },
        {
          "output_type": "stream",
          "text": [
            "Saving 20160419001_2016419_114348.xls to 20160419001_2016419_114348 (2).xls\n",
            "Saving 20160419002_2016419_132916.xls to 20160419002_2016419_132916 (2).xls\n",
            "Saving 20160419004_2016419_153453.xls to 20160419004_2016419_153453 (2).xls\n",
            "Saving 20160419005_2016419_164411.xls to 20160419005_2016419_164411 (2).xls\n",
            "Saving 20160421002_2016421_171815.xls to 20160421002_2016421_171815 (2).xls\n",
            "Saving 20160421003_2016421_182129.xls to 20160421003_2016421_182129 (2).xls\n",
            "Saving 20160422001_2016422_95822.xls to 20160422001_2016422_95822 (2).xls\n",
            "Saving 20160422002_2016422_111140.xls to 20160422002_2016422_111140 (2).xls\n",
            "Saving 20160422003_2016422_161044.xls to 20160422003_2016422_161044 (2).xls\n",
            "Saving 20160425001_2016425_94440.xls to 20160425001_2016425_94440 (2).xls\n",
            "Saving 20160425002_2016425_104626.xls to 20160425002_2016425_104626 (2).xls\n",
            "Saving 20160425003_2016425_11527.xls to 20160425003_2016425_11527 (2).xls\n",
            "Saving 20160425004_2016425_131231.xls to 20160425004_2016425_131231 (2).xls\n",
            "Saving 20160425005_2016425_161517.xls to 20160425005_2016425_161517 (2).xls\n",
            "Saving 20160425009_2016425_19220.xls to 20160425009_2016425_19220 (2).xls\n",
            "Saving 20160426000_2016426_93632.xls to 20160426000_2016426_93632 (2).xls\n",
            "Saving 20160426001_2016426_104437.xls to 20160426001_2016426_104437 (2).xls\n",
            "Saving 20160426002_2016426_115725.xls to 20160426002_2016426_115725 (2).xls\n",
            "Saving 20160426004_2016426_165510.xls to 20160426004_2016426_165510 (2).xls\n",
            "Saving 20160426005_2016426_18652.xls to 20160426005_2016426_18652 (2).xls\n",
            "Saving 20160427001_2016427_14570.xls to 20160427001_2016427_14570 (2).xls\n",
            "Saving 20160427002_2016427_16045.xls to 20160427002_2016427_16045 (2).xls\n",
            "Saving 20160427004_2016427_1871.xls to 20160427004_2016427_1871 (2).xls\n",
            "Saving 20160428002_2016428_10314.xls to 20160428002_2016428_10314 (2).xls\n",
            "Saving 20160428003_2016428_11622.xls to 20160428003_2016428_11622 (2).xls\n",
            "Saving 20160428004_2016428_12638.xls to 20160428004_2016428_12638 (2).xls\n",
            "Saving 20160428005_2016428_131728.xls to 20160428005_2016428_131728 (2).xls\n",
            "Saving 20160428007_2016428_15325.xls to 20160428007_2016428_15325 (2).xls\n",
            "Saving 20160428011_2016428_191949.xls to 20160428011_2016428_191949 (2).xls\n",
            "Saving 20160429001_2016429_94620.xls to 20160429001_2016429_94620 (2).xls\n",
            "Saving 20160429002_2016429_104511.xls to 20160429002_2016429_104511 (2).xls\n",
            "Saving 20160429003_2016429_11447.xls to 20160429003_2016429_11447 (2).xls\n",
            "Saving 20160429004_2016429_14936.xls to 20160429004_2016429_14936 (2).xls\n",
            "Saving 20160519001_2016519_145215.xls to 20160519001_2016519_145215 (2).xls\n",
            "Saving 20160519003_2016519_16513.xls to 20160519003_2016519_16513 (2).xls\n",
            "Saving 20160520000_2016520_105518.xls to 20160520000_2016520_105518 (2).xls\n",
            "Saving 20160520001_2016520_161526.xls to 20160520001_2016520_161526 (2).xls\n",
            "Saving 20160523000_2016523_112052.xls to 20160523000_2016523_112052 (2).xls\n",
            "Saving 20160523001_2016523_132720.xls to 20160523001_2016523_132720 (2).xls\n",
            "Saving 20160523002_2016523_142635.xls to 20160523002_2016523_142635 (2).xls\n",
            "User uploaded file \"20160419001_2016419_114348.xls\" with length 730624 bytes\n",
            "User uploaded file \"20160419002_2016419_132916.xls\" with length 730624 bytes\n",
            "User uploaded file \"20160419004_2016419_153453.xls\" with length 730624 bytes\n",
            "User uploaded file \"20160419005_2016419_164411.xls\" with length 730624 bytes\n",
            "User uploaded file \"20160421002_2016421_171815.xls\" with length 730624 bytes\n",
            "User uploaded file \"20160421003_2016421_182129.xls\" with length 730624 bytes\n",
            "User uploaded file \"20160422001_2016422_95822.xls\" with length 730624 bytes\n",
            "User uploaded file \"20160422002_2016422_111140.xls\" with length 730624 bytes\n",
            "User uploaded file \"20160422003_2016422_161044.xls\" with length 730624 bytes\n",
            "User uploaded file \"20160425001_2016425_94440.xls\" with length 730624 bytes\n",
            "User uploaded file \"20160425002_2016425_104626.xls\" with length 730624 bytes\n",
            "User uploaded file \"20160425003_2016425_11527.xls\" with length 730624 bytes\n",
            "User uploaded file \"20160425004_2016425_131231.xls\" with length 730624 bytes\n",
            "User uploaded file \"20160425005_2016425_161517.xls\" with length 730624 bytes\n",
            "User uploaded file \"20160425009_2016425_19220.xls\" with length 730624 bytes\n",
            "User uploaded file \"20160426000_2016426_93632.xls\" with length 730624 bytes\n",
            "User uploaded file \"20160426001_2016426_104437.xls\" with length 730624 bytes\n",
            "User uploaded file \"20160426002_2016426_115725.xls\" with length 730624 bytes\n",
            "User uploaded file \"20160426004_2016426_165510.xls\" with length 730624 bytes\n",
            "User uploaded file \"20160426005_2016426_18652.xls\" with length 730624 bytes\n",
            "User uploaded file \"20160427001_2016427_14570.xls\" with length 730624 bytes\n",
            "User uploaded file \"20160427002_2016427_16045.xls\" with length 730624 bytes\n",
            "User uploaded file \"20160427004_2016427_1871.xls\" with length 728064 bytes\n",
            "User uploaded file \"20160428002_2016428_10314.xls\" with length 730624 bytes\n",
            "User uploaded file \"20160428003_2016428_11622.xls\" with length 730624 bytes\n",
            "User uploaded file \"20160428004_2016428_12638.xls\" with length 730624 bytes\n",
            "User uploaded file \"20160428005_2016428_131728.xls\" with length 730624 bytes\n",
            "User uploaded file \"20160428007_2016428_15325.xls\" with length 730624 bytes\n",
            "User uploaded file \"20160428011_2016428_191949.xls\" with length 730624 bytes\n",
            "User uploaded file \"20160429001_2016429_94620.xls\" with length 730624 bytes\n",
            "User uploaded file \"20160429002_2016429_104511.xls\" with length 730624 bytes\n",
            "User uploaded file \"20160429003_2016429_11447.xls\" with length 730624 bytes\n",
            "User uploaded file \"20160429004_2016429_14936.xls\" with length 730624 bytes\n",
            "User uploaded file \"20160519001_2016519_145215.xls\" with length 730624 bytes\n",
            "User uploaded file \"20160519003_2016519_16513.xls\" with length 730624 bytes\n",
            "User uploaded file \"20160520000_2016520_105518.xls\" with length 730624 bytes\n",
            "User uploaded file \"20160520001_2016520_161526.xls\" with length 730624 bytes\n",
            "User uploaded file \"20160523000_2016523_112052.xls\" with length 730624 bytes\n",
            "User uploaded file \"20160523001_2016523_132720.xls\" with length 730624 bytes\n",
            "User uploaded file \"20160523002_2016523_142635.xls\" with length 730624 bytes\n"
          ],
          "name": "stdout"
        }
      ]
    },
    {
      "cell_type": "code",
      "metadata": {
        "id": "UoOpfiEN9Hi5",
        "colab_type": "code",
        "colab": {}
      },
      "source": [
        "pathl = []\n",
        "df = []\n",
        "t = []\n",
        "for fn in uploaded.keys():\n",
        "    pathl.append(fn)\n",
        "for i in range(40):\n",
        "    df.append(\"df%d\" % i)  \n",
        "    t.append(\"t%d\" % i)"
      ],
      "execution_count": 0,
      "outputs": []
    },
    {
      "cell_type": "code",
      "metadata": {
        "scrolled": true,
        "id": "lDuFYbhI8n5U",
        "colab_type": "code",
        "colab": {}
      },
      "source": [
        "y = []\n",
        "data1=[]\n",
        "data2=[]\n",
        "data3=[]\n",
        "data4 =[]\n",
        "X_1 = []\n",
        "X_2 = []\n",
        "for i in range(40):\n",
        "    #read files into list\n",
        "    df[i] = pd.read_excel(pathl[i])\n",
        "    \n",
        "    #dealing with y array\n",
        "    df_y = df[i].loc[7499]\n",
        "    y.append(np.float64(df_y.values[0][9:]))\n",
        "    df[i] = df[i][0:7499]\n",
        "    \n",
        "    #cleaning data\n",
        "    col_1 = pd.DataFrame(df[i].columns.values.reshape(1,4), index=[0], columns = list('ABCD'), dtype= float)\n",
        "    df[i].columns = list('ABCD')\n",
        "    df[i] = pd.concat([col_1, df[i]], axis=0)\n",
        "    df[i].index = range(1,7501)\n",
        "    \n",
        "    #dtype of COL_A is 'object', change into float ???????\n",
        "    df[i].A = pd.to_numeric(df[i].A)\n",
        "    \n",
        "    ##data\n",
        "    data1 = np.append(data1, df[i].A)\n",
        "    data2 = np.append(data2, df[i].B)\n",
        "    data3 = np.append(data3, df[i].C)\n",
        "    data4 = np.append(data4, df[i].D)\n",
        "    \n",
        "\n",
        "data1 = np.array(data1)\n",
        "data2 = np.array(data2)\n",
        "data3 = np.array(data3)\n",
        "data4 = np.array(data4)\n",
        "X_1 = np.append(data1, data2)\n",
        "X_2 = np.append(data3, data4)\n",
        "X_1 = np.array(X_1)\n",
        "X_2 = np.array(X_2)\n",
        "\n",
        "    #testing\n",
        "    "
      ],
      "execution_count": 0,
      "outputs": []
    },
    {
      "cell_type": "markdown",
      "metadata": {
        "id": "cOZTee9f8n5Y",
        "colab_type": "text"
      },
      "source": [
        "#### Get y_array (predicted value array)"
      ]
    },
    {
      "cell_type": "code",
      "metadata": {
        "id": "h_0wJ6Vm8n5Z",
        "colab_type": "code",
        "colab": {}
      },
      "source": [
        "Y = np.array(y,dtype=float)"
      ],
      "execution_count": 0,
      "outputs": []
    },
    {
      "cell_type": "markdown",
      "metadata": {
        "id": "gSViSeKq8n5c",
        "colab_type": "text"
      },
      "source": [
        "#### Get Cleaned data and X_array (training data) "
      ]
    },
    {
      "cell_type": "code",
      "metadata": {
        "scrolled": true,
        "id": "lcESwVxo8n5d",
        "colab_type": "code",
        "outputId": "0c68db17-ece7-466e-93cf-2673d85cfe66",
        "colab": {
          "base_uri": "https://localhost:8080/",
          "height": 297
        }
      },
      "source": [
        "df[0].describe()"
      ],
      "execution_count": 6,
      "outputs": [
        {
          "output_type": "execute_result",
          "data": {
            "text/html": [
              "<div>\n",
              "<style scoped>\n",
              "    .dataframe tbody tr th:only-of-type {\n",
              "        vertical-align: middle;\n",
              "    }\n",
              "\n",
              "    .dataframe tbody tr th {\n",
              "        vertical-align: top;\n",
              "    }\n",
              "\n",
              "    .dataframe thead th {\n",
              "        text-align: right;\n",
              "    }\n",
              "</style>\n",
              "<table border=\"1\" class=\"dataframe\">\n",
              "  <thead>\n",
              "    <tr style=\"text-align: right;\">\n",
              "      <th></th>\n",
              "      <th>A</th>\n",
              "      <th>B</th>\n",
              "      <th>C</th>\n",
              "      <th>D</th>\n",
              "    </tr>\n",
              "  </thead>\n",
              "  <tbody>\n",
              "    <tr>\n",
              "      <th>count</th>\n",
              "      <td>7.500000e+03</td>\n",
              "      <td>7.500000e+03</td>\n",
              "      <td>7.500000e+03</td>\n",
              "      <td>7.500000e+03</td>\n",
              "    </tr>\n",
              "    <tr>\n",
              "      <th>mean</th>\n",
              "      <td>2.798203e-06</td>\n",
              "      <td>2.867940e-06</td>\n",
              "      <td>2.724916e-06</td>\n",
              "      <td>1.806650e-06</td>\n",
              "    </tr>\n",
              "    <tr>\n",
              "      <th>std</th>\n",
              "      <td>8.643169e-06</td>\n",
              "      <td>6.945007e-06</td>\n",
              "      <td>3.662671e-06</td>\n",
              "      <td>2.355944e-06</td>\n",
              "    </tr>\n",
              "    <tr>\n",
              "      <th>min</th>\n",
              "      <td>1.573569e-08</td>\n",
              "      <td>2.150493e-08</td>\n",
              "      <td>2.767096e-08</td>\n",
              "      <td>3.411193e-08</td>\n",
              "    </tr>\n",
              "    <tr>\n",
              "      <th>25%</th>\n",
              "      <td>8.920254e-07</td>\n",
              "      <td>9.457329e-07</td>\n",
              "      <td>1.175372e-06</td>\n",
              "      <td>7.952370e-07</td>\n",
              "    </tr>\n",
              "    <tr>\n",
              "      <th>50%</th>\n",
              "      <td>1.509237e-06</td>\n",
              "      <td>1.610652e-06</td>\n",
              "      <td>1.868123e-06</td>\n",
              "      <td>1.283463e-06</td>\n",
              "    </tr>\n",
              "    <tr>\n",
              "      <th>75%</th>\n",
              "      <td>2.541986e-06</td>\n",
              "      <td>2.722913e-06</td>\n",
              "      <td>2.847342e-06</td>\n",
              "      <td>1.979565e-06</td>\n",
              "    </tr>\n",
              "    <tr>\n",
              "      <th>max</th>\n",
              "      <td>3.522643e-04</td>\n",
              "      <td>2.220868e-04</td>\n",
              "      <td>5.263960e-05</td>\n",
              "      <td>3.069520e-05</td>\n",
              "    </tr>\n",
              "  </tbody>\n",
              "</table>\n",
              "</div>"
            ],
            "text/plain": [
              "                  A             B             C             D\n",
              "count  7.500000e+03  7.500000e+03  7.500000e+03  7.500000e+03\n",
              "mean   2.798203e-06  2.867940e-06  2.724916e-06  1.806650e-06\n",
              "std    8.643169e-06  6.945007e-06  3.662671e-06  2.355944e-06\n",
              "min    1.573569e-08  2.150493e-08  2.767096e-08  3.411193e-08\n",
              "25%    8.920254e-07  9.457329e-07  1.175372e-06  7.952370e-07\n",
              "50%    1.509237e-06  1.610652e-06  1.868123e-06  1.283463e-06\n",
              "75%    2.541986e-06  2.722913e-06  2.847342e-06  1.979565e-06\n",
              "max    3.522643e-04  2.220868e-04  5.263960e-05  3.069520e-05"
            ]
          },
          "metadata": {
            "tags": []
          },
          "execution_count": 6
        }
      ]
    },
    {
      "cell_type": "code",
      "metadata": {
        "id": "Ypj-Y65c8n5j",
        "colab_type": "code",
        "outputId": "7af6db8c-1aff-4a5c-d34e-16cedb3f466c",
        "colab": {
          "base_uri": "https://localhost:8080/",
          "height": 850
        }
      },
      "source": [
        "X = np.zeros((40, 7500, 4))\n",
        "for i in range(40):\n",
        "    X[i] = df[i].values\n",
        "X"
      ],
      "execution_count": 7,
      "outputs": [
        {
          "output_type": "execute_result",
          "data": {
            "text/plain": [
              "array([[[2.29657713e-05, 2.12655233e-05, 1.98152050e-05, 2.05591031e-05],\n",
              "        [2.25512117e-05, 2.04522481e-05, 1.65413600e-05, 3.75979720e-06],\n",
              "        [1.12122347e-05, 1.06301152e-05, 9.00513646e-06, 8.94675372e-07],\n",
              "        ...,\n",
              "        [5.54606497e-06, 5.53112018e-06, 1.20886168e-06, 1.38705042e-06],\n",
              "        [1.83502828e-06, 2.49113887e-06, 1.40519630e-06, 1.12200520e-06],\n",
              "        [5.03722061e-06, 4.11050389e-06, 2.75695883e-06, 2.46315690e-06]],\n",
              "\n",
              "       [[1.90828755e-05, 1.26615728e-05, 5.78274832e-06, 6.62764342e-06],\n",
              "        [7.82511474e-06, 7.99490305e-06, 1.29762099e-05, 6.29210757e-06],\n",
              "        [6.23351384e-06, 8.05313479e-06, 1.12671924e-05, 7.28125021e-06],\n",
              "        ...,\n",
              "        [3.80067341e-06, 4.04373462e-06, 1.54675334e-06, 6.17541114e-07],\n",
              "        [3.43747548e-06, 3.05047083e-06, 1.93052147e-06, 1.53228872e-06],\n",
              "        [3.64677161e-06, 4.40090019e-06, 1.20959709e-06, 1.12510181e-06]],\n",
              "\n",
              "       [[1.33143539e-05, 9.22924659e-06, 2.90081151e-06, 8.99624176e-06],\n",
              "        [1.17612376e-05, 1.03971902e-05, 2.85707201e-05, 1.48816407e-05],\n",
              "        [1.11893617e-05, 1.05154104e-05, 1.56680878e-05, 1.25838920e-05],\n",
              "        ...,\n",
              "        [9.12298301e-07, 6.82580713e-07, 1.63346981e-06, 2.18332221e-06],\n",
              "        [2.79936039e-06, 2.07701239e-06, 1.17640055e-06, 1.16757922e-06],\n",
              "        [1.42697068e-06, 1.43784577e-06, 5.32982824e-07, 5.07022683e-07]],\n",
              "\n",
              "       ...,\n",
              "\n",
              "       [[8.14204897e-06, 6.07888683e-06, 8.41420292e-06, 6.38656170e-06],\n",
              "        [2.71323674e-06, 5.27608511e-06, 2.85430684e-05, 1.71824464e-05],\n",
              "        [5.15385116e-06, 1.94277478e-06, 5.94335525e-06, 3.17341819e-06],\n",
              "        ...,\n",
              "        [3.47208452e-06, 3.18866548e-06, 3.72541348e-07, 2.38071965e-06],\n",
              "        [3.61924926e-06, 3.29024670e-06, 1.42013974e-06, 3.46954407e-06],\n",
              "        [4.11289630e-06, 2.76425100e-06, 1.68265740e-06, 3.30044024e-06]],\n",
              "\n",
              "       [[1.12222204e-05, 7.81741630e-06, 2.35285035e-05, 1.92659711e-05],\n",
              "        [1.34512173e-05, 4.13933498e-06, 1.19901696e-05, 1.33549897e-05],\n",
              "        [1.38399518e-05, 7.15106736e-06, 6.37618028e-06, 5.18750589e-06],\n",
              "        ...,\n",
              "        [6.49603904e-06, 4.20301399e-06, 3.35073865e-06, 2.64737842e-06],\n",
              "        [6.31242468e-06, 6.27415058e-06, 1.65020833e-06, 9.23636063e-07],\n",
              "        [8.48710710e-06, 7.33563196e-06, 5.13364156e-06, 3.23637556e-06]],\n",
              "\n",
              "       [[1.32987874e-05, 4.53743195e-06, 1.40765198e-05, 1.60213254e-05],\n",
              "        [1.35072724e-05, 6.30326969e-06, 9.64863353e-06, 9.67455760e-06],\n",
              "        [1.74383543e-05, 6.69714119e-06, 1.05715589e-05, 1.08078729e-05],\n",
              "        ...,\n",
              "        [6.67514637e-06, 6.26280895e-06, 3.80662255e-06, 1.86519036e-06],\n",
              "        [8.78149407e-06, 6.99671226e-06, 2.65606434e-06, 4.51843952e-06],\n",
              "        [5.62713731e-06, 4.81676564e-06, 2.18235888e-06, 1.74083803e-06]]])"
            ]
          },
          "metadata": {
            "tags": []
          },
          "execution_count": 7
        }
      ]
    },
    {
      "cell_type": "markdown",
      "metadata": {
        "id": "wbNn4Ihf8n5p",
        "colab_type": "text"
      },
      "source": [
        "## data analysis"
      ]
    },
    {
      "cell_type": "code",
      "metadata": {
        "id": "j80fWWCt8n5q",
        "colab_type": "code",
        "outputId": "e8737a34-76ef-47ce-cbd5-cf4fe0dbaf73",
        "colab": {
          "base_uri": "https://localhost:8080/",
          "height": 68
        }
      },
      "source": [
        "from sklearn.model_selection import train_test_split\n",
        "x_train, x_test , y_train, y_test = train_test_split(X, Y, test_size = 0.2, random_state= 1)\n",
        "\n",
        "print(x_train.shape,x_test.shape,\n",
        "      y_train.shape,y_test.shape)\n",
        "\n",
        "xtrain = x_train.reshape(len(x_train), 7500*4)\n",
        "xtest = x_test.reshape(len(x_test), 7500*4)\n",
        "print(xtrain.shape,xtest.shape)\n",
        "\n",
        "x_train = (xtrain - xtrain.min()) / (xtrain.max() - xtrain.min())\n",
        "x_test = (xtest - xtest.min()) / (xtest.max() - xtest.min())\n",
        "x_test.max(),x_train.min()"
      ],
      "execution_count": 8,
      "outputs": [
        {
          "output_type": "stream",
          "text": [
            "(32, 7500, 4) (8, 7500, 4) (32,) (8,)\n",
            "(32, 30000) (8, 30000)\n"
          ],
          "name": "stdout"
        },
        {
          "output_type": "execute_result",
          "data": {
            "text/plain": [
              "(1.0, 0.0)"
            ]
          },
          "metadata": {
            "tags": []
          },
          "execution_count": 8
        }
      ]
    },
    {
      "cell_type": "code",
      "metadata": {
        "id": "c0TU5rVZ8n5v",
        "colab_type": "code",
        "outputId": "80b94603-b538-4653-f312-2f65c6535415",
        "colab": {
          "base_uri": "https://localhost:8080/",
          "height": 612
        }
      },
      "source": [
        "plt.figure(1, figsize=(10,10))\n",
        "for i in range(8):\n",
        "    plt.scatter(np.arange(30000), x_test[i] , c = 'blue',s = 10)\n",
        "plt.xlim(0,10)"
      ],
      "execution_count": 9,
      "outputs": [
        {
          "output_type": "execute_result",
          "data": {
            "text/plain": [
              "(0, 10)"
            ]
          },
          "metadata": {
            "tags": []
          },
          "execution_count": 9
        },
        {
          "output_type": "display_data",
          "data": {
            "image/png": "[encoded data removed]",
            "text/plain": [
              "<Figure size 720x720 with 1 Axes>"
            ]
          },
          "metadata": {
            "tags": []
          }
        }
      ]
    },
    {
      "cell_type": "markdown",
      "metadata": {
        "id": "Eu-cDu3F8n51",
        "colab_type": "text"
      },
      "source": [
        "### By using ARtime series testing"
      ]
    },
    {
      "cell_type": "code",
      "metadata": {
        "id": "tNK07p7H8n52",
        "colab_type": "code",
        "colab": {}
      },
      "source": [
        "# AR example\n",
        "from statsmodels.tsa.ar_model import AR\n",
        "from random import random\n",
        "# contrived dataset"
      ],
      "execution_count": 0,
      "outputs": []
    },
    {
      "cell_type": "code",
      "metadata": {
        "id": "-ncaFNWU8n56",
        "colab_type": "code",
        "outputId": "20f613d9-45a3-40f9-f31c-15c916882cca",
        "colab": {
          "base_uri": "https://localhost:8080/",
          "height": 1649
        }
      },
      "source": [
        "# fit model\n",
        "for data in [data1,data2,data3,data4]:\n",
        "    data.reshape(300000,)\n",
        "    model = AR(data)\n",
        "    model_fit = model.fit()\n",
        "# make prediction\n",
        "    print('Lag: %s' % model_fit.k_ar)\n",
        "    print('Coefficients: %s' % model_fit.params)"
      ],
      "execution_count": 11,
      "outputs": [
        {
          "output_type": "stream",
          "text": [
            "Lag: 89\n",
            "Coefficients: [ 9.86580549e-07  4.80630865e-01  3.86899141e-02  3.59014063e-02\n",
            "  1.03144644e-02  1.28539895e-02  7.03713887e-03  5.35838922e-03\n",
            "  5.03589272e-03  2.22439060e-03  1.81348200e-03  3.32520271e-03\n",
            "  3.53444297e-03  2.07479044e-03  6.14155070e-03  6.25915641e-04\n",
            "  2.84612189e-04  9.99755064e-04 -1.18755771e-03  4.47837563e-04\n",
            " -1.52385541e-03  2.28603062e-03  2.22078770e-03  3.51661453e-03\n",
            "  7.72603356e-04  4.04173062e-03  2.47572057e-03  3.97750200e-04\n",
            "  4.05041607e-03 -2.22426676e-03  4.34406282e-03  6.04758473e-03\n",
            " -5.31365771e-03  3.53751613e-03  3.00220700e-02 -9.49960279e-03\n",
            "  3.60185222e-03 -4.36936715e-03 -5.48627350e-03  4.12480053e-03\n",
            "  1.03166545e-02 -2.00144708e-03 -4.89121416e-03 -3.20982289e-03\n",
            " -3.44306032e-03  5.39185783e-03 -2.61921422e-04 -4.52625900e-04\n",
            "  3.18845443e-03 -4.35652680e-03 -1.31869098e-03 -2.66371501e-03\n",
            " -3.20852206e-04  7.43551406e-03 -5.15688683e-03 -1.22659280e-03\n",
            " -1.71333224e-03 -2.12152338e-04  2.67398476e-03 -4.03690282e-05\n",
            " -4.90460049e-03 -7.63925339e-04  2.54969848e-04 -3.86492025e-03\n",
            "  1.56177713e-03 -2.92082600e-03  3.91307765e-04  6.20436428e-04\n",
            "  7.62762176e-04  4.52738289e-03 -3.13863972e-03 -2.77425413e-04\n",
            "  3.01816026e-03 -7.20806755e-04 -5.91444842e-04 -2.81593782e-04\n",
            " -1.94088239e-03 -4.05721351e-03  4.69171952e-03  1.81855140e-03\n",
            "  2.15020871e-02 -3.74048921e-03 -1.84063350e-03  2.88945018e-03\n",
            "  5.48932742e-03 -7.06774518e-03  3.25236012e-03 -1.60130343e-03\n",
            "  2.33987559e-03  3.49999269e-03]\n",
            "Lag: 89\n",
            "Coefficients: [ 9.64252809e-07  4.97551447e-01  6.96084859e-02  2.45522023e-02\n",
            "  8.23069378e-03  1.44916107e-02  5.76735306e-03  6.75409295e-03\n",
            "  8.31751522e-03  3.21562849e-03  3.10129034e-03  5.78172707e-03\n",
            "  1.99979325e-03  3.52580266e-03  3.86745371e-03  2.83048286e-03\n",
            "  1.61455311e-03  1.50316403e-03  2.57945242e-04  1.30388211e-03\n",
            "  1.53268814e-03  2.37378610e-03  2.29787011e-03  3.38445917e-03\n",
            "  6.64523579e-04  2.89271789e-03  2.59056872e-03 -1.61875877e-04\n",
            "  1.65828633e-03 -1.18006131e-03  1.19744998e-02  4.03455808e-03\n",
            " -7.41107513e-03  2.24643563e-03  1.82418241e-02 -6.07635827e-03\n",
            "  8.96263964e-04 -8.47091523e-04 -2.84185037e-03  2.20746494e-03\n",
            "  4.32937426e-03 -6.20922414e-05 -9.49070906e-04 -1.35209993e-03\n",
            " -1.44985024e-03  2.29354447e-03 -1.62140506e-04 -8.31525689e-05\n",
            "  1.69009455e-03 -1.14830908e-03 -1.74615608e-03 -2.64002060e-04\n",
            "  2.81208820e-03  2.30315284e-03 -2.33648201e-03 -2.27166425e-04\n",
            " -1.38297093e-03  2.93151092e-03  5.67701631e-04  7.31029407e-04\n",
            " -2.18013240e-03 -1.13902931e-03  3.54286353e-03 -1.92187972e-03\n",
            "  2.23194205e-04 -1.99542469e-04 -7.23426951e-04 -1.63274891e-04\n",
            "  1.85381867e-03  1.84026935e-03 -5.89599083e-04  1.42593994e-03\n",
            "  2.08567915e-03  5.19483291e-04 -8.95845960e-04 -8.56960214e-05\n",
            " -4.22418110e-04  1.75528282e-03  1.39184337e-03  1.43182296e-03\n",
            "  1.70513930e-02 -6.46271690e-03 -2.29200772e-03  2.27798162e-03\n",
            "  1.44177189e-02 -9.46675137e-03  5.39511962e-03 -1.19749761e-03\n",
            "  1.43491172e-03  3.90697962e-03]\n",
            "Lag: 89\n",
            "Coefficients: [ 1.48764964e-06  3.90859594e-01  5.39611443e-02  3.33179622e-02\n",
            "  9.17588487e-03  1.57995941e-02  2.86963441e-03  1.90636113e-03\n",
            "  2.04015165e-04 -1.76870745e-03  8.34492927e-04  1.02803933e-03\n",
            "  2.11503437e-03  3.39515500e-03  3.65575078e-03  1.02802617e-03\n",
            " -1.36688279e-03 -4.03105644e-03 -4.36979767e-03  3.89745884e-03\n",
            " -6.79981946e-03 -2.44727308e-03 -2.25334295e-03  4.11945197e-03\n",
            " -2.92342147e-03  3.19896196e-03  4.52931789e-03 -2.30574434e-04\n",
            " -2.71909853e-05 -1.46700179e-04 -6.76584701e-03  2.80043221e-03\n",
            " -6.93421460e-03  6.48422541e-04  1.26901034e-02 -6.53043179e-03\n",
            " -8.75003247e-04 -2.88066890e-03 -9.49411630e-03  1.47413178e-02\n",
            "  2.96724238e-02  4.29612351e-03 -1.12378978e-02 -8.05109622e-03\n",
            " -4.41221729e-03  2.49425594e-02 -1.52519554e-02  1.49561732e-03\n",
            "  6.04991069e-03 -5.77996262e-03 -5.57062279e-03 -5.26864481e-03\n",
            " -8.99806319e-03  8.95128186e-03 -5.86856009e-03 -3.87932134e-03\n",
            " -1.80497803e-03 -6.87322294e-03  7.60865658e-03  9.79723556e-03\n",
            " -1.88105534e-02 -5.67832759e-03 -4.70385113e-03 -6.94928103e-03\n",
            " -1.77797257e-04 -5.89948055e-03  2.56292717e-03  1.12054757e-02\n",
            "  2.11279793e-03  6.51828628e-03 -8.96144336e-03 -1.46940707e-03\n",
            "  2.66462857e-02  3.55029832e-03  8.16905687e-03 -2.57411678e-04\n",
            " -1.47590352e-02 -9.62148409e-03 -1.29211835e-04  3.46833556e-03\n",
            "  3.20276543e-02  3.50652076e-03 -8.19535865e-03 -9.30942397e-03\n",
            " -7.93611581e-03 -9.98950465e-03 -9.76058395e-04 -2.52631160e-03\n",
            " -2.40541338e-03 -2.62103494e-03]\n",
            "Lag: 89\n",
            "Coefficients: [ 6.06225394e-07  3.47909021e-01  5.47216050e-02  3.42971861e-02\n",
            "  1.03239212e-02  2.16322569e-02  3.48911609e-03  4.03841767e-03\n",
            "  7.41913057e-05 -3.24640596e-04 -1.44504076e-04  1.00505715e-03\n",
            "  6.35029916e-03  1.29796149e-02  1.13999045e-02  7.86420822e-03\n",
            "  5.09011117e-03 -5.77151953e-04 -3.13810625e-03 -2.71068933e-04\n",
            " -2.79423258e-03  1.04908529e-03  6.97445034e-03  1.41388421e-02\n",
            "  6.67307771e-05  9.92665524e-03  1.28261024e-02  4.71532667e-03\n",
            "  6.15760087e-03  1.31363908e-03 -6.12083586e-03 -5.04563662e-04\n",
            " -8.71607503e-04  2.50133512e-03  1.03890251e-02 -5.15379478e-04\n",
            "  8.14194026e-03  1.05514726e-02 -3.29397716e-03  1.15874421e-02\n",
            "  3.27961417e-02  2.18729699e-03 -7.19292868e-03 -1.22698644e-03\n",
            " -1.11037501e-02  6.13420630e-03 -1.60522340e-03  6.01434650e-03\n",
            "  3.30322203e-02 -7.30634670e-03 -2.82812266e-03 -1.04555386e-02\n",
            " -1.07764535e-02  3.05137465e-02 -9.85052259e-03 -4.67101431e-03\n",
            " -7.33300430e-03 -7.95867095e-03  3.34491194e-02  4.07921192e-02\n",
            " -3.78482920e-02 -1.02544838e-02 -9.52544928e-03 -9.52553142e-03\n",
            "  1.47334185e-02 -1.49700044e-02  4.64247302e-04  9.60658274e-03\n",
            "  8.44037905e-03  2.80421526e-02 -5.23094931e-03  2.53465257e-03\n",
            "  1.00470625e-02 -1.21921176e-02 -5.66157028e-03  3.37959153e-03\n",
            " -1.02162001e-02 -5.93016401e-03  5.02615734e-03  1.03990995e-02\n",
            "  1.83571302e-02  1.54189828e-02 -7.96872181e-03 -5.27436228e-03\n",
            " -7.70203303e-03 -1.04383286e-02 -1.75846672e-03 -3.95613861e-03\n",
            "  8.93564307e-04  8.02815031e-03]\n"
          ],
          "name": "stdout"
        }
      ]
    },
    {
      "cell_type": "markdown",
      "metadata": {
        "id": "SMW6Wgju8n5-",
        "colab_type": "text"
      },
      "source": [
        "### correlation analysis"
      ]
    },
    {
      "cell_type": "code",
      "metadata": {
        "id": "NCaghzv28n5_",
        "colab_type": "code",
        "outputId": "bcfccdb3-9e8e-4bef-ff77-6216d560b0b3",
        "colab": {
          "base_uri": "https://localhost:8080/",
          "height": 3417
        }
      },
      "source": [
        "for i in range(40):\n",
        "    print(df[i].corr())"
      ],
      "execution_count": 12,
      "outputs": [
        {
          "output_type": "stream",
          "text": [
            "          A         B         C         D\n",
            "A  1.000000  0.810577  0.424371  0.552636\n",
            "B  0.810577  1.000000  0.435864  0.565078\n",
            "C  0.424371  0.435864  1.000000  0.800555\n",
            "D  0.552636  0.565078  0.800555  1.000000\n",
            "          A         B         C         D\n",
            "A  1.000000  0.760600  0.507784  0.576173\n",
            "B  0.760600  1.000000  0.418676  0.478727\n",
            "C  0.507784  0.418676  1.000000  0.806351\n",
            "D  0.576173  0.478727  0.806351  1.000000\n",
            "          A         B         C         D\n",
            "A  1.000000  0.795195  0.514413  0.585885\n",
            "B  0.795195  1.000000  0.409598  0.479964\n",
            "C  0.514413  0.409598  1.000000  0.790886\n",
            "D  0.585885  0.479964  0.790886  1.000000\n",
            "          A         B         C         D\n",
            "A  1.000000  0.834213  0.496393  0.575106\n",
            "B  0.834213  1.000000  0.401142  0.494696\n",
            "C  0.496393  0.401142  1.000000  0.774638\n",
            "D  0.575106  0.494696  0.774638  1.000000\n",
            "          A         B         C         D\n",
            "A  1.000000  0.739037  0.553212  0.573156\n",
            "B  0.739037  1.000000  0.418777  0.468469\n",
            "C  0.553212  0.418777  1.000000  0.763881\n",
            "D  0.573156  0.468469  0.763881  1.000000\n",
            "          A         B         C         D\n",
            "A  1.000000  0.733600  0.603040  0.665763\n",
            "B  0.733600  1.000000  0.452817  0.524042\n",
            "C  0.603040  0.452817  1.000000  0.815060\n",
            "D  0.665763  0.524042  0.815060  1.000000\n",
            "          A         B         C         D\n",
            "A  1.000000  0.670341  0.710461  0.681292\n",
            "B  0.670341  1.000000  0.463538  0.475013\n",
            "C  0.710461  0.463538  1.000000  0.775227\n",
            "D  0.681292  0.475013  0.775227  1.000000\n",
            "          A         B         C         D\n",
            "A  1.000000  0.704626  0.630705  0.669344\n",
            "B  0.704626  1.000000  0.415735  0.464040\n",
            "C  0.630705  0.415735  1.000000  0.829934\n",
            "D  0.669344  0.464040  0.829934  1.000000\n",
            "          A         B         C         D\n",
            "A  1.000000  0.787185  0.668908  0.733874\n",
            "B  0.787185  1.000000  0.512951  0.574452\n",
            "C  0.668908  0.512951  1.000000  0.847695\n",
            "D  0.733874  0.574452  0.847695  1.000000\n",
            "          A         B         C         D\n",
            "A  1.000000  0.801874  0.557530  0.660043\n",
            "B  0.801874  1.000000  0.476994  0.596129\n",
            "C  0.557530  0.476994  1.000000  0.827801\n",
            "D  0.660043  0.596129  0.827801  1.000000\n",
            "          A         B         C         D\n",
            "A  1.000000  0.756977  0.657720  0.620154\n",
            "B  0.756977  1.000000  0.472280  0.516951\n",
            "C  0.657720  0.472280  1.000000  0.791846\n",
            "D  0.620154  0.516951  0.791846  1.000000\n",
            "          A         B         C         D\n",
            "A  1.000000  0.724204  0.657963  0.589339\n",
            "B  0.724204  1.000000  0.446846  0.419989\n",
            "C  0.657963  0.446846  1.000000  0.723271\n",
            "D  0.589339  0.419989  0.723271  1.000000\n",
            "          A         B         C         D\n",
            "A  1.000000  0.693988  0.499265  0.566775\n",
            "B  0.693988  1.000000  0.261825  0.377337\n",
            "C  0.499265  0.261825  1.000000  0.738032\n",
            "D  0.566775  0.377337  0.738032  1.000000\n",
            "          A         B         C         D\n",
            "A  1.000000  0.831675  0.538073  0.498137\n",
            "B  0.831675  1.000000  0.324994  0.340125\n",
            "C  0.538073  0.324994  1.000000  0.712082\n",
            "D  0.498137  0.340125  0.712082  1.000000\n",
            "          A         B         C         D\n",
            "A  1.000000  0.829881  0.555949  0.664073\n",
            "B  0.829881  1.000000  0.444540  0.562073\n",
            "C  0.555949  0.444540  1.000000  0.788256\n",
            "D  0.664073  0.562073  0.788256  1.000000\n",
            "          A         B         C         D\n",
            "A  1.000000  0.800727  0.629269  0.710315\n",
            "B  0.800727  1.000000  0.478775  0.587741\n",
            "C  0.629269  0.478775  1.000000  0.804276\n",
            "D  0.710315  0.587741  0.804276  1.000000\n",
            "          A         B         C         D\n",
            "A  1.000000  0.793402  0.641242  0.734237\n",
            "B  0.793402  1.000000  0.482119  0.593535\n",
            "C  0.641242  0.482119  1.000000  0.806259\n",
            "D  0.734237  0.593535  0.806259  1.000000\n",
            "          A         B         C         D\n",
            "A  1.000000  0.762250  0.609535  0.638329\n",
            "B  0.762250  1.000000  0.484786  0.540000\n",
            "C  0.609535  0.484786  1.000000  0.860058\n",
            "D  0.638329  0.540000  0.860058  1.000000\n",
            "          A         B         C         D\n",
            "A  1.000000  0.738228  0.692069  0.651838\n",
            "B  0.738228  1.000000  0.551260  0.592954\n",
            "C  0.692069  0.551260  1.000000  0.757723\n",
            "D  0.651838  0.592954  0.757723  1.000000\n",
            "          A         B         C         D\n",
            "A  1.000000  0.781630  0.632231  0.661979\n",
            "B  0.781630  1.000000  0.472238  0.556778\n",
            "C  0.632231  0.472238  1.000000  0.784389\n",
            "D  0.661979  0.556778  0.784389  1.000000\n",
            "          A         B         C         D\n",
            "A  1.000000  0.779062  0.870235  0.723573\n",
            "B  0.779062  1.000000  0.644547  0.566148\n",
            "C  0.870235  0.644547  1.000000  0.785854\n",
            "D  0.723573  0.566148  0.785854  1.000000\n",
            "          A         B         C         D\n",
            "A  1.000000  0.810590  0.574142  0.560705\n",
            "B  0.810590  1.000000  0.489594  0.500039\n",
            "C  0.574142  0.489594  1.000000  0.645076\n",
            "D  0.560705  0.500039  0.645076  1.000000\n",
            "          A         B         C         D\n",
            "A  1.000000  0.748743  0.719066  0.622117\n",
            "B  0.748743  1.000000  0.515904  0.567733\n",
            "C  0.719066  0.515904  1.000000  0.711282\n",
            "D  0.622117  0.567733  0.711282  1.000000\n",
            "          A         B         C         D\n",
            "A  1.000000  0.809601  0.733388  0.692632\n",
            "B  0.809601  1.000000  0.585619  0.615915\n",
            "C  0.733388  0.585619  1.000000  0.798270\n",
            "D  0.692632  0.615915  0.798270  1.000000\n",
            "          A         B         C         D\n",
            "A  1.000000  0.855506  0.824463  0.725415\n",
            "B  0.855506  1.000000  0.693286  0.658363\n",
            "C  0.824463  0.693286  1.000000  0.773003\n",
            "D  0.725415  0.658363  0.773003  1.000000\n",
            "          A         B         C         D\n",
            "A  1.000000  0.843650  0.831842  0.703977\n",
            "B  0.843650  1.000000  0.716678  0.659549\n",
            "C  0.831842  0.716678  1.000000  0.781428\n",
            "D  0.703977  0.659549  0.781428  1.000000\n",
            "          A         B         C         D\n",
            "A  1.000000  0.851756  0.570067  0.672569\n",
            "B  0.851756  1.000000  0.444588  0.586306\n",
            "C  0.570067  0.444588  1.000000  0.835552\n",
            "D  0.672569  0.586306  0.835552  1.000000\n",
            "          A         B         C         D\n",
            "A  1.000000  0.824771  0.780160  0.718286\n",
            "B  0.824771  1.000000  0.612839  0.616637\n",
            "C  0.780160  0.612839  1.000000  0.849294\n",
            "D  0.718286  0.616637  0.849294  1.000000\n",
            "          A         B         C         D\n",
            "A  1.000000  0.635916  0.621836  0.671220\n",
            "B  0.635916  1.000000  0.283860  0.322376\n",
            "C  0.621836  0.283860  1.000000  0.881678\n",
            "D  0.671220  0.322376  0.881678  1.000000\n",
            "          A         B         C         D\n",
            "A  1.000000  0.654960  0.733389  0.616370\n",
            "B  0.654960  1.000000  0.397900  0.316989\n",
            "C  0.733389  0.397900  1.000000  0.804535\n",
            "D  0.616370  0.316989  0.804535  1.000000\n",
            "          A         B         C         D\n",
            "A  1.000000  0.717378  0.512175  0.466889\n",
            "B  0.717378  1.000000  0.347447  0.302424\n",
            "C  0.512175  0.347447  1.000000  0.818678\n",
            "D  0.466889  0.302424  0.818678  1.000000\n",
            "          A         B         C         D\n",
            "A  1.000000  0.725892  0.655972  0.503036\n",
            "B  0.725892  1.000000  0.431852  0.305187\n",
            "C  0.655972  0.431852  1.000000  0.663781\n",
            "D  0.503036  0.305187  0.663781  1.000000\n",
            "          A         B         C         D\n",
            "A  1.000000  0.794692  0.666391  0.681447\n",
            "B  0.794692  1.000000  0.519281  0.534419\n",
            "C  0.666391  0.519281  1.000000  0.763673\n",
            "D  0.681447  0.534419  0.763673  1.000000\n",
            "          A         B         C         D\n",
            "A  1.000000  0.772975  0.749373  0.560244\n",
            "B  0.772975  1.000000  0.524226  0.397459\n",
            "C  0.749373  0.524226  1.000000  0.682963\n",
            "D  0.560244  0.397459  0.682963  1.000000\n",
            "          A         B         C         D\n",
            "A  1.000000  0.804781  0.706904  0.563298\n",
            "B  0.804781  1.000000  0.551430  0.405590\n",
            "C  0.706904  0.551430  1.000000  0.574299\n",
            "D  0.563298  0.405590  0.574299  1.000000\n",
            "          A         B         C         D\n",
            "A  1.000000  0.776646  0.748640  0.527063\n",
            "B  0.776646  1.000000  0.560611  0.378169\n",
            "C  0.748640  0.560611  1.000000  0.593995\n",
            "D  0.527063  0.378169  0.593995  1.000000\n",
            "          A         B         C         D\n",
            "A  1.000000  0.711274  0.734937  0.558845\n",
            "B  0.711274  1.000000  0.515412  0.463018\n",
            "C  0.734937  0.515412  1.000000  0.661212\n",
            "D  0.558845  0.463018  0.661212  1.000000\n",
            "          A         B         C         D\n",
            "A  1.000000  0.663276  0.727146  0.505333\n",
            "B  0.663276  1.000000  0.518125  0.366903\n",
            "C  0.727146  0.518125  1.000000  0.704234\n",
            "D  0.505333  0.366903  0.704234  1.000000\n",
            "          A         B         C         D\n",
            "A  1.000000  0.691711  0.803912  0.559357\n",
            "B  0.691711  1.000000  0.603719  0.423890\n",
            "C  0.803912  0.603719  1.000000  0.701108\n",
            "D  0.559357  0.423890  0.701108  1.000000\n",
            "          A         B         C         D\n",
            "A  1.000000  0.639344  0.596926  0.476039\n",
            "B  0.639344  1.000000  0.379080  0.291795\n",
            "C  0.596926  0.379080  1.000000  0.824317\n",
            "D  0.476039  0.291795  0.824317  1.000000\n"
          ],
          "name": "stdout"
        }
      ]
    },
    {
      "cell_type": "code",
      "metadata": {
        "scrolled": true,
        "id": "XaR15XoT8n6E",
        "colab_type": "code",
        "outputId": "3aa3b63a-e987-4411-fb53-95f72c63ade4",
        "colab": {
          "base_uri": "https://localhost:8080/",
          "height": 34
        }
      },
      "source": [
        "data1 = (data1 - data1.min()) / (data1.max() - data1.min())\n",
        "data2 = (data2 - data2.min()) / (data2.max() - data2.min())\n",
        "data3 = (data3 - data3.min()) / (data3.max() - data3.min())\n",
        "data4 = (data4 - data4.min()) / (data4.max() - data4.min())\n",
        "data1.max() , data1.min()"
      ],
      "execution_count": 13,
      "outputs": [
        {
          "output_type": "execute_result",
          "data": {
            "text/plain": [
              "(1.0, 0.0)"
            ]
          },
          "metadata": {
            "tags": []
          },
          "execution_count": 13
        }
      ]
    },
    {
      "cell_type": "code",
      "metadata": {
        "scrolled": false,
        "id": "1xlJ3ucr8n6J",
        "colab_type": "code",
        "outputId": "0dd31ea3-155c-489a-f4ef-b735a2340012",
        "colab": {
          "base_uri": "https://localhost:8080/",
          "height": 613
        }
      },
      "source": [
        " \n",
        "    \n",
        "plt.figure(1, figsize=(10,10))\n",
        "plt.scatter(np.arange(300000), data1 , c = 'blue',s = 1)\n",
        "plt.scatter(np.arange(300000), data2 , c = 'green',s = 1)\n",
        "plt.scatter(np.arange(300000), data3 , c = 'red',s = 10)\n",
        "plt.scatter(np.arange(300000), data4 , c = 'yellow',s = 1)\n",
        "\n",
        "plt.ylim(0, 1)\n"
      ],
      "execution_count": 14,
      "outputs": [
        {
          "output_type": "execute_result",
          "data": {
            "text/plain": [
              "(0, 1)"
            ]
          },
          "metadata": {
            "tags": []
          },
          "execution_count": 14
        },
        {
          "output_type": "display_data",
          "data": {
            "image/png": "[encoded data removed]",
            "text/plain": [
              "<Figure size 720x720 with 1 Axes>"
            ]
          },
          "metadata": {
            "tags": []
          }
        }
      ]
    },
    {
      "cell_type": "code",
      "metadata": {
        "id": "2eukF7lq8n6O",
        "colab_type": "code",
        "outputId": "ae7d6e07-9999-492d-e0bf-ed85b5f5e8ba",
        "colab": {
          "base_uri": "https://localhost:8080/",
          "height": 34
        }
      },
      "source": [
        "len(data1)"
      ],
      "execution_count": 15,
      "outputs": [
        {
          "output_type": "execute_result",
          "data": {
            "text/plain": [
              "300000"
            ]
          },
          "metadata": {
            "tags": []
          },
          "execution_count": 15
        }
      ]
    },
    {
      "cell_type": "markdown",
      "metadata": {
        "id": "WUuHZK5R8n6X",
        "colab_type": "text"
      },
      "source": [
        "### construct nn"
      ]
    },
    {
      "cell_type": "code",
      "metadata": {
        "id": "g4yF9gtM8n6Y",
        "colab_type": "code",
        "colab": {}
      },
      "source": [
        "for i in range(40):\n",
        "    T = pd.concat([df[i].A,df[i].B])\n",
        "    S = pd.concat([df[i].C,df[i].D])\n",
        "    dic1 = {'A':T , 'B': S}\n",
        "    t[i] = pd.DataFrame(dic1)\n",
        "    t[i].index = range(1,15001)"
      ],
      "execution_count": 0,
      "outputs": []
    },
    {
      "cell_type": "code",
      "metadata": {
        "id": "80SdPjFa8n6h",
        "colab_type": "code",
        "outputId": "6c066ee1-820f-4ff8-a9bb-0f78e665c59d",
        "colab": {
          "base_uri": "https://localhost:8080/",
          "height": 850
        }
      },
      "source": [
        "T = np.zeros((40, 15000, 2))\n",
        "for i in range(40):\n",
        "    T[i] = t[i].values\n",
        "T"
      ],
      "execution_count": 17,
      "outputs": [
        {
          "output_type": "execute_result",
          "data": {
            "text/plain": [
              "array([[[2.29657713e-05, 1.98152050e-05],\n",
              "        [2.25512117e-05, 1.65413600e-05],\n",
              "        [1.12122347e-05, 9.00513646e-06],\n",
              "        ...,\n",
              "        [5.53112018e-06, 1.38705042e-06],\n",
              "        [2.49113887e-06, 1.12200520e-06],\n",
              "        [4.11050389e-06, 2.46315690e-06]],\n",
              "\n",
              "       [[1.90828755e-05, 5.78274832e-06],\n",
              "        [7.82511474e-06, 1.29762099e-05],\n",
              "        [6.23351384e-06, 1.12671924e-05],\n",
              "        ...,\n",
              "        [4.04373462e-06, 6.17541114e-07],\n",
              "        [3.05047083e-06, 1.53228872e-06],\n",
              "        [4.40090019e-06, 1.12510181e-06]],\n",
              "\n",
              "       [[1.33143539e-05, 2.90081151e-06],\n",
              "        [1.17612376e-05, 2.85707201e-05],\n",
              "        [1.11893617e-05, 1.56680878e-05],\n",
              "        ...,\n",
              "        [6.82580713e-07, 2.18332221e-06],\n",
              "        [2.07701239e-06, 1.16757922e-06],\n",
              "        [1.43784577e-06, 5.07022683e-07]],\n",
              "\n",
              "       ...,\n",
              "\n",
              "       [[8.14204897e-06, 8.41420292e-06],\n",
              "        [2.71323674e-06, 2.85430684e-05],\n",
              "        [5.15385116e-06, 5.94335525e-06],\n",
              "        ...,\n",
              "        [3.18866548e-06, 2.38071965e-06],\n",
              "        [3.29024670e-06, 3.46954407e-06],\n",
              "        [2.76425100e-06, 3.30044024e-06]],\n",
              "\n",
              "       [[1.12222204e-05, 2.35285035e-05],\n",
              "        [1.34512173e-05, 1.19901696e-05],\n",
              "        [1.38399518e-05, 6.37618028e-06],\n",
              "        ...,\n",
              "        [4.20301399e-06, 2.64737842e-06],\n",
              "        [6.27415058e-06, 9.23636063e-07],\n",
              "        [7.33563196e-06, 3.23637556e-06]],\n",
              "\n",
              "       [[1.32987874e-05, 1.40765198e-05],\n",
              "        [1.35072724e-05, 9.64863353e-06],\n",
              "        [1.74383543e-05, 1.05715589e-05],\n",
              "        ...,\n",
              "        [6.26280895e-06, 1.86519036e-06],\n",
              "        [6.99671226e-06, 4.51843952e-06],\n",
              "        [4.81676564e-06, 1.74083803e-06]]])"
            ]
          },
          "metadata": {
            "tags": []
          },
          "execution_count": 17
        }
      ]
    },
    {
      "cell_type": "code",
      "metadata": {
        "scrolled": true,
        "id": "utE2S-nw8n6v",
        "colab_type": "code",
        "outputId": "105d44ca-613e-42c2-e5be-5c954ea684a6",
        "colab": {
          "base_uri": "https://localhost:8080/",
          "height": 34
        }
      },
      "source": [
        "x_tr, x_te , y_train, y_test = train_test_split(T, Y, test_size = 0.2, random_state= 1)\n",
        "\n",
        "print(x_tr.shape,x_te.shape)"
      ],
      "execution_count": 18,
      "outputs": [
        {
          "output_type": "stream",
          "text": [
            "(32, 15000, 2) (8, 15000, 2)\n"
          ],
          "name": "stdout"
        }
      ]
    },
    {
      "cell_type": "code",
      "metadata": {
        "id": "mYoSyJ5l8n65",
        "colab_type": "code",
        "colab": {}
      },
      "source": [
        "xtr = x_tr.reshape(len(x_tr), 2*15000)\n",
        "xte = x_te.reshape(len(x_te), 2*15000)"
      ],
      "execution_count": 0,
      "outputs": []
    },
    {
      "cell_type": "code",
      "metadata": {
        "id": "1_D9VCgQ8n69",
        "colab_type": "code",
        "outputId": "d8b29b18-8598-432f-db20-77f93f2dee18",
        "colab": {
          "base_uri": "https://localhost:8080/",
          "height": 34
        }
      },
      "source": [
        "xtr.shape"
      ],
      "execution_count": 20,
      "outputs": [
        {
          "output_type": "execute_result",
          "data": {
            "text/plain": [
              "(32, 30000)"
            ]
          },
          "metadata": {
            "tags": []
          },
          "execution_count": 20
        }
      ]
    },
    {
      "cell_type": "code",
      "metadata": {
        "id": "DSu3hbfS8n7C",
        "colab_type": "code",
        "outputId": "2710470a-679e-45c9-d13a-f909e7e3503c",
        "colab": {
          "base_uri": "https://localhost:8080/",
          "height": 34
        }
      },
      "source": [
        "import keras"
      ],
      "execution_count": 21,
      "outputs": [
        {
          "output_type": "stream",
          "text": [
            "Using TensorFlow backend.\n"
          ],
          "name": "stderr"
        }
      ]
    },
    {
      "cell_type": "code",
      "metadata": {
        "id": "D94xZu9v8n7H",
        "colab_type": "code",
        "colab": {}
      },
      "source": [
        "from keras.models import Input, Model, Sequential\n",
        "from keras.activations import selu,sigmoid, K\n",
        "from keras.layers import Dense, LSTM, RNN,Embedding,BatchNormalization, Dropout\n",
        "from keras.losses import MSE, categorical_crossentropy\n",
        "from keras.optimizers import Adam\n",
        "from keras.preprocessing import sequence"
      ],
      "execution_count": 0,
      "outputs": []
    },
    {
      "cell_type": "code",
      "metadata": {
        "id": "jHVEG3TZ8n7L",
        "colab_type": "code",
        "outputId": "b0a5e938-9782-44bc-f313-119b16c59864",
        "colab": {
          "base_uri": "https://localhost:8080/",
          "height": 139
        }
      },
      "source": [
        "model = Sequential()\n",
        "model.add(Embedding(30000, 100))\n",
        "\n",
        "model.add(BatchNormalization())\n",
        "\n",
        "model.add(LSTM(100,dropout=0.5, recurrent_dropout=0.5))\n",
        "model.add(BatchNormalization())\n",
        "model.add(Dropout(0.7))\n",
        "model.add(Dense(1, activation='selu'))"
      ],
      "execution_count": 23,
      "outputs": [
        {
          "output_type": "stream",
          "text": [
            "WARNING:tensorflow:From /usr/local/lib/python3.6/dist-packages/tensorflow/python/framework/op_def_library.py:263: colocate_with (from tensorflow.python.framework.ops) is deprecated and will be removed in a future version.\n",
            "Instructions for updating:\n",
            "Colocations handled automatically by placer.\n",
            "WARNING:tensorflow:From /usr/local/lib/python3.6/dist-packages/keras/backend/tensorflow_backend.py:3445: calling dropout (from tensorflow.python.ops.nn_ops) with keep_prob is deprecated and will be removed in a future version.\n",
            "Instructions for updating:\n",
            "Please use `rate` instead of `keep_prob`. Rate should be set to `rate = 1 - keep_prob`.\n"
          ],
          "name": "stdout"
        }
      ]
    },
    {
      "cell_type": "code",
      "metadata": {
        "id": "RvmwxBpa8n7S",
        "colab_type": "code",
        "outputId": "86ebf25e-b2f1-4d0b-d046-0311e4386c3d",
        "colab": {
          "base_uri": "https://localhost:8080/",
          "height": 340
        }
      },
      "source": [
        "model.summary()"
      ],
      "execution_count": 24,
      "outputs": [
        {
          "output_type": "stream",
          "text": [
            "_________________________________________________________________\n",
            "Layer (type)                 Output Shape              Param #   \n",
            "=================================================================\n",
            "embedding_1 (Embedding)      (None, None, 100)         3000000   \n",
            "_________________________________________________________________\n",
            "batch_normalization_1 (Batch (None, None, 100)         400       \n",
            "_________________________________________________________________\n",
            "lstm_1 (LSTM)                (None, 100)               80400     \n",
            "_________________________________________________________________\n",
            "batch_normalization_2 (Batch (None, 100)               400       \n",
            "_________________________________________________________________\n",
            "dropout_1 (Dropout)          (None, 100)               0         \n",
            "_________________________________________________________________\n",
            "dense_1 (Dense)              (None, 1)                 101       \n",
            "=================================================================\n",
            "Total params: 3,081,301\n",
            "Trainable params: 3,080,901\n",
            "Non-trainable params: 400\n",
            "_________________________________________________________________\n"
          ],
          "name": "stdout"
        }
      ]
    },
    {
      "cell_type": "code",
      "metadata": {
        "id": "ImF3L8Wg8n7X",
        "colab_type": "code",
        "colab": {}
      },
      "source": [
        "model.compile(loss = 'mse',\n",
        "             optimizer = Adam(lr = 0.00001))"
      ],
      "execution_count": 0,
      "outputs": []
    },
    {
      "cell_type": "code",
      "metadata": {
        "id": "0aoWSnVmIRFY",
        "colab_type": "code",
        "colab": {}
      },
      "source": [
        "xtr = (xtr - xtr.min()) / (xtr.max() - xtr.min())\n",
        "xte = (xte - xte.min()) / (xte.max() - xte.min())\n"
      ],
      "execution_count": 0,
      "outputs": []
    },
    {
      "cell_type": "code",
      "metadata": {
        "id": "PT4bemfx8n7a",
        "colab_type": "code",
        "outputId": "3d73f4fc-a1bb-4675-f24c-ddce703cf376",
        "colab": {
          "base_uri": "https://localhost:8080/",
          "height": 221
        }
      },
      "source": [
        "model.fit(xtr,y_train, batch_size = 10, epochs = ,\n",
        "         verbose = 1,\n",
        "         validation_data = (xte, y_test))"
      ],
      "execution_count": 31,
      "outputs": [
        {
          "output_type": "stream",
          "text": [
            "Train on 32 samples, validate on 8 samples\n",
            "Epoch 1/5\n",
            "32/32 [==============================] - 107s 3s/step - loss: 0.4421 - val_loss: 0.4012\n",
            "Epoch 2/5\n",
            "32/32 [==============================] - 108s 3s/step - loss: 0.4281 - val_loss: 0.4283\n",
            "Epoch 3/5\n",
            "32/32 [==============================] - 108s 3s/step - loss: 0.3772 - val_loss: 0.4410\n",
            "Epoch 4/5\n",
            "32/32 [==============================] - 107s 3s/step - loss: 0.4555 - val_loss: 0.4340\n",
            "Epoch 5/5\n",
            "32/32 [==============================] - 107s 3s/step - loss: 0.4634 - val_loss: 0.4167\n"
          ],
          "name": "stdout"
        },
        {
          "output_type": "execute_result",
          "data": {
            "text/plain": [
              "<keras.callbacks.History at 0x7fe4e94de208>"
            ]
          },
          "metadata": {
            "tags": []
          },
          "execution_count": 31
        }
      ]
    },
    {
      "cell_type": "code",
      "metadata": {
        "id": "s8P3dwALAdi-",
        "colab_type": "code",
        "colab": {
          "base_uri": "https://localhost:8080/",
          "height": 51
        },
        "outputId": "008838ae-3fb8-4659-a05c-3b2ce0bc6d90"
      },
      "source": [
        "  xte[0]"
      ],
      "execution_count": 28,
      "outputs": [
        {
          "output_type": "execute_result",
          "data": {
            "text/plain": [
              "array([0.01557627, 0.00339105, 0.01375892, ..., 0.00136294, 0.00167919,\n",
              "       0.00059   ])"
            ]
          },
          "metadata": {
            "tags": []
          },
          "execution_count": 28
        }
      ]
    },
    {
      "cell_type": "code",
      "metadata": {
        "id": "Fykd2UVHBE8B",
        "colab_type": "code",
        "colab": {
          "base_uri": "https://localhost:8080/",
          "height": 85
        },
        "outputId": "56cc1c35-f4fe-4c21-d271-291e55c040d5"
      },
      "source": [
        "y_train"
      ],
      "execution_count": 29,
      "outputs": [
        {
          "output_type": "execute_result",
          "data": {
            "text/plain": [
              "array([0.9264, 1.0736, 0.4737, 0.5549, 0.3311, 0.928 , 0.3708, 0.3477,\n",
              "       0.8483, 0.3246, 0.4251, 0.8454, 0.6266, 0.7436, 0.5636, 0.4922,\n",
              "       0.705 , 1.1181, 0.4732, 0.4438, 0.453 , 0.4044, 0.4189, 0.667 ,\n",
              "       0.306 , 0.5717, 0.6547, 0.5883, 0.5515, 0.3992, 0.7471, 0.4148])"
            ]
          },
          "metadata": {
            "tags": []
          },
          "execution_count": 29
        }
      ]
    },
    {
      "cell_type": "code",
      "metadata": {
        "id": "OikThPWyBPN0",
        "colab_type": "code",
        "colab": {
          "base_uri": "https://localhost:8080/",
          "height": 561
        },
        "outputId": "66579ed6-0d32-4345-aad8-c242acb40f6a"
      },
      "source": [
        "model.predict(xtr)"
      ],
      "execution_count": 32,
      "outputs": [
        {
          "output_type": "execute_result",
          "data": {
            "text/plain": [
              "array([[-0.04594714],\n",
              "       [-0.04594714],\n",
              "       [-0.04594714],\n",
              "       [-0.04594714],\n",
              "       [-0.04594714],\n",
              "       [-0.04594714],\n",
              "       [-0.04594714],\n",
              "       [-0.04594714],\n",
              "       [-0.04594714],\n",
              "       [-0.04594714],\n",
              "       [-0.04594714],\n",
              "       [-0.04594714],\n",
              "       [-0.04594714],\n",
              "       [-0.04594714],\n",
              "       [-0.04594714],\n",
              "       [-0.04594714],\n",
              "       [-0.04594714],\n",
              "       [-0.04594714],\n",
              "       [-0.04594714],\n",
              "       [-0.04594714],\n",
              "       [-0.04594714],\n",
              "       [-0.04594714],\n",
              "       [-0.04594714],\n",
              "       [-0.04594714],\n",
              "       [-0.04594714],\n",
              "       [-0.04594714],\n",
              "       [-0.04594714],\n",
              "       [-0.04594714],\n",
              "       [-0.04594714],\n",
              "       [-0.04594714],\n",
              "       [-0.04594714],\n",
              "       [-0.04594714]], dtype=float32)"
            ]
          },
          "metadata": {
            "tags": []
          },
          "execution_count": 32
        }
      ]
    },
    {
      "cell_type": "code",
      "metadata": {
        "id": "GY7k3yHeSJDA",
        "colab_type": "code",
        "colab": {}
      },
      "source": [
        ""
      ],
      "execution_count": 0,
      "outputs": []
    }
  ]
}