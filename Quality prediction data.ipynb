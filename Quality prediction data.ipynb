{
 "cells": [
  {
   "cell_type": "code",
   "execution_count": 1,
   "metadata": {
    "collapsed": true
   },
   "outputs": [],
   "source": [
    "% matplotlib inline\n",
    "import pandas as pd\n",
    "import numpy as np\n",
    "import matplotlib.pyplot as plt\n",
    "\n",
    "import os"
   ]
  },
  {
   "cell_type": "markdown",
   "metadata": {},
   "source": [
    "#### FILE PATH"
   ]
  },
  {
   "cell_type": "code",
   "execution_count": 2,
   "metadata": {
    "collapsed": false
   },
   "outputs": [],
   "source": [
    "path = \"C:\\\\Users\\\\pc\\\\Desktop\\\\project\\\\training_data\\\\\"\n",
    "files = os.listdir(path)\n",
    "pathl = []\n",
    "df = []\n",
    "for i in range(40):\n",
    "    pathl.append(path + files[i])\n",
    "    df.append(\"df%d\" % i)        "
   ]
  },
  {
   "cell_type": "code",
   "execution_count": 3,
   "metadata": {
    "collapsed": false
   },
   "outputs": [],
   "source": [
    "y = []\n",
    "for i in range(40):\n",
    "    #read files into list\n",
    "    df[i] = pd.read_excel(pathl[i])\n",
    "    \n",
    "    #dealing with y array\n",
    "    df_y = df[i].loc[7499]\n",
    "    y.append(np.float64(df_y.values[0][9:]))\n",
    "    df[i] = df[i][0:7499]\n",
    "    \n",
    "    #cleaning data\n",
    "    col_1 = pd.DataFrame(df[i].columns.values.reshape(1,4), index=[0], columns = list('ABCD'), dtype= float)\n",
    "    df[i].columns = list('ABCD')\n",
    "    df[i] = pd.concat([col_1, df[i]], axis=0)\n",
    "    df[i].index = range(1,7501)\n",
    "    \n",
    "    #dtype of COL_A is 'object', change into float ???????\n",
    "    df[i].A = pd.to_numeric(df[i].A)"
   ]
  },
  {
   "cell_type": "markdown",
   "metadata": {},
   "source": [
    "#### Get y_array (predicted value array)"
   ]
  },
  {
   "cell_type": "code",
   "execution_count": 4,
   "metadata": {
    "collapsed": false
   },
   "outputs": [
    {
     "data": {
      "text/plain": [
       "array([ 0.306 ,  0.4189,  0.5047,  0.4993,  0.8483,  0.6547,  0.4732,\n",
       "        0.453 ,  0.3992,  0.5515,  0.4251,  0.5883,  0.7471,  0.4438,\n",
       "        0.3246,  0.5717,  0.667 ,  0.5549,  0.705 ,  0.9264,  0.4922,\n",
       "        0.7149,  0.6478,  0.6266,  0.7436,  1.1181,  1.0736,  0.6848,\n",
       "        0.3477,  0.6367,  0.3311,  0.5747,  0.4737,  0.3708,  0.5636,\n",
       "        0.8454,  0.928 ,  0.4148,  0.4044,  0.4901])"
      ]
     },
     "execution_count": 4,
     "metadata": {},
     "output_type": "execute_result"
    }
   ],
   "source": [
    "np.array(y,dtype=float)"
   ]
  },
  {
   "cell_type": "markdown",
   "metadata": {},
   "source": [
    "#### Get Cleaned data and X_array (training data) "
   ]
  },
  {
   "cell_type": "code",
   "execution_count": 5,
   "metadata": {
    "collapsed": true
   },
   "outputs": [
    {
     "data": {
      "text/html": [
       "<div>\n",
       "<table border=\"1\" class=\"dataframe\">\n",
       "  <thead>\n",
       "    <tr style=\"text-align: right;\">\n",
       "      <th></th>\n",
       "      <th>A</th>\n",
       "      <th>B</th>\n",
       "      <th>C</th>\n",
       "      <th>D</th>\n",
       "    </tr>\n",
       "  </thead>\n",
       "  <tbody>\n",
       "    <tr>\n",
       "      <th>count</th>\n",
       "      <td>7.500000e+03</td>\n",
       "      <td>7.500000e+03</td>\n",
       "      <td>7.500000e+03</td>\n",
       "      <td>7.500000e+03</td>\n",
       "    </tr>\n",
       "    <tr>\n",
       "      <th>mean</th>\n",
       "      <td>2.798203e-06</td>\n",
       "      <td>2.867940e-06</td>\n",
       "      <td>2.724916e-06</td>\n",
       "      <td>1.806650e-06</td>\n",
       "    </tr>\n",
       "    <tr>\n",
       "      <th>std</th>\n",
       "      <td>8.643169e-06</td>\n",
       "      <td>6.945007e-06</td>\n",
       "      <td>3.662671e-06</td>\n",
       "      <td>2.355944e-06</td>\n",
       "    </tr>\n",
       "    <tr>\n",
       "      <th>min</th>\n",
       "      <td>1.573569e-08</td>\n",
       "      <td>2.150493e-08</td>\n",
       "      <td>2.767096e-08</td>\n",
       "      <td>3.411193e-08</td>\n",
       "    </tr>\n",
       "    <tr>\n",
       "      <th>25%</th>\n",
       "      <td>8.920254e-07</td>\n",
       "      <td>9.457329e-07</td>\n",
       "      <td>1.175372e-06</td>\n",
       "      <td>7.952370e-07</td>\n",
       "    </tr>\n",
       "    <tr>\n",
       "      <th>50%</th>\n",
       "      <td>1.509237e-06</td>\n",
       "      <td>1.610652e-06</td>\n",
       "      <td>1.868123e-06</td>\n",
       "      <td>1.283463e-06</td>\n",
       "    </tr>\n",
       "    <tr>\n",
       "      <th>75%</th>\n",
       "      <td>2.541986e-06</td>\n",
       "      <td>2.722913e-06</td>\n",
       "      <td>2.847342e-06</td>\n",
       "      <td>1.979565e-06</td>\n",
       "    </tr>\n",
       "    <tr>\n",
       "      <th>max</th>\n",
       "      <td>3.522643e-04</td>\n",
       "      <td>2.220868e-04</td>\n",
       "      <td>5.263960e-05</td>\n",
       "      <td>3.069520e-05</td>\n",
       "    </tr>\n",
       "  </tbody>\n",
       "</table>\n",
       "</div>"
      ],
      "text/plain": [
       "                  A             B             C             D\n",
       "count  7.500000e+03  7.500000e+03  7.500000e+03  7.500000e+03\n",
       "mean   2.798203e-06  2.867940e-06  2.724916e-06  1.806650e-06\n",
       "std    8.643169e-06  6.945007e-06  3.662671e-06  2.355944e-06\n",
       "min    1.573569e-08  2.150493e-08  2.767096e-08  3.411193e-08\n",
       "25%    8.920254e-07  9.457329e-07  1.175372e-06  7.952370e-07\n",
       "50%    1.509237e-06  1.610652e-06  1.868123e-06  1.283463e-06\n",
       "75%    2.541986e-06  2.722913e-06  2.847342e-06  1.979565e-06\n",
       "max    3.522643e-04  2.220868e-04  5.263960e-05  3.069520e-05"
      ]
     },
     "execution_count": 5,
     "metadata": {},
     "output_type": "execute_result"
    }
   ],
   "source": [
    "df[0].describe()"
   ]
  },
  {
   "cell_type": "code",
   "execution_count": 59,
   "metadata": {
    "collapsed": true
   },
   "outputs": [
    {
     "data": {
      "text/plain": [
       "array([[[  2.29657713e-05,   2.12655233e-05,   1.98152050e-05,\n",
       "           2.05591031e-05],\n",
       "        [  2.25512117e-05,   2.04522481e-05,   1.65413600e-05,\n",
       "           3.75979720e-06],\n",
       "        [  1.12122347e-05,   1.06301152e-05,   9.00513646e-06,\n",
       "           8.94675372e-07],\n",
       "        ..., \n",
       "        [  5.54606497e-06,   5.53112018e-06,   1.20886168e-06,\n",
       "           1.38705042e-06],\n",
       "        [  1.83502828e-06,   2.49113887e-06,   1.40519630e-06,\n",
       "           1.12200520e-06],\n",
       "        [  5.03722061e-06,   4.11050389e-06,   2.75695883e-06,\n",
       "           2.46315690e-06]],\n",
       "\n",
       "       [[  1.90828755e-05,   1.26615728e-05,   5.78274832e-06,\n",
       "           6.62764342e-06],\n",
       "        [  7.82511474e-06,   7.99490305e-06,   1.29762099e-05,\n",
       "           6.29210757e-06],\n",
       "        [  6.23351384e-06,   8.05313479e-06,   1.12671924e-05,\n",
       "           7.28125021e-06],\n",
       "        ..., \n",
       "        [  3.80067341e-06,   4.04373462e-06,   1.54675334e-06,\n",
       "           6.17541114e-07],\n",
       "        [  3.43747548e-06,   3.05047083e-06,   1.93052147e-06,\n",
       "           1.53228872e-06],\n",
       "        [  3.64677161e-06,   4.40090019e-06,   1.20959709e-06,\n",
       "           1.12510181e-06]],\n",
       "\n",
       "       [[  1.33143539e-05,   9.22924659e-06,   2.90081151e-06,\n",
       "           8.99624176e-06],\n",
       "        [  1.17612376e-05,   1.03971902e-05,   2.85707201e-05,\n",
       "           1.48816407e-05],\n",
       "        [  1.11893617e-05,   1.05154104e-05,   1.56680878e-05,\n",
       "           1.25838920e-05],\n",
       "        ..., \n",
       "        [  9.12298301e-07,   6.82580713e-07,   1.63346981e-06,\n",
       "           2.18332221e-06],\n",
       "        [  2.79936039e-06,   2.07701239e-06,   1.17640055e-06,\n",
       "           1.16757922e-06],\n",
       "        [  1.42697068e-06,   1.43784577e-06,   5.32982824e-07,\n",
       "           5.07022683e-07]],\n",
       "\n",
       "       ..., \n",
       "       [[  8.14204897e-06,   6.07888683e-06,   8.41420292e-06,\n",
       "           6.38656170e-06],\n",
       "        [  2.71323674e-06,   5.27608511e-06,   2.85430684e-05,\n",
       "           1.71824464e-05],\n",
       "        [  5.15385116e-06,   1.94277478e-06,   5.94335525e-06,\n",
       "           3.17341819e-06],\n",
       "        ..., \n",
       "        [  3.47208452e-06,   3.18866548e-06,   3.72541348e-07,\n",
       "           2.38071965e-06],\n",
       "        [  3.61924926e-06,   3.29024670e-06,   1.42013974e-06,\n",
       "           3.46954407e-06],\n",
       "        [  4.11289630e-06,   2.76425100e-06,   1.68265740e-06,\n",
       "           3.30044024e-06]],\n",
       "\n",
       "       [[  1.12222204e-05,   7.81741630e-06,   2.35285035e-05,\n",
       "           1.92659711e-05],\n",
       "        [  1.34512173e-05,   4.13933498e-06,   1.19901696e-05,\n",
       "           1.33549897e-05],\n",
       "        [  1.38399518e-05,   7.15106736e-06,   6.37618028e-06,\n",
       "           5.18750589e-06],\n",
       "        ..., \n",
       "        [  6.49603904e-06,   4.20301399e-06,   3.35073865e-06,\n",
       "           2.64737842e-06],\n",
       "        [  6.31242468e-06,   6.27415058e-06,   1.65020833e-06,\n",
       "           9.23636063e-07],\n",
       "        [  8.48710710e-06,   7.33563196e-06,   5.13364156e-06,\n",
       "           3.23637556e-06]],\n",
       "\n",
       "       [[  1.32987874e-05,   4.53743195e-06,   1.40765198e-05,\n",
       "           1.60213254e-05],\n",
       "        [  1.35072724e-05,   6.30326969e-06,   9.64863353e-06,\n",
       "           9.67455760e-06],\n",
       "        [  1.74383543e-05,   6.69714119e-06,   1.05715589e-05,\n",
       "           1.08078729e-05],\n",
       "        ..., \n",
       "        [  6.67514637e-06,   6.26280895e-06,   3.80662255e-06,\n",
       "           1.86519036e-06],\n",
       "        [  8.78149407e-06,   6.99671226e-06,   2.65606434e-06,\n",
       "           4.51843952e-06],\n",
       "        [  5.62713731e-06,   4.81676564e-06,   2.18235888e-06,\n",
       "           1.74083803e-06]]])"
      ]
     },
     "execution_count": 59,
     "metadata": {},
     "output_type": "execute_result"
    }
   ],
   "source": [
    "X = np.zeros((40, 7500, 4))\n",
    "for i in range(40):\n",
    "    X[i] = df[i].values\n",
    "X"
   ]
  }
 ],
 "metadata": {
  "kernelspec": {
   "display_name": "Python 3",
   "language": "python",
   "name": "python3"
  },
  "language_info": {
   "codemirror_mode": {
    "name": "ipython",
    "version": 3
   },
   "file_extension": ".py",
   "mimetype": "text/x-python",
   "name": "python",
   "nbconvert_exporter": "python",
   "pygments_lexer": "ipython3",
   "version": "3.6.0"
  }
 },
 "nbformat": 4,
 "nbformat_minor": 2
}
